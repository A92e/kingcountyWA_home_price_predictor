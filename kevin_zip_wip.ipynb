{
 "cells": [
  {
   "cell_type": "code",
   "execution_count": null,
   "metadata": {},
   "outputs": [],
   "source": [
    "from sklearn.model_selection import KFold # import KFold\n",
    "X = np.array([[1, 2], [3, 4], [1, 2], [3, 4]]) # create an array\n",
    "y = np.array([1, 2, 3, 4]) # Create another array\n",
    "kf = KFold(n_splits=2) # Define the split - into 2 folds \n",
    "kf.get_n_splits(X) # returns the number of splitting iterations in the cross-validator\n",
    "print(kf) \n",
    "KFold(n_splits=2, random_state=None, shuffle=False)"
   ]
  },
  {
   "cell_type": "code",
   "execution_count": 1,
   "metadata": {},
   "outputs": [
    {
     "ename": "SyntaxError",
     "evalue": "invalid character in identifier (<ipython-input-1-3a5ab08e0c38>, line 2)",
     "output_type": "error",
     "traceback": [
      "\u001b[0;36m  File \u001b[0;32m\"<ipython-input-1-3a5ab08e0c38>\"\u001b[0;36m, line \u001b[0;32m2\u001b[0m\n\u001b[0;31m    print(“TRAIN:”, train_index, “TEST:”, test_index)\u001b[0m\n\u001b[0m               ^\u001b[0m\n\u001b[0;31mSyntaxError\u001b[0m\u001b[0;31m:\u001b[0m invalid character in identifier\n"
     ]
    }
   ],
   "source": [
    "for train_index, test_index in kf.split(X):\n",
    " print(“TRAIN:”, train_index, “TEST:”, test_index)\n",
    " X_train, X_test = X[train_index], X[test_index]\n",
    " y_train, y_test = y[train_index], y[test_index]\n",
    "('TRAIN:', array([2, 3]), 'TEST:', array([0, 1]))\n",
    "('TRAIN:', array([0, 1]), 'TEST:', array([2, 3]))"
   ]
  },
  {
   "cell_type": "code",
   "execution_count": 1,
   "metadata": {},
   "outputs": [],
   "source": [
    "import pandas as pd\n",
    "import matplotlib.pyplot as plt\n",
    "%matplotlib inline\n",
    "import seaborn as sns\n",
    "import numpy as np\n",
    "\n",
    "import statsmodels.api as sm\n",
    "from statsmodels.formula.api import ols\n",
    "\n",
    "from sklearn.preprocessing import StandardScaler\n",
    "from sklearn.linear_model import LinearRegression\n",
    "from sklearn.model_selection import train_test_split\n",
    "import sklearn.metrics as metrics\n",
    "from math import sqrt\n",
    "\n"
   ]
  },
  {
   "cell_type": "code",
   "execution_count": 2,
   "metadata": {},
   "outputs": [],
   "source": [
    "from haversine import haversine"
   ]
  },
  {
   "cell_type": "code",
   "execution_count": 3,
   "metadata": {},
   "outputs": [],
   "source": [
    "df = pd.read_csv('house_data_cleaned.csv')\n"
   ]
  },
  {
   "cell_type": "code",
   "execution_count": 8,
   "metadata": {},
   "outputs": [
    {
     "data": {
      "text/plain": [
       "[98072,\n",
       " 98027,\n",
       " 98119,\n",
       " 98029,\n",
       " 98052,\n",
       " 98005,\n",
       " 98117,\n",
       " 98065,\n",
       " 98105,\n",
       " 98119,\n",
       " 98006,\n",
       " 98121,\n",
       " 98053,\n",
       " 98074,\n",
       " 98033,\n",
       " 98075,\n",
       " 98112,\n",
       " 98004,\n",
       " 98040,\n",
       " 98039]"
      ]
     },
     "execution_count": 8,
     "metadata": {},
     "output_type": "execute_result"
    }
   ],
   "source": [
    "top_20_zips_seattle_area = [98072, 98027, 98119,98029,98052, 98005, 98117,98065, 98105,98119,98006, 98121, 98053,98074,98033,98075,98112,98004,98040,98039]\n",
    "top_20_zips_seattle_area"
   ]
  },
  {
   "cell_type": "code",
   "execution_count": 6,
   "metadata": {},
   "outputs": [
    {
     "data": {
      "text/html": [
       "<div>\n",
       "<style scoped>\n",
       "    .dataframe tbody tr th:only-of-type {\n",
       "        vertical-align: middle;\n",
       "    }\n",
       "\n",
       "    .dataframe tbody tr th {\n",
       "        vertical-align: top;\n",
       "    }\n",
       "\n",
       "    .dataframe thead th {\n",
       "        text-align: right;\n",
       "    }\n",
       "</style>\n",
       "<table border=\"1\" class=\"dataframe\">\n",
       "  <thead>\n",
       "    <tr style=\"text-align: right;\">\n",
       "      <th></th>\n",
       "      <th>0</th>\n",
       "      <th>1</th>\n",
       "      <th>2</th>\n",
       "      <th>3</th>\n",
       "      <th>4</th>\n",
       "    </tr>\n",
       "  </thead>\n",
       "  <tbody>\n",
       "    <tr>\n",
       "      <th>id</th>\n",
       "      <td>7129300520</td>\n",
       "      <td>6414100192</td>\n",
       "      <td>5631500400</td>\n",
       "      <td>2487200875</td>\n",
       "      <td>1954400510</td>\n",
       "    </tr>\n",
       "    <tr>\n",
       "      <th>date</th>\n",
       "      <td>2014-10-13</td>\n",
       "      <td>2014-12-09</td>\n",
       "      <td>2015-02-25</td>\n",
       "      <td>2014-12-09</td>\n",
       "      <td>2015-02-18</td>\n",
       "    </tr>\n",
       "    <tr>\n",
       "      <th>price</th>\n",
       "      <td>221900</td>\n",
       "      <td>538000</td>\n",
       "      <td>180000</td>\n",
       "      <td>604000</td>\n",
       "      <td>510000</td>\n",
       "    </tr>\n",
       "    <tr>\n",
       "      <th>bedrooms</th>\n",
       "      <td>3</td>\n",
       "      <td>3</td>\n",
       "      <td>2</td>\n",
       "      <td>4</td>\n",
       "      <td>3</td>\n",
       "    </tr>\n",
       "    <tr>\n",
       "      <th>bathrooms</th>\n",
       "      <td>1</td>\n",
       "      <td>2.25</td>\n",
       "      <td>1</td>\n",
       "      <td>3</td>\n",
       "      <td>2</td>\n",
       "    </tr>\n",
       "    <tr>\n",
       "      <th>sqft_living</th>\n",
       "      <td>1180</td>\n",
       "      <td>2570</td>\n",
       "      <td>770</td>\n",
       "      <td>1960</td>\n",
       "      <td>1680</td>\n",
       "    </tr>\n",
       "    <tr>\n",
       "      <th>sqft_lot</th>\n",
       "      <td>5650</td>\n",
       "      <td>7242</td>\n",
       "      <td>10000</td>\n",
       "      <td>5000</td>\n",
       "      <td>8080</td>\n",
       "    </tr>\n",
       "    <tr>\n",
       "      <th>floors</th>\n",
       "      <td>1</td>\n",
       "      <td>2</td>\n",
       "      <td>1</td>\n",
       "      <td>1</td>\n",
       "      <td>1</td>\n",
       "    </tr>\n",
       "    <tr>\n",
       "      <th>waterfront</th>\n",
       "      <td>0</td>\n",
       "      <td>0</td>\n",
       "      <td>0</td>\n",
       "      <td>0</td>\n",
       "      <td>0</td>\n",
       "    </tr>\n",
       "    <tr>\n",
       "      <th>view</th>\n",
       "      <td>0</td>\n",
       "      <td>0</td>\n",
       "      <td>0</td>\n",
       "      <td>0</td>\n",
       "      <td>0</td>\n",
       "    </tr>\n",
       "    <tr>\n",
       "      <th>condition</th>\n",
       "      <td>3</td>\n",
       "      <td>3</td>\n",
       "      <td>3</td>\n",
       "      <td>5</td>\n",
       "      <td>3</td>\n",
       "    </tr>\n",
       "    <tr>\n",
       "      <th>grade</th>\n",
       "      <td>7</td>\n",
       "      <td>7</td>\n",
       "      <td>6</td>\n",
       "      <td>7</td>\n",
       "      <td>8</td>\n",
       "    </tr>\n",
       "    <tr>\n",
       "      <th>sqft_above</th>\n",
       "      <td>1180</td>\n",
       "      <td>2170</td>\n",
       "      <td>770</td>\n",
       "      <td>1050</td>\n",
       "      <td>1680</td>\n",
       "    </tr>\n",
       "    <tr>\n",
       "      <th>sqft_basement</th>\n",
       "      <td>NaN</td>\n",
       "      <td>400</td>\n",
       "      <td>NaN</td>\n",
       "      <td>910</td>\n",
       "      <td>NaN</td>\n",
       "    </tr>\n",
       "    <tr>\n",
       "      <th>yr_built</th>\n",
       "      <td>1955</td>\n",
       "      <td>1951</td>\n",
       "      <td>1933</td>\n",
       "      <td>1965</td>\n",
       "      <td>1987</td>\n",
       "    </tr>\n",
       "    <tr>\n",
       "      <th>yr_renovated</th>\n",
       "      <td>NaN</td>\n",
       "      <td>1991</td>\n",
       "      <td>NaN</td>\n",
       "      <td>NaN</td>\n",
       "      <td>NaN</td>\n",
       "    </tr>\n",
       "    <tr>\n",
       "      <th>zipcode</th>\n",
       "      <td>98178</td>\n",
       "      <td>98125</td>\n",
       "      <td>98028</td>\n",
       "      <td>98136</td>\n",
       "      <td>98074</td>\n",
       "    </tr>\n",
       "    <tr>\n",
       "      <th>lat</th>\n",
       "      <td>47.5112</td>\n",
       "      <td>47.721</td>\n",
       "      <td>47.7379</td>\n",
       "      <td>47.5208</td>\n",
       "      <td>47.6168</td>\n",
       "    </tr>\n",
       "    <tr>\n",
       "      <th>long</th>\n",
       "      <td>-122.257</td>\n",
       "      <td>-122.319</td>\n",
       "      <td>-122.233</td>\n",
       "      <td>-122.393</td>\n",
       "      <td>-122.045</td>\n",
       "    </tr>\n",
       "    <tr>\n",
       "      <th>sqft_living15</th>\n",
       "      <td>1340</td>\n",
       "      <td>1690</td>\n",
       "      <td>2720</td>\n",
       "      <td>1360</td>\n",
       "      <td>1800</td>\n",
       "    </tr>\n",
       "    <tr>\n",
       "      <th>sqft_lot15</th>\n",
       "      <td>5650</td>\n",
       "      <td>7639</td>\n",
       "      <td>8062</td>\n",
       "      <td>5000</td>\n",
       "      <td>7503</td>\n",
       "    </tr>\n",
       "    <tr>\n",
       "      <th>bed_bath_sum</th>\n",
       "      <td>4</td>\n",
       "      <td>5.25</td>\n",
       "      <td>3</td>\n",
       "      <td>7</td>\n",
       "      <td>5</td>\n",
       "    </tr>\n",
       "    <tr>\n",
       "      <th>renovation_yes</th>\n",
       "      <td>0</td>\n",
       "      <td>1</td>\n",
       "      <td>0</td>\n",
       "      <td>0</td>\n",
       "      <td>0</td>\n",
       "    </tr>\n",
       "    <tr>\n",
       "      <th>sqft_living_plus_lot</th>\n",
       "      <td>6830</td>\n",
       "      <td>9812</td>\n",
       "      <td>10770</td>\n",
       "      <td>6960</td>\n",
       "      <td>9760</td>\n",
       "    </tr>\n",
       "    <tr>\n",
       "      <th>sqft_living_plus_lot_15</th>\n",
       "      <td>6990</td>\n",
       "      <td>9329</td>\n",
       "      <td>10782</td>\n",
       "      <td>6360</td>\n",
       "      <td>9303</td>\n",
       "    </tr>\n",
       "    <tr>\n",
       "      <th>lat_long</th>\n",
       "      <td>(47.5112, -122.257)</td>\n",
       "      <td>(47.721, -122.319)</td>\n",
       "      <td>(47.7379, -122.233)</td>\n",
       "      <td>(47.5208, -122.393)</td>\n",
       "      <td>(47.6168, -122.045)</td>\n",
       "    </tr>\n",
       "    <tr>\n",
       "      <th>distance_from_flatiron</th>\n",
       "      <td>7.71487</td>\n",
       "      <td>7.76648</td>\n",
       "      <td>10.1079</td>\n",
       "      <td>6.65534</td>\n",
       "      <td>13.5784</td>\n",
       "    </tr>\n",
       "    <tr>\n",
       "      <th>98001</th>\n",
       "      <td>0</td>\n",
       "      <td>0</td>\n",
       "      <td>0</td>\n",
       "      <td>0</td>\n",
       "      <td>0</td>\n",
       "    </tr>\n",
       "    <tr>\n",
       "      <th>98002</th>\n",
       "      <td>0</td>\n",
       "      <td>0</td>\n",
       "      <td>0</td>\n",
       "      <td>0</td>\n",
       "      <td>0</td>\n",
       "    </tr>\n",
       "    <tr>\n",
       "      <th>98003</th>\n",
       "      <td>0</td>\n",
       "      <td>0</td>\n",
       "      <td>0</td>\n",
       "      <td>0</td>\n",
       "      <td>0</td>\n",
       "    </tr>\n",
       "    <tr>\n",
       "      <th>...</th>\n",
       "      <td>...</td>\n",
       "      <td>...</td>\n",
       "      <td>...</td>\n",
       "      <td>...</td>\n",
       "      <td>...</td>\n",
       "    </tr>\n",
       "    <tr>\n",
       "      <th>98092</th>\n",
       "      <td>0</td>\n",
       "      <td>0</td>\n",
       "      <td>0</td>\n",
       "      <td>0</td>\n",
       "      <td>0</td>\n",
       "    </tr>\n",
       "    <tr>\n",
       "      <th>98102</th>\n",
       "      <td>0</td>\n",
       "      <td>0</td>\n",
       "      <td>0</td>\n",
       "      <td>0</td>\n",
       "      <td>0</td>\n",
       "    </tr>\n",
       "    <tr>\n",
       "      <th>98103</th>\n",
       "      <td>0</td>\n",
       "      <td>0</td>\n",
       "      <td>0</td>\n",
       "      <td>0</td>\n",
       "      <td>0</td>\n",
       "    </tr>\n",
       "    <tr>\n",
       "      <th>98105</th>\n",
       "      <td>0</td>\n",
       "      <td>0</td>\n",
       "      <td>0</td>\n",
       "      <td>0</td>\n",
       "      <td>0</td>\n",
       "    </tr>\n",
       "    <tr>\n",
       "      <th>98106</th>\n",
       "      <td>0</td>\n",
       "      <td>0</td>\n",
       "      <td>0</td>\n",
       "      <td>0</td>\n",
       "      <td>0</td>\n",
       "    </tr>\n",
       "    <tr>\n",
       "      <th>98107</th>\n",
       "      <td>0</td>\n",
       "      <td>0</td>\n",
       "      <td>0</td>\n",
       "      <td>0</td>\n",
       "      <td>0</td>\n",
       "    </tr>\n",
       "    <tr>\n",
       "      <th>98108</th>\n",
       "      <td>0</td>\n",
       "      <td>0</td>\n",
       "      <td>0</td>\n",
       "      <td>0</td>\n",
       "      <td>0</td>\n",
       "    </tr>\n",
       "    <tr>\n",
       "      <th>98109</th>\n",
       "      <td>0</td>\n",
       "      <td>0</td>\n",
       "      <td>0</td>\n",
       "      <td>0</td>\n",
       "      <td>0</td>\n",
       "    </tr>\n",
       "    <tr>\n",
       "      <th>98112</th>\n",
       "      <td>0</td>\n",
       "      <td>0</td>\n",
       "      <td>0</td>\n",
       "      <td>0</td>\n",
       "      <td>0</td>\n",
       "    </tr>\n",
       "    <tr>\n",
       "      <th>98115</th>\n",
       "      <td>0</td>\n",
       "      <td>0</td>\n",
       "      <td>0</td>\n",
       "      <td>0</td>\n",
       "      <td>0</td>\n",
       "    </tr>\n",
       "    <tr>\n",
       "      <th>98116</th>\n",
       "      <td>0</td>\n",
       "      <td>0</td>\n",
       "      <td>0</td>\n",
       "      <td>0</td>\n",
       "      <td>0</td>\n",
       "    </tr>\n",
       "    <tr>\n",
       "      <th>98117</th>\n",
       "      <td>0</td>\n",
       "      <td>0</td>\n",
       "      <td>0</td>\n",
       "      <td>0</td>\n",
       "      <td>0</td>\n",
       "    </tr>\n",
       "    <tr>\n",
       "      <th>98118</th>\n",
       "      <td>0</td>\n",
       "      <td>0</td>\n",
       "      <td>0</td>\n",
       "      <td>0</td>\n",
       "      <td>0</td>\n",
       "    </tr>\n",
       "    <tr>\n",
       "      <th>98119</th>\n",
       "      <td>0</td>\n",
       "      <td>0</td>\n",
       "      <td>0</td>\n",
       "      <td>0</td>\n",
       "      <td>0</td>\n",
       "    </tr>\n",
       "    <tr>\n",
       "      <th>98122</th>\n",
       "      <td>0</td>\n",
       "      <td>0</td>\n",
       "      <td>0</td>\n",
       "      <td>0</td>\n",
       "      <td>0</td>\n",
       "    </tr>\n",
       "    <tr>\n",
       "      <th>98125</th>\n",
       "      <td>0</td>\n",
       "      <td>1</td>\n",
       "      <td>0</td>\n",
       "      <td>0</td>\n",
       "      <td>0</td>\n",
       "    </tr>\n",
       "    <tr>\n",
       "      <th>98126</th>\n",
       "      <td>0</td>\n",
       "      <td>0</td>\n",
       "      <td>0</td>\n",
       "      <td>0</td>\n",
       "      <td>0</td>\n",
       "    </tr>\n",
       "    <tr>\n",
       "      <th>98133</th>\n",
       "      <td>0</td>\n",
       "      <td>0</td>\n",
       "      <td>0</td>\n",
       "      <td>0</td>\n",
       "      <td>0</td>\n",
       "    </tr>\n",
       "    <tr>\n",
       "      <th>98136</th>\n",
       "      <td>0</td>\n",
       "      <td>0</td>\n",
       "      <td>0</td>\n",
       "      <td>1</td>\n",
       "      <td>0</td>\n",
       "    </tr>\n",
       "    <tr>\n",
       "      <th>98144</th>\n",
       "      <td>0</td>\n",
       "      <td>0</td>\n",
       "      <td>0</td>\n",
       "      <td>0</td>\n",
       "      <td>0</td>\n",
       "    </tr>\n",
       "    <tr>\n",
       "      <th>98146</th>\n",
       "      <td>0</td>\n",
       "      <td>0</td>\n",
       "      <td>0</td>\n",
       "      <td>0</td>\n",
       "      <td>0</td>\n",
       "    </tr>\n",
       "    <tr>\n",
       "      <th>98148</th>\n",
       "      <td>0</td>\n",
       "      <td>0</td>\n",
       "      <td>0</td>\n",
       "      <td>0</td>\n",
       "      <td>0</td>\n",
       "    </tr>\n",
       "    <tr>\n",
       "      <th>98155</th>\n",
       "      <td>0</td>\n",
       "      <td>0</td>\n",
       "      <td>0</td>\n",
       "      <td>0</td>\n",
       "      <td>0</td>\n",
       "    </tr>\n",
       "    <tr>\n",
       "      <th>98166</th>\n",
       "      <td>0</td>\n",
       "      <td>0</td>\n",
       "      <td>0</td>\n",
       "      <td>0</td>\n",
       "      <td>0</td>\n",
       "    </tr>\n",
       "    <tr>\n",
       "      <th>98168</th>\n",
       "      <td>0</td>\n",
       "      <td>0</td>\n",
       "      <td>0</td>\n",
       "      <td>0</td>\n",
       "      <td>0</td>\n",
       "    </tr>\n",
       "    <tr>\n",
       "      <th>98177</th>\n",
       "      <td>0</td>\n",
       "      <td>0</td>\n",
       "      <td>0</td>\n",
       "      <td>0</td>\n",
       "      <td>0</td>\n",
       "    </tr>\n",
       "    <tr>\n",
       "      <th>98178</th>\n",
       "      <td>1</td>\n",
       "      <td>0</td>\n",
       "      <td>0</td>\n",
       "      <td>0</td>\n",
       "      <td>0</td>\n",
       "    </tr>\n",
       "    <tr>\n",
       "      <th>98188</th>\n",
       "      <td>0</td>\n",
       "      <td>0</td>\n",
       "      <td>0</td>\n",
       "      <td>0</td>\n",
       "      <td>0</td>\n",
       "    </tr>\n",
       "    <tr>\n",
       "      <th>98198</th>\n",
       "      <td>0</td>\n",
       "      <td>0</td>\n",
       "      <td>0</td>\n",
       "      <td>0</td>\n",
       "      <td>0</td>\n",
       "    </tr>\n",
       "    <tr>\n",
       "      <th>98199</th>\n",
       "      <td>0</td>\n",
       "      <td>0</td>\n",
       "      <td>0</td>\n",
       "      <td>0</td>\n",
       "      <td>0</td>\n",
       "    </tr>\n",
       "  </tbody>\n",
       "</table>\n",
       "<p>97 rows × 5 columns</p>\n",
       "</div>"
      ],
      "text/plain": [
       "                                           0                   1  \\\n",
       "id                                7129300520          6414100192   \n",
       "date                              2014-10-13          2014-12-09   \n",
       "price                                 221900              538000   \n",
       "bedrooms                                   3                   3   \n",
       "bathrooms                                  1                2.25   \n",
       "sqft_living                             1180                2570   \n",
       "sqft_lot                                5650                7242   \n",
       "floors                                     1                   2   \n",
       "waterfront                                 0                   0   \n",
       "view                                       0                   0   \n",
       "condition                                  3                   3   \n",
       "grade                                      7                   7   \n",
       "sqft_above                              1180                2170   \n",
       "sqft_basement                            NaN                 400   \n",
       "yr_built                                1955                1951   \n",
       "yr_renovated                             NaN                1991   \n",
       "zipcode                                98178               98125   \n",
       "lat                                  47.5112              47.721   \n",
       "long                                -122.257            -122.319   \n",
       "sqft_living15                           1340                1690   \n",
       "sqft_lot15                              5650                7639   \n",
       "bed_bath_sum                               4                5.25   \n",
       "renovation_yes                             0                   1   \n",
       "sqft_living_plus_lot                    6830                9812   \n",
       "sqft_living_plus_lot_15                 6990                9329   \n",
       "lat_long                 (47.5112, -122.257)  (47.721, -122.319)   \n",
       "distance_from_flatiron               7.71487             7.76648   \n",
       "98001                                      0                   0   \n",
       "98002                                      0                   0   \n",
       "98003                                      0                   0   \n",
       "...                                      ...                 ...   \n",
       "98092                                      0                   0   \n",
       "98102                                      0                   0   \n",
       "98103                                      0                   0   \n",
       "98105                                      0                   0   \n",
       "98106                                      0                   0   \n",
       "98107                                      0                   0   \n",
       "98108                                      0                   0   \n",
       "98109                                      0                   0   \n",
       "98112                                      0                   0   \n",
       "98115                                      0                   0   \n",
       "98116                                      0                   0   \n",
       "98117                                      0                   0   \n",
       "98118                                      0                   0   \n",
       "98119                                      0                   0   \n",
       "98122                                      0                   0   \n",
       "98125                                      0                   1   \n",
       "98126                                      0                   0   \n",
       "98133                                      0                   0   \n",
       "98136                                      0                   0   \n",
       "98144                                      0                   0   \n",
       "98146                                      0                   0   \n",
       "98148                                      0                   0   \n",
       "98155                                      0                   0   \n",
       "98166                                      0                   0   \n",
       "98168                                      0                   0   \n",
       "98177                                      0                   0   \n",
       "98178                                      1                   0   \n",
       "98188                                      0                   0   \n",
       "98198                                      0                   0   \n",
       "98199                                      0                   0   \n",
       "\n",
       "                                           2                    3  \\\n",
       "id                                5631500400           2487200875   \n",
       "date                              2015-02-25           2014-12-09   \n",
       "price                                 180000               604000   \n",
       "bedrooms                                   2                    4   \n",
       "bathrooms                                  1                    3   \n",
       "sqft_living                              770                 1960   \n",
       "sqft_lot                               10000                 5000   \n",
       "floors                                     1                    1   \n",
       "waterfront                                 0                    0   \n",
       "view                                       0                    0   \n",
       "condition                                  3                    5   \n",
       "grade                                      6                    7   \n",
       "sqft_above                               770                 1050   \n",
       "sqft_basement                            NaN                  910   \n",
       "yr_built                                1933                 1965   \n",
       "yr_renovated                             NaN                  NaN   \n",
       "zipcode                                98028                98136   \n",
       "lat                                  47.7379              47.5208   \n",
       "long                                -122.233             -122.393   \n",
       "sqft_living15                           2720                 1360   \n",
       "sqft_lot15                              8062                 5000   \n",
       "bed_bath_sum                               3                    7   \n",
       "renovation_yes                             0                    0   \n",
       "sqft_living_plus_lot                   10770                 6960   \n",
       "sqft_living_plus_lot_15                10782                 6360   \n",
       "lat_long                 (47.7379, -122.233)  (47.5208, -122.393)   \n",
       "distance_from_flatiron               10.1079              6.65534   \n",
       "98001                                      0                    0   \n",
       "98002                                      0                    0   \n",
       "98003                                      0                    0   \n",
       "...                                      ...                  ...   \n",
       "98092                                      0                    0   \n",
       "98102                                      0                    0   \n",
       "98103                                      0                    0   \n",
       "98105                                      0                    0   \n",
       "98106                                      0                    0   \n",
       "98107                                      0                    0   \n",
       "98108                                      0                    0   \n",
       "98109                                      0                    0   \n",
       "98112                                      0                    0   \n",
       "98115                                      0                    0   \n",
       "98116                                      0                    0   \n",
       "98117                                      0                    0   \n",
       "98118                                      0                    0   \n",
       "98119                                      0                    0   \n",
       "98122                                      0                    0   \n",
       "98125                                      0                    0   \n",
       "98126                                      0                    0   \n",
       "98133                                      0                    0   \n",
       "98136                                      0                    1   \n",
       "98144                                      0                    0   \n",
       "98146                                      0                    0   \n",
       "98148                                      0                    0   \n",
       "98155                                      0                    0   \n",
       "98166                                      0                    0   \n",
       "98168                                      0                    0   \n",
       "98177                                      0                    0   \n",
       "98178                                      0                    0   \n",
       "98188                                      0                    0   \n",
       "98198                                      0                    0   \n",
       "98199                                      0                    0   \n",
       "\n",
       "                                           4  \n",
       "id                                1954400510  \n",
       "date                              2015-02-18  \n",
       "price                                 510000  \n",
       "bedrooms                                   3  \n",
       "bathrooms                                  2  \n",
       "sqft_living                             1680  \n",
       "sqft_lot                                8080  \n",
       "floors                                     1  \n",
       "waterfront                                 0  \n",
       "view                                       0  \n",
       "condition                                  3  \n",
       "grade                                      8  \n",
       "sqft_above                              1680  \n",
       "sqft_basement                            NaN  \n",
       "yr_built                                1987  \n",
       "yr_renovated                             NaN  \n",
       "zipcode                                98074  \n",
       "lat                                  47.6168  \n",
       "long                                -122.045  \n",
       "sqft_living15                           1800  \n",
       "sqft_lot15                              7503  \n",
       "bed_bath_sum                               5  \n",
       "renovation_yes                             0  \n",
       "sqft_living_plus_lot                    9760  \n",
       "sqft_living_plus_lot_15                 9303  \n",
       "lat_long                 (47.6168, -122.045)  \n",
       "distance_from_flatiron               13.5784  \n",
       "98001                                      0  \n",
       "98002                                      0  \n",
       "98003                                      0  \n",
       "...                                      ...  \n",
       "98092                                      0  \n",
       "98102                                      0  \n",
       "98103                                      0  \n",
       "98105                                      0  \n",
       "98106                                      0  \n",
       "98107                                      0  \n",
       "98108                                      0  \n",
       "98109                                      0  \n",
       "98112                                      0  \n",
       "98115                                      0  \n",
       "98116                                      0  \n",
       "98117                                      0  \n",
       "98118                                      0  \n",
       "98119                                      0  \n",
       "98122                                      0  \n",
       "98125                                      0  \n",
       "98126                                      0  \n",
       "98133                                      0  \n",
       "98136                                      0  \n",
       "98144                                      0  \n",
       "98146                                      0  \n",
       "98148                                      0  \n",
       "98155                                      0  \n",
       "98166                                      0  \n",
       "98168                                      0  \n",
       "98177                                      0  \n",
       "98178                                      0  \n",
       "98188                                      0  \n",
       "98198                                      0  \n",
       "98199                                      0  \n",
       "\n",
       "[97 rows x 5 columns]"
      ]
     },
     "execution_count": 6,
     "metadata": {},
     "output_type": "execute_result"
    }
   ],
   "source": [
    "df_zip_dums = pd.get_dummies(df['zipcode'])\n",
    "df = pd.concat([df, df_zip_dums], axis=1)\n",
    "df.head().T"
   ]
  },
  {
   "cell_type": "code",
   "execution_count": null,
   "metadata": {},
   "outputs": [],
   "source": []
  },
  {
   "cell_type": "code",
   "execution_count": 23,
   "metadata": {},
   "outputs": [],
   "source": [
    "df7 = df[['price','sqft_living', 'grade', 'sqft_above', 'sqft_living15', 'bathrooms',\n",
    "       'view','distance_from_flatiron']]"
   ]
  },
  {
   "cell_type": "code",
   "execution_count": 46,
   "metadata": {},
   "outputs": [
    {
     "data": {
      "text/plain": [
       "<matplotlib.axes._subplots.AxesSubplot at 0x1c25ab3b70>"
      ]
     },
     "execution_count": 46,
     "metadata": {},
     "output_type": "execute_result"
    },
    {
     "data": {
      "image/png": "[encoded data removed]",
      "text/plain": [
       "<Figure size 792x648 with 2 Axes>"
      ]
     },
     "metadata": {
      "needs_background": "light"
     },
     "output_type": "display_data"
    }
   ],
   "source": [
    "corr = df7.corr()\n",
    "mask = np.zeros_like(corr)\n",
    "mask[np.triu_indices_from(mask)] = True\n",
    "\n",
    "f, ax = plt.subplots(figsize=(11, 9))\n",
    "#There are six variations of the default theme, called deep, muted, pastel, bright, dark, and colorblind.\n",
    "#cmap=\"PiYG\"\n",
    "cmap=\"coolwarm\"\n",
    "#cmap = sns.palplot(sns.dark_palette(\"purple\"))\n",
    "#cmap = sns.dark_palette(\"muted\", as_cmap=True)\n",
    "sns.heatmap(corr, mask=mask, cmap=cmap, vmax=1, center=0,\n",
    "            square=True, linewidths=.5,annot=True, cbar_kws={\"shrink\": .5})"
   ]
  },
  {
   "cell_type": "code",
   "execution_count": null,
   "metadata": {},
   "outputs": [],
   "source": []
  },
  {
   "cell_type": "code",
   "execution_count": null,
   "metadata": {},
   "outputs": [],
   "source": []
  },
  {
   "cell_type": "code",
   "execution_count": null,
   "metadata": {},
   "outputs": [],
   "source": []
  },
  {
   "cell_type": "code",
   "execution_count": null,
   "metadata": {},
   "outputs": [],
   "source": []
  },
  {
   "cell_type": "code",
   "execution_count": null,
   "metadata": {},
   "outputs": [],
   "source": []
  },
  {
   "cell_type": "code",
   "execution_count": null,
   "metadata": {},
   "outputs": [],
   "source": []
  },
  {
   "cell_type": "code",
   "execution_count": null,
   "metadata": {},
   "outputs": [],
   "source": []
  },
  {
   "cell_type": "code",
   "execution_count": null,
   "metadata": {},
   "outputs": [],
   "source": []
  },
  {
   "cell_type": "code",
   "execution_count": null,
   "metadata": {},
   "outputs": [],
   "source": []
  },
  {
   "cell_type": "code",
   "execution_count": null,
   "metadata": {},
   "outputs": [],
   "source": []
  },
  {
   "cell_type": "code",
   "execution_count": null,
   "metadata": {},
   "outputs": [],
   "source": []
  },
  {
   "cell_type": "code",
   "execution_count": null,
   "metadata": {},
   "outputs": [],
   "source": []
  },
  {
   "cell_type": "code",
   "execution_count": null,
   "metadata": {},
   "outputs": [],
   "source": []
  },
  {
   "cell_type": "code",
   "execution_count": null,
   "metadata": {},
   "outputs": [],
   "source": []
  },
  {
   "cell_type": "code",
   "execution_count": null,
   "metadata": {},
   "outputs": [],
   "source": []
  },
  {
   "cell_type": "code",
   "execution_count": null,
   "metadata": {},
   "outputs": [],
   "source": []
  },
  {
   "cell_type": "code",
   "execution_count": null,
   "metadata": {},
   "outputs": [],
   "source": []
  },
  {
   "cell_type": "markdown",
   "metadata": {},
   "source": [
    "## lat,long tranformation into something useful\n",
    "- after installing the haversine module, i want to explore how to use it to give us a distance from our building here in downtown. By doing so, it will allow us to check my hypothesis that homes closer to seattle are more expensive."
   ]
  },
  {
   "cell_type": "code",
   "execution_count": 5,
   "metadata": {},
   "outputs": [],
   "source": [
    "\n",
    "df['lat_long'] = tuple(zip(df.lat,df.long))\n"
   ]
  },
  {
   "cell_type": "code",
   "execution_count": null,
   "metadata": {},
   "outputs": [],
   "source": []
  },
  {
   "cell_type": "code",
   "execution_count": 6,
   "metadata": {},
   "outputs": [
    {
     "data": {
      "text/plain": [
       "0               (47.5112, -122.257)\n",
       "1    (47.721000000000004, -122.319)\n",
       "2    (47.7379, -122.23299999999999)\n",
       "3    (47.5208, -122.39299999999999)\n",
       "4               (47.6168, -122.045)\n",
       "Name: lat_long, dtype: object"
      ]
     },
     "execution_count": 6,
     "metadata": {},
     "output_type": "execute_result"
    }
   ],
   "source": [
    "df['lat_long'].head()"
   ]
  },
  {
   "cell_type": "code",
   "execution_count": 7,
   "metadata": {},
   "outputs": [
    {
     "data": {
      "text/plain": [
       "list"
      ]
     },
     "execution_count": 7,
     "metadata": {},
     "output_type": "execute_result"
    }
   ],
   "source": [
    "flatiron_latlong = [47.6092,-122.3363]\n",
    "type(flatiron_latlong)"
   ]
  },
  {
   "cell_type": "code",
   "execution_count": 8,
   "metadata": {},
   "outputs": [
    {
     "data": {
      "text/plain": [
       "[7.714867719017808,\n",
       " 7.766476387009627,\n",
       " 10.107949220477323,\n",
       " 6.655340065489545,\n",
       " 13.578402374482105]"
      ]
     },
     "execution_count": 8,
     "metadata": {},
     "output_type": "execute_result"
    }
   ],
   "source": [
    "l = []\n",
    "for i in df['lat_long']:\n",
    "    l.append(haversine((flatiron_latlong),(i),unit = 'mi'))\n",
    "l[:5]"
   ]
  },
  {
   "cell_type": "code",
   "execution_count": 9,
   "metadata": {},
   "outputs": [],
   "source": [
    "df['distance_from_flatiron'] = pd.Series(l)\n"
   ]
  },
  {
   "cell_type": "code",
   "execution_count": 10,
   "metadata": {},
   "outputs": [
    {
     "data": {
      "text/html": [
       "<div>\n",
       "<style scoped>\n",
       "    .dataframe tbody tr th:only-of-type {\n",
       "        vertical-align: middle;\n",
       "    }\n",
       "\n",
       "    .dataframe tbody tr th {\n",
       "        vertical-align: top;\n",
       "    }\n",
       "\n",
       "    .dataframe thead th {\n",
       "        text-align: right;\n",
       "    }\n",
       "</style>\n",
       "<table border=\"1\" class=\"dataframe\">\n",
       "  <thead>\n",
       "    <tr style=\"text-align: right;\">\n",
       "      <th></th>\n",
       "      <th>id</th>\n",
       "      <th>date</th>\n",
       "      <th>price</th>\n",
       "      <th>bedrooms</th>\n",
       "      <th>bathrooms</th>\n",
       "      <th>sqft_living</th>\n",
       "      <th>sqft_lot</th>\n",
       "      <th>floors</th>\n",
       "      <th>waterfront</th>\n",
       "      <th>view</th>\n",
       "      <th>...</th>\n",
       "      <th>lat</th>\n",
       "      <th>long</th>\n",
       "      <th>sqft_living15</th>\n",
       "      <th>sqft_lot15</th>\n",
       "      <th>bed_bath_sum</th>\n",
       "      <th>renovation_yes</th>\n",
       "      <th>sqft_living_plus_lot</th>\n",
       "      <th>sqft_living_plus_lot_15</th>\n",
       "      <th>lat_long</th>\n",
       "      <th>distance_from_flatiron</th>\n",
       "    </tr>\n",
       "  </thead>\n",
       "  <tbody>\n",
       "    <tr>\n",
       "      <th>0</th>\n",
       "      <td>7129300520</td>\n",
       "      <td>2014-10-13</td>\n",
       "      <td>221900.0</td>\n",
       "      <td>3</td>\n",
       "      <td>1.00</td>\n",
       "      <td>1180</td>\n",
       "      <td>5650</td>\n",
       "      <td>1.0</td>\n",
       "      <td>0.0</td>\n",
       "      <td>0.0</td>\n",
       "      <td>...</td>\n",
       "      <td>47.5112</td>\n",
       "      <td>-122.257</td>\n",
       "      <td>1340</td>\n",
       "      <td>5650</td>\n",
       "      <td>4.00</td>\n",
       "      <td>0</td>\n",
       "      <td>6830</td>\n",
       "      <td>6990</td>\n",
       "      <td>(47.5112, -122.257)</td>\n",
       "      <td>7.714868</td>\n",
       "    </tr>\n",
       "    <tr>\n",
       "      <th>1</th>\n",
       "      <td>6414100192</td>\n",
       "      <td>2014-12-09</td>\n",
       "      <td>538000.0</td>\n",
       "      <td>3</td>\n",
       "      <td>2.25</td>\n",
       "      <td>2570</td>\n",
       "      <td>7242</td>\n",
       "      <td>2.0</td>\n",
       "      <td>0.0</td>\n",
       "      <td>0.0</td>\n",
       "      <td>...</td>\n",
       "      <td>47.7210</td>\n",
       "      <td>-122.319</td>\n",
       "      <td>1690</td>\n",
       "      <td>7639</td>\n",
       "      <td>5.25</td>\n",
       "      <td>1</td>\n",
       "      <td>9812</td>\n",
       "      <td>9329</td>\n",
       "      <td>(47.721000000000004, -122.319)</td>\n",
       "      <td>7.766476</td>\n",
       "    </tr>\n",
       "    <tr>\n",
       "      <th>2</th>\n",
       "      <td>5631500400</td>\n",
       "      <td>2015-02-25</td>\n",
       "      <td>180000.0</td>\n",
       "      <td>2</td>\n",
       "      <td>1.00</td>\n",
       "      <td>770</td>\n",
       "      <td>10000</td>\n",
       "      <td>1.0</td>\n",
       "      <td>0.0</td>\n",
       "      <td>0.0</td>\n",
       "      <td>...</td>\n",
       "      <td>47.7379</td>\n",
       "      <td>-122.233</td>\n",
       "      <td>2720</td>\n",
       "      <td>8062</td>\n",
       "      <td>3.00</td>\n",
       "      <td>0</td>\n",
       "      <td>10770</td>\n",
       "      <td>10782</td>\n",
       "      <td>(47.7379, -122.23299999999999)</td>\n",
       "      <td>10.107949</td>\n",
       "    </tr>\n",
       "    <tr>\n",
       "      <th>3</th>\n",
       "      <td>2487200875</td>\n",
       "      <td>2014-12-09</td>\n",
       "      <td>604000.0</td>\n",
       "      <td>4</td>\n",
       "      <td>3.00</td>\n",
       "      <td>1960</td>\n",
       "      <td>5000</td>\n",
       "      <td>1.0</td>\n",
       "      <td>0.0</td>\n",
       "      <td>0.0</td>\n",
       "      <td>...</td>\n",
       "      <td>47.5208</td>\n",
       "      <td>-122.393</td>\n",
       "      <td>1360</td>\n",
       "      <td>5000</td>\n",
       "      <td>7.00</td>\n",
       "      <td>0</td>\n",
       "      <td>6960</td>\n",
       "      <td>6360</td>\n",
       "      <td>(47.5208, -122.39299999999999)</td>\n",
       "      <td>6.655340</td>\n",
       "    </tr>\n",
       "    <tr>\n",
       "      <th>4</th>\n",
       "      <td>1954400510</td>\n",
       "      <td>2015-02-18</td>\n",
       "      <td>510000.0</td>\n",
       "      <td>3</td>\n",
       "      <td>2.00</td>\n",
       "      <td>1680</td>\n",
       "      <td>8080</td>\n",
       "      <td>1.0</td>\n",
       "      <td>0.0</td>\n",
       "      <td>0.0</td>\n",
       "      <td>...</td>\n",
       "      <td>47.6168</td>\n",
       "      <td>-122.045</td>\n",
       "      <td>1800</td>\n",
       "      <td>7503</td>\n",
       "      <td>5.00</td>\n",
       "      <td>0</td>\n",
       "      <td>9760</td>\n",
       "      <td>9303</td>\n",
       "      <td>(47.6168, -122.045)</td>\n",
       "      <td>13.578402</td>\n",
       "    </tr>\n",
       "  </tbody>\n",
       "</table>\n",
       "<p>5 rows × 27 columns</p>\n",
       "</div>"
      ],
      "text/plain": [
       "           id        date     price  bedrooms  bathrooms  sqft_living  \\\n",
       "0  7129300520  2014-10-13  221900.0         3       1.00         1180   \n",
       "1  6414100192  2014-12-09  538000.0         3       2.25         2570   \n",
       "2  5631500400  2015-02-25  180000.0         2       1.00          770   \n",
       "3  2487200875  2014-12-09  604000.0         4       3.00         1960   \n",
       "4  1954400510  2015-02-18  510000.0         3       2.00         1680   \n",
       "\n",
       "   sqft_lot  floors  waterfront  view           ...                lat  \\\n",
       "0      5650     1.0         0.0   0.0           ...            47.5112   \n",
       "1      7242     2.0         0.0   0.0           ...            47.7210   \n",
       "2     10000     1.0         0.0   0.0           ...            47.7379   \n",
       "3      5000     1.0         0.0   0.0           ...            47.5208   \n",
       "4      8080     1.0         0.0   0.0           ...            47.6168   \n",
       "\n",
       "      long  sqft_living15  sqft_lot15  bed_bath_sum  renovation_yes  \\\n",
       "0 -122.257           1340        5650          4.00               0   \n",
       "1 -122.319           1690        7639          5.25               1   \n",
       "2 -122.233           2720        8062          3.00               0   \n",
       "3 -122.393           1360        5000          7.00               0   \n",
       "4 -122.045           1800        7503          5.00               0   \n",
       "\n",
       "   sqft_living_plus_lot  sqft_living_plus_lot_15  \\\n",
       "0                  6830                     6990   \n",
       "1                  9812                     9329   \n",
       "2                 10770                    10782   \n",
       "3                  6960                     6360   \n",
       "4                  9760                     9303   \n",
       "\n",
       "                         lat_long  distance_from_flatiron  \n",
       "0             (47.5112, -122.257)                7.714868  \n",
       "1  (47.721000000000004, -122.319)                7.766476  \n",
       "2  (47.7379, -122.23299999999999)               10.107949  \n",
       "3  (47.5208, -122.39299999999999)                6.655340  \n",
       "4             (47.6168, -122.045)               13.578402  \n",
       "\n",
       "[5 rows x 27 columns]"
      ]
     },
     "execution_count": 10,
     "metadata": {},
     "output_type": "execute_result"
    }
   ],
   "source": [
    "df.head()"
   ]
  },
  {
   "cell_type": "code",
   "execution_count": 22,
   "metadata": {},
   "outputs": [],
   "source": []
  },
  {
   "cell_type": "code",
   "execution_count": 12,
   "metadata": {},
   "outputs": [
    {
     "data": {
      "text/html": [
       "<div>\n",
       "<style scoped>\n",
       "    .dataframe tbody tr th:only-of-type {\n",
       "        vertical-align: middle;\n",
       "    }\n",
       "\n",
       "    .dataframe tbody tr th {\n",
       "        vertical-align: top;\n",
       "    }\n",
       "\n",
       "    .dataframe thead th {\n",
       "        text-align: right;\n",
       "    }\n",
       "</style>\n",
       "<table border=\"1\" class=\"dataframe\">\n",
       "  <thead>\n",
       "    <tr style=\"text-align: right;\">\n",
       "      <th></th>\n",
       "      <th>price</th>\n",
       "      <th>sqft_living</th>\n",
       "      <th>grade</th>\n",
       "      <th>sqft_above</th>\n",
       "      <th>sqft_living15</th>\n",
       "      <th>bathrooms</th>\n",
       "      <th>view</th>\n",
       "      <th>distance_from_flatiron</th>\n",
       "    </tr>\n",
       "  </thead>\n",
       "  <tbody>\n",
       "    <tr>\n",
       "      <th>price</th>\n",
       "      <td>True</td>\n",
       "      <td>True</td>\n",
       "      <td>True</td>\n",
       "      <td>True</td>\n",
       "      <td>False</td>\n",
       "      <td>False</td>\n",
       "      <td>False</td>\n",
       "      <td>False</td>\n",
       "    </tr>\n",
       "    <tr>\n",
       "      <th>sqft_living</th>\n",
       "      <td>True</td>\n",
       "      <td>True</td>\n",
       "      <td>True</td>\n",
       "      <td>True</td>\n",
       "      <td>True</td>\n",
       "      <td>True</td>\n",
       "      <td>False</td>\n",
       "      <td>False</td>\n",
       "    </tr>\n",
       "    <tr>\n",
       "      <th>grade</th>\n",
       "      <td>True</td>\n",
       "      <td>True</td>\n",
       "      <td>True</td>\n",
       "      <td>True</td>\n",
       "      <td>True</td>\n",
       "      <td>True</td>\n",
       "      <td>False</td>\n",
       "      <td>False</td>\n",
       "    </tr>\n",
       "    <tr>\n",
       "      <th>sqft_above</th>\n",
       "      <td>True</td>\n",
       "      <td>True</td>\n",
       "      <td>True</td>\n",
       "      <td>True</td>\n",
       "      <td>True</td>\n",
       "      <td>True</td>\n",
       "      <td>False</td>\n",
       "      <td>False</td>\n",
       "    </tr>\n",
       "    <tr>\n",
       "      <th>sqft_living15</th>\n",
       "      <td>False</td>\n",
       "      <td>True</td>\n",
       "      <td>True</td>\n",
       "      <td>True</td>\n",
       "      <td>True</td>\n",
       "      <td>False</td>\n",
       "      <td>False</td>\n",
       "      <td>False</td>\n",
       "    </tr>\n",
       "    <tr>\n",
       "      <th>bathrooms</th>\n",
       "      <td>False</td>\n",
       "      <td>True</td>\n",
       "      <td>True</td>\n",
       "      <td>True</td>\n",
       "      <td>False</td>\n",
       "      <td>True</td>\n",
       "      <td>False</td>\n",
       "      <td>False</td>\n",
       "    </tr>\n",
       "    <tr>\n",
       "      <th>view</th>\n",
       "      <td>False</td>\n",
       "      <td>False</td>\n",
       "      <td>False</td>\n",
       "      <td>False</td>\n",
       "      <td>False</td>\n",
       "      <td>False</td>\n",
       "      <td>True</td>\n",
       "      <td>False</td>\n",
       "    </tr>\n",
       "    <tr>\n",
       "      <th>distance_from_flatiron</th>\n",
       "      <td>False</td>\n",
       "      <td>False</td>\n",
       "      <td>False</td>\n",
       "      <td>False</td>\n",
       "      <td>False</td>\n",
       "      <td>False</td>\n",
       "      <td>False</td>\n",
       "      <td>True</td>\n",
       "    </tr>\n",
       "  </tbody>\n",
       "</table>\n",
       "</div>"
      ],
      "text/plain": [
       "                        price  sqft_living  grade  sqft_above  sqft_living15  \\\n",
       "price                    True         True   True        True          False   \n",
       "sqft_living              True         True   True        True           True   \n",
       "grade                    True         True   True        True           True   \n",
       "sqft_above               True         True   True        True           True   \n",
       "sqft_living15           False         True   True        True           True   \n",
       "bathrooms               False         True   True        True          False   \n",
       "view                    False        False  False       False          False   \n",
       "distance_from_flatiron  False        False  False       False          False   \n",
       "\n",
       "                        bathrooms   view  distance_from_flatiron  \n",
       "price                       False  False                   False  \n",
       "sqft_living                  True  False                   False  \n",
       "grade                        True  False                   False  \n",
       "sqft_above                   True  False                   False  \n",
       "sqft_living15               False  False                   False  \n",
       "bathrooms                    True  False                   False  \n",
       "view                        False   True                   False  \n",
       "distance_from_flatiron      False  False                    True  "
      ]
     },
     "execution_count": 12,
     "metadata": {},
     "output_type": "execute_result"
    }
   ],
   "source": [
    "abs(df7.corr()) >.60\n"
   ]
  },
  {
   "cell_type": "code",
   "execution_count": 13,
   "metadata": {},
   "outputs": [
    {
     "data": {
      "image/png": "[encoded data removed]",
      "text/plain": [
       "<Figure size 1080x864 with 2 Axes>"
      ]
     },
     "metadata": {},
     "output_type": "display_data"
    }
   ],
   "source": [
    "sns.set(rc={'figure.figsize': (15,12)})\n",
    "sns.heatmap(df7.corr());"
   ]
  },
  {
   "cell_type": "code",
   "execution_count": 14,
   "metadata": {},
   "outputs": [
    {
     "data": {
      "image/png": "[encoded data removed]",
      "text/plain": [
       "<Figure size 864x864 with 9 Axes>"
      ]
     },
     "metadata": {},
     "output_type": "display_data"
    }
   ],
   "source": [
    "df7.hist(figsize=[12,12]);"
   ]
  },
  {
   "cell_type": "code",
   "execution_count": 20,
   "metadata": {},
   "outputs": [
    {
     "name": "stderr",
     "output_type": "stream",
     "text": [
      "/Users/krex/anaconda3/envs/learn-env/lib/python3.6/site-packages/scipy/stats/stats.py:1713: FutureWarning: Using a non-tuple sequence for multidimensional indexing is deprecated; use `arr[tuple(seq)]` instead of `arr[seq]`. In the future this will be interpreted as an array index, `arr[np.array(seq)]`, which will result either in an error or a different result.\n",
      "  return np.add.reduce(sorted[indexer] * weights, axis=axis) / sumval\n"
     ]
    },
    {
     "data": {
      "image/png": "[encoded data removed]",
      "text/plain": [
       "<Figure size 1260x180 with 7 Axes>"
      ]
     },
     "metadata": {},
     "output_type": "display_data"
    }
   ],
   "source": [
    "sns.pairplot(df7, x_vars=['sqft_living', 'grade', 'sqft_above', 'sqft_living15', 'bathrooms',\n",
    "       'view','distance_from_flatiron'],\n",
    "             y_vars=\"price\",kind = 'reg');"
   ]
  },
  {
   "cell_type": "code",
   "execution_count": 21,
   "metadata": {},
   "outputs": [],
   "source": [
    "X1 = df7[['sqft_living', 'grade', 'sqft_living15', 'bathrooms',\n",
    "       'view','distance_from_flatiron']]\n",
    "y = df7['price']"
   ]
  },
  {
   "cell_type": "code",
   "execution_count": 24,
   "metadata": {},
   "outputs": [
    {
     "data": {
      "text/html": [
       "<table class=\"simpletable\">\n",
       "<caption>OLS Regression Results</caption>\n",
       "<tr>\n",
       "  <th>Dep. Variable:</th>          <td>price</td>      <th>  R-squared:         </th>  <td>   0.670</td>  \n",
       "</tr>\n",
       "<tr>\n",
       "  <th>Model:</th>                   <td>OLS</td>       <th>  Adj. R-squared:    </th>  <td>   0.670</td>  \n",
       "</tr>\n",
       "<tr>\n",
       "  <th>Method:</th>             <td>Least Squares</td>  <th>  F-statistic:       </th>  <td>   7320.</td>  \n",
       "</tr>\n",
       "<tr>\n",
       "  <th>Date:</th>             <td>Tue, 16 Apr 2019</td> <th>  Prob (F-statistic):</th>   <td>  0.00</td>   \n",
       "</tr>\n",
       "<tr>\n",
       "  <th>Time:</th>                 <td>14:53:40</td>     <th>  Log-Likelihood:    </th> <td>-2.9540e+05</td>\n",
       "</tr>\n",
       "<tr>\n",
       "  <th>No. Observations:</th>      <td> 21597</td>      <th>  AIC:               </th>  <td>5.908e+05</td> \n",
       "</tr>\n",
       "<tr>\n",
       "  <th>Df Residuals:</th>          <td> 21590</td>      <th>  BIC:               </th>  <td>5.909e+05</td> \n",
       "</tr>\n",
       "<tr>\n",
       "  <th>Df Model:</th>              <td>     6</td>      <th>                     </th>      <td> </td>     \n",
       "</tr>\n",
       "<tr>\n",
       "  <th>Covariance Type:</th>      <td>nonrobust</td>    <th>                     </th>      <td> </td>     \n",
       "</tr>\n",
       "</table>\n",
       "<table class=\"simpletable\">\n",
       "<tr>\n",
       "    <td></td>       <th>coef</th>     <th>std err</th>      <th>t</th>      <th>P>|t|</th>  <th>[0.025</th>    <th>0.975]</th>  \n",
       "</tr>\n",
       "<tr>\n",
       "  <th>const</th> <td>-2.952e+05</td> <td> 1.18e+04</td> <td>  -25.118</td> <td> 0.000</td> <td>-3.18e+05</td> <td>-2.72e+05</td>\n",
       "</tr>\n",
       "<tr>\n",
       "  <th>x1</th>    <td>  182.1824</td> <td>    3.161</td> <td>   57.628</td> <td> 0.000</td> <td>  175.986</td> <td>  188.379</td>\n",
       "</tr>\n",
       "<tr>\n",
       "  <th>x2</th>    <td> 7.629e+04</td> <td> 2072.595</td> <td>   36.809</td> <td> 0.000</td> <td> 7.22e+04</td> <td> 8.04e+04</td>\n",
       "</tr>\n",
       "<tr>\n",
       "  <th>x3</th>    <td>   44.3336</td> <td>    3.459</td> <td>   12.817</td> <td> 0.000</td> <td>   37.554</td> <td>   51.114</td>\n",
       "</tr>\n",
       "<tr>\n",
       "  <th>x4</th>    <td>-1.481e+04</td> <td> 2935.085</td> <td>   -5.046</td> <td> 0.000</td> <td>-2.06e+04</td> <td>-9056.519</td>\n",
       "</tr>\n",
       "<tr>\n",
       "  <th>x5</th>    <td> 7.844e+04</td> <td> 1981.959</td> <td>   39.576</td> <td> 0.000</td> <td> 7.46e+04</td> <td> 8.23e+04</td>\n",
       "</tr>\n",
       "<tr>\n",
       "  <th>x6</th>    <td>-1.753e+04</td> <td>  220.066</td> <td>  -79.643</td> <td> 0.000</td> <td> -1.8e+04</td> <td>-1.71e+04</td>\n",
       "</tr>\n",
       "</table>\n",
       "<table class=\"simpletable\">\n",
       "<tr>\n",
       "  <th>Omnibus:</th>       <td>19438.718</td> <th>  Durbin-Watson:     </th>  <td>   1.987</td>  \n",
       "</tr>\n",
       "<tr>\n",
       "  <th>Prob(Omnibus):</th>  <td> 0.000</td>   <th>  Jarque-Bera (JB):  </th> <td>2182610.534</td>\n",
       "</tr>\n",
       "<tr>\n",
       "  <th>Skew:</th>           <td> 3.893</td>   <th>  Prob(JB):          </th>  <td>    0.00</td>  \n",
       "</tr>\n",
       "<tr>\n",
       "  <th>Kurtosis:</th>       <td>51.630</td>   <th>  Cond. No.          </th>  <td>2.54e+04</td>  \n",
       "</tr>\n",
       "</table><br/><br/>Warnings:<br/>[1] Standard Errors assume that the covariance matrix of the errors is correctly specified.<br/>[2] The condition number is large, 2.54e+04. This might indicate that there are<br/>strong multicollinearity or other numerical problems."
      ],
      "text/plain": [
       "<class 'statsmodels.iolib.summary.Summary'>\n",
       "\"\"\"\n",
       "                            OLS Regression Results                            \n",
       "==============================================================================\n",
       "Dep. Variable:                  price   R-squared:                       0.670\n",
       "Model:                            OLS   Adj. R-squared:                  0.670\n",
       "Method:                 Least Squares   F-statistic:                     7320.\n",
       "Date:                Tue, 16 Apr 2019   Prob (F-statistic):               0.00\n",
       "Time:                        14:53:40   Log-Likelihood:            -2.9540e+05\n",
       "No. Observations:               21597   AIC:                         5.908e+05\n",
       "Df Residuals:                   21590   BIC:                         5.909e+05\n",
       "Df Model:                           6                                         \n",
       "Covariance Type:            nonrobust                                         \n",
       "==============================================================================\n",
       "                 coef    std err          t      P>|t|      [0.025      0.975]\n",
       "------------------------------------------------------------------------------\n",
       "const      -2.952e+05   1.18e+04    -25.118      0.000   -3.18e+05   -2.72e+05\n",
       "x1           182.1824      3.161     57.628      0.000     175.986     188.379\n",
       "x2          7.629e+04   2072.595     36.809      0.000    7.22e+04    8.04e+04\n",
       "x3            44.3336      3.459     12.817      0.000      37.554      51.114\n",
       "x4         -1.481e+04   2935.085     -5.046      0.000   -2.06e+04   -9056.519\n",
       "x5          7.844e+04   1981.959     39.576      0.000    7.46e+04    8.23e+04\n",
       "x6         -1.753e+04    220.066    -79.643      0.000    -1.8e+04   -1.71e+04\n",
       "==============================================================================\n",
       "Omnibus:                    19438.718   Durbin-Watson:                   1.987\n",
       "Prob(Omnibus):                  0.000   Jarque-Bera (JB):          2182610.534\n",
       "Skew:                           3.893   Prob(JB):                         0.00\n",
       "Kurtosis:                      51.630   Cond. No.                     2.54e+04\n",
       "==============================================================================\n",
       "\n",
       "Warnings:\n",
       "[1] Standard Errors assume that the covariance matrix of the errors is correctly specified.\n",
       "[2] The condition number is large, 2.54e+04. This might indicate that there are\n",
       "strong multicollinearity or other numerical problems.\n",
       "\"\"\""
      ]
     },
     "execution_count": 24,
     "metadata": {},
     "output_type": "execute_result"
    }
   ],
   "source": [
    "predictors = np.asarray(X1) #set predictors as numpy array of capital X\n",
    "predictors_int = sm.add_constant(predictors) #.add_constant\n",
    "model = sm.OLS(y,predictors_int).fit() #statsmodels.OrdinaryLeastSquares (dependent var, array of predictors).fit()\n",
    "model.summary()"
   ]
  },
  {
   "cell_type": "code",
   "execution_count": 18,
   "metadata": {},
   "outputs": [
    {
     "ename": "NameError",
     "evalue": "name 'X1' is not defined",
     "output_type": "error",
     "traceback": [
      "\u001b[0;31m---------------------------------------------------------------------------\u001b[0m",
      "\u001b[0;31mNameError\u001b[0m                                 Traceback (most recent call last)",
      "\u001b[0;32m<ipython-input-18-87472f598fe3>\u001b[0m in \u001b[0;36m<module>\u001b[0;34m()\u001b[0m\n\u001b[1;32m      2\u001b[0m \u001b[0mss\u001b[0m \u001b[0;34m=\u001b[0m \u001b[0mStandardScaler\u001b[0m\u001b[0;34m(\u001b[0m\u001b[0;34m)\u001b[0m\u001b[0;34m\u001b[0m\u001b[0m\n\u001b[1;32m      3\u001b[0m \u001b[0;34m\u001b[0m\u001b[0m\n\u001b[0;32m----> 4\u001b[0;31m \u001b[0mX1_scaled\u001b[0m \u001b[0;34m=\u001b[0m \u001b[0mss\u001b[0m\u001b[0;34m.\u001b[0m\u001b[0mfit_transform\u001b[0m\u001b[0;34m(\u001b[0m\u001b[0mX1\u001b[0m\u001b[0;34m)\u001b[0m\u001b[0;34m\u001b[0m\u001b[0m\n\u001b[0m\u001b[1;32m      5\u001b[0m \u001b[0;34m\u001b[0m\u001b[0m\n\u001b[1;32m      6\u001b[0m \u001b[0mnp\u001b[0m\u001b[0;34m.\u001b[0m\u001b[0mrandom\u001b[0m\u001b[0;34m.\u001b[0m\u001b[0mseed\u001b[0m\u001b[0;34m(\u001b[0m\u001b[0;36m33\u001b[0m\u001b[0;34m)\u001b[0m\u001b[0;34m\u001b[0m\u001b[0m\n",
      "\u001b[0;31mNameError\u001b[0m: name 'X1' is not defined"
     ]
    }
   ],
   "source": [
    "\"\"\" Now using Sklearn\"\"\"\n",
    "ss = StandardScaler()\n",
    "\n",
    "X1_scaled = ss.fit_transform(X1)\n",
    "\n",
    "np.random.seed(33)\n",
    "\n",
    "X1_train,X1_test,Y_train,Y_test = train_test_split(X1_scaled,y)"
   ]
  },
  {
   "cell_type": "code",
   "execution_count": 20,
   "metadata": {},
   "outputs": [
    {
     "data": {
      "text/plain": [
       "LinearRegression(copy_X=True, fit_intercept=True, n_jobs=None,\n",
       "         normalize=False)"
      ]
     },
     "execution_count": 20,
     "metadata": {},
     "output_type": "execute_result"
    }
   ],
   "source": [
    "lr = LinearRegression()\n",
    "lr.fit(X1_train,Y_train)"
   ]
  },
  {
   "cell_type": "code",
   "execution_count": 21,
   "metadata": {},
   "outputs": [
    {
     "data": {
      "text/plain": [
       "0.674215535229337"
      ]
     },
     "execution_count": 21,
     "metadata": {},
     "output_type": "execute_result"
    }
   ],
   "source": [
    "lr.score(X1_test,Y_test) #r**2 value"
   ]
  },
  {
   "cell_type": "code",
   "execution_count": 22,
   "metadata": {},
   "outputs": [
    {
     "data": {
      "text/plain": [
       "array([ 160769.50957906,   92099.30409597,   35116.938874  ,\n",
       "        -13234.10106397,   56081.11364303, -117468.43898583])"
      ]
     },
     "execution_count": 22,
     "metadata": {},
     "output_type": "execute_result"
    }
   ],
   "source": [
    "lr.coef_"
   ]
  },
  {
   "cell_type": "code",
   "execution_count": 23,
   "metadata": {},
   "outputs": [],
   "source": [
    "r_2 = metrics.r2_score(Y_test, lr.predict(X1_test))\n",
    "vif = 1/(1-r_2)\n",
    "mae = metrics.mean_absolute_error(Y_test, lr.predict(X1_test))\n",
    "mse = metrics.mean_squared_error(Y_test, lr.predict(X1_test))"
   ]
  },
  {
   "cell_type": "code",
   "execution_count": 24,
   "metadata": {},
   "outputs": [
    {
     "name": "stdout",
     "output_type": "stream",
     "text": [
      "Our list of predictors: Index(['sqft_living', 'grade', 'sqft_living15', 'bathrooms', 'view',\n",
      "       'distance_from_flatiron'],\n",
      "      dtype='object')\n",
      "The R-squared score of our test is 0.674215535229337\n",
      "The MAE score of our test is 132024.28339846162\n",
      "The MSE score of our test is 47299654295.065\n",
      "The RMSE score of our test is $217484.83693137093\n"
     ]
    }
   ],
   "source": [
    "#PRICE vs. TOP 6 BENCHMARK #test size is .25\n",
    "print(f'Our list of predictors: {X1.columns}')\n",
    "print(f\"The R-squared score of our test is {r_2}\")\n",
    "print(f\"The MAE score of our test is {mae}\")\n",
    "print(f\"The MSE score of our test is {mse}\")\n",
    "print(f\"The RMSE score of our test is ${sqrt(mse)}\")"
   ]
  },
  {
   "cell_type": "markdown",
   "metadata": {},
   "source": [
    "## TEST with normalizing price and sqft_living"
   ]
  },
  {
   "cell_type": "code",
   "execution_count": 5,
   "metadata": {},
   "outputs": [],
   "source": []
  },
  {
   "cell_type": "markdown",
   "metadata": {},
   "source": [
    "## WHY Normalize data??\n",
    "- "
   ]
  },
  {
   "cell_type": "code",
   "execution_count": 89,
   "metadata": {},
   "outputs": [
    {
     "data": {
      "image/png": "[encoded data removed]",
      "text/plain": [
       "<Figure size 432x288 with 1 Axes>"
      ]
     },
     "metadata": {
      "needs_background": "light"
     },
     "output_type": "display_data"
    },
    {
     "data": {
      "image/png": "[encoded data removed]",
      "text/plain": [
       "<Figure size 432x288 with 1 Axes>"
      ]
     },
     "metadata": {
      "needs_background": "light"
     },
     "output_type": "display_data"
    }
   ],
   "source": [
    "from scipy.stats import norm\n",
    "from scipy import stats\n",
    "#histogram and normal probability plot\n",
    "sns.distplot(df['distance_from_flatiron'], fit=norm, bins=50, kde=False);\n",
    "fig = plt.figure()\n",
    "res = stats.probplot(df['distance_from_flatiron'], plot=plt)"
   ]
  },
  {
   "cell_type": "code",
   "execution_count": 11,
   "metadata": {},
   "outputs": [
    {
     "data": {
      "image/png": "[encoded data removed]",
      "text/plain": [
       "<Figure size 432x288 with 1 Axes>"
      ]
     },
     "metadata": {
      "needs_background": "light"
     },
     "output_type": "display_data"
    },
    {
     "data": {
      "image/png": "[encoded data removed]",
      "text/plain": [
       "<Figure size 432x288 with 1 Axes>"
      ]
     },
     "metadata": {
      "needs_background": "light"
     },
     "output_type": "display_data"
    }
   ],
   "source": [
    "#histogram and normal probability plot\n",
    "sns.distplot(df['sqft_living'], fit=norm, bins=50, kde=False);\n",
    "fig = plt.figure()\n",
    "res = stats.probplot(df['sqft_living'], plot=plt)"
   ]
  },
  {
   "cell_type": "code",
   "execution_count": 13,
   "metadata": {},
   "outputs": [
    {
     "data": {
      "image/png": "[encoded data removed]",
      "text/plain": [
       "<Figure size 432x288 with 1 Axes>"
      ]
     },
     "metadata": {
      "needs_background": "light"
     },
     "output_type": "display_data"
    }
   ],
   "source": [
    "#scatter plot\n",
    "plt.scatter(df['sqft_living'], df['price']);"
   ]
  },
  {
   "cell_type": "code",
   "execution_count": 83,
   "metadata": {},
   "outputs": [
    {
     "data": {
      "image/png": "[encoded data removed]",
      "text/plain": [
       "<Figure size 432x288 with 1 Axes>"
      ]
     },
     "metadata": {
      "needs_background": "light"
     },
     "output_type": "display_data"
    },
    {
     "data": {
      "image/png": "[encoded data removed]",
      "text/plain": [
       "<Figure size 432x288 with 1 Axes>"
      ]
     },
     "metadata": {
      "needs_background": "light"
     },
     "output_type": "display_data"
    }
   ],
   "source": [
    "sns.distplot(df['grade'], fit=norm, bins=50, kde=False);\n",
    "fig = plt.figure()\n",
    "res = stats.probplot(df['grade'], plot=plt)"
   ]
  },
  {
   "cell_type": "code",
   "execution_count": null,
   "metadata": {},
   "outputs": [],
   "source": []
  },
  {
   "cell_type": "code",
   "execution_count": null,
   "metadata": {},
   "outputs": [],
   "source": []
  },
  {
   "cell_type": "code",
   "execution_count": null,
   "metadata": {},
   "outputs": [],
   "source": []
  },
  {
   "cell_type": "code",
   "execution_count": null,
   "metadata": {},
   "outputs": [],
   "source": []
  },
  {
   "cell_type": "code",
   "execution_count": null,
   "metadata": {},
   "outputs": [],
   "source": []
  },
  {
   "cell_type": "markdown",
   "metadata": {},
   "source": [
    "## Observations of sqft_living and price\n",
    "- Seems that both right skewed, and the relationship viewed in the scatter plot shows many outliers\n",
    "- if we log transform both sides, it might improve the relationship!"
   ]
  },
  {
   "cell_type": "code",
   "execution_count": 16,
   "metadata": {},
   "outputs": [],
   "source": [
    "#applying log transformation\n",
    "df['log_price'] = np.log(df['price'])"
   ]
  },
  {
   "cell_type": "code",
   "execution_count": 17,
   "metadata": {},
   "outputs": [],
   "source": [
    "df['log_sqft_living'] = np.log(df['sqft_living'])"
   ]
  },
  {
   "cell_type": "code",
   "execution_count": 93,
   "metadata": {},
   "outputs": [
    {
     "data": {
      "image/png": "[encoded data removed]",
      "text/plain": [
       "<Figure size 432x288 with 1 Axes>"
      ]
     },
     "metadata": {
      "needs_background": "light"
     },
     "output_type": "display_data"
    },
    {
     "data": {
      "image/png": "[encoded data removed]",
      "text/plain": [
       "<Figure size 432x288 with 1 Axes>"
      ]
     },
     "metadata": {
      "needs_background": "light"
     },
     "output_type": "display_data"
    }
   ],
   "source": [
    "#transformed histogram and normal probability plot\n",
    "sns.distplot(np.log(df['grade']), fit=norm,  bins=50, kde=False);\n",
    "fig = plt.figure()\n",
    "res = stats.probplot(np.log(df['grade']), plot=plt)"
   ]
  },
  {
   "cell_type": "code",
   "execution_count": 92,
   "metadata": {},
   "outputs": [
    {
     "data": {
      "image/png": "[encoded data removed]",
      "text/plain": [
       "<Figure size 432x288 with 1 Axes>"
      ]
     },
     "metadata": {
      "needs_background": "light"
     },
     "output_type": "display_data"
    },
    {
     "data": {
      "image/png": "[encoded data removed]",
      "text/plain": [
       "<Figure size 432x288 with 1 Axes>"
      ]
     },
     "metadata": {
      "needs_background": "light"
     },
     "output_type": "display_data"
    }
   ],
   "source": [
    "#transformed histogram and normal probability plot\n",
    "sns.distplot(np.log(df['bathrooms']), fit=norm,  bins=50, kde=False);\n",
    "fig = plt.figure()\n",
    "res = stats.probplot(np.log(df['bathrooms']), plot=plt)"
   ]
  },
  {
   "cell_type": "code",
   "execution_count": 19,
   "metadata": {},
   "outputs": [
    {
     "data": {
      "image/png": "[encoded data removed]",
      "text/plain": [
       "<Figure size 432x288 with 1 Axes>"
      ]
     },
     "metadata": {
      "needs_background": "light"
     },
     "output_type": "display_data"
    },
    {
     "data": {
      "image/png": "[encoded data removed]",
      "text/plain": [
       "<Figure size 432x288 with 1 Axes>"
      ]
     },
     "metadata": {
      "needs_background": "light"
     },
     "output_type": "display_data"
    }
   ],
   "source": [
    "#transformed histogram and normal probability plot\n",
    "sns.distplot(df['log_sqft_living'], fit=norm, bins=50, kde=False);\n",
    "fig = plt.figure()\n",
    "res = stats.probplot(df['log_sqft_living'], plot=plt)"
   ]
  },
  {
   "cell_type": "code",
   "execution_count": 72,
   "metadata": {},
   "outputs": [
    {
     "data": {
      "image/png": "[encoded data removed]",
      "text/plain": [
       "<Figure size 432x288 with 1 Axes>"
      ]
     },
     "metadata": {
      "needs_background": "light"
     },
     "output_type": "display_data"
    }
   ],
   "source": [
    "#log-log scatter plot\n",
    "plt.scatter(df['log_sqft_living'], df['log_price']);"
   ]
  },
  {
   "cell_type": "markdown",
   "metadata": {},
   "source": [
    "## Post log transformation\n",
    "- HELL YEAH! better, and normalized our outliers"
   ]
  },
  {
   "cell_type": "code",
   "execution_count": 21,
   "metadata": {},
   "outputs": [
    {
     "data": {
      "text/html": [
       "<div>\n",
       "<style scoped>\n",
       "    .dataframe tbody tr th:only-of-type {\n",
       "        vertical-align: middle;\n",
       "    }\n",
       "\n",
       "    .dataframe tbody tr th {\n",
       "        vertical-align: top;\n",
       "    }\n",
       "\n",
       "    .dataframe thead th {\n",
       "        text-align: right;\n",
       "    }\n",
       "</style>\n",
       "<table border=\"1\" class=\"dataframe\">\n",
       "  <thead>\n",
       "    <tr style=\"text-align: right;\">\n",
       "      <th></th>\n",
       "      <th>id</th>\n",
       "      <th>date</th>\n",
       "      <th>price</th>\n",
       "      <th>bedrooms</th>\n",
       "      <th>bathrooms</th>\n",
       "      <th>sqft_living</th>\n",
       "      <th>sqft_lot</th>\n",
       "      <th>floors</th>\n",
       "      <th>waterfront</th>\n",
       "      <th>view</th>\n",
       "      <th>...</th>\n",
       "      <th>sqft_living15</th>\n",
       "      <th>sqft_lot15</th>\n",
       "      <th>bed_bath_sum</th>\n",
       "      <th>renovation_yes</th>\n",
       "      <th>sqft_living_plus_lot</th>\n",
       "      <th>sqft_living_plus_lot_15</th>\n",
       "      <th>lat_long</th>\n",
       "      <th>distance_from_flatiron</th>\n",
       "      <th>log_price</th>\n",
       "      <th>log_sqft_living</th>\n",
       "    </tr>\n",
       "  </thead>\n",
       "  <tbody>\n",
       "    <tr>\n",
       "      <th>0</th>\n",
       "      <td>7129300520</td>\n",
       "      <td>2014-10-13</td>\n",
       "      <td>221900.0</td>\n",
       "      <td>3</td>\n",
       "      <td>1.00</td>\n",
       "      <td>1180</td>\n",
       "      <td>5650</td>\n",
       "      <td>1.0</td>\n",
       "      <td>0.0</td>\n",
       "      <td>0.0</td>\n",
       "      <td>...</td>\n",
       "      <td>1340</td>\n",
       "      <td>5650</td>\n",
       "      <td>4.00</td>\n",
       "      <td>0</td>\n",
       "      <td>6830</td>\n",
       "      <td>6990</td>\n",
       "      <td>(47.5112, -122.257)</td>\n",
       "      <td>7.714868</td>\n",
       "      <td>12.309982</td>\n",
       "      <td>7.073270</td>\n",
       "    </tr>\n",
       "    <tr>\n",
       "      <th>1</th>\n",
       "      <td>6414100192</td>\n",
       "      <td>2014-12-09</td>\n",
       "      <td>538000.0</td>\n",
       "      <td>3</td>\n",
       "      <td>2.25</td>\n",
       "      <td>2570</td>\n",
       "      <td>7242</td>\n",
       "      <td>2.0</td>\n",
       "      <td>0.0</td>\n",
       "      <td>0.0</td>\n",
       "      <td>...</td>\n",
       "      <td>1690</td>\n",
       "      <td>7639</td>\n",
       "      <td>5.25</td>\n",
       "      <td>1</td>\n",
       "      <td>9812</td>\n",
       "      <td>9329</td>\n",
       "      <td>(47.721, -122.319)</td>\n",
       "      <td>7.766476</td>\n",
       "      <td>13.195614</td>\n",
       "      <td>7.851661</td>\n",
       "    </tr>\n",
       "    <tr>\n",
       "      <th>2</th>\n",
       "      <td>5631500400</td>\n",
       "      <td>2015-02-25</td>\n",
       "      <td>180000.0</td>\n",
       "      <td>2</td>\n",
       "      <td>1.00</td>\n",
       "      <td>770</td>\n",
       "      <td>10000</td>\n",
       "      <td>1.0</td>\n",
       "      <td>0.0</td>\n",
       "      <td>0.0</td>\n",
       "      <td>...</td>\n",
       "      <td>2720</td>\n",
       "      <td>8062</td>\n",
       "      <td>3.00</td>\n",
       "      <td>0</td>\n",
       "      <td>10770</td>\n",
       "      <td>10782</td>\n",
       "      <td>(47.7379, -122.233)</td>\n",
       "      <td>10.107949</td>\n",
       "      <td>12.100712</td>\n",
       "      <td>6.646391</td>\n",
       "    </tr>\n",
       "    <tr>\n",
       "      <th>3</th>\n",
       "      <td>2487200875</td>\n",
       "      <td>2014-12-09</td>\n",
       "      <td>604000.0</td>\n",
       "      <td>4</td>\n",
       "      <td>3.00</td>\n",
       "      <td>1960</td>\n",
       "      <td>5000</td>\n",
       "      <td>1.0</td>\n",
       "      <td>0.0</td>\n",
       "      <td>0.0</td>\n",
       "      <td>...</td>\n",
       "      <td>1360</td>\n",
       "      <td>5000</td>\n",
       "      <td>7.00</td>\n",
       "      <td>0</td>\n",
       "      <td>6960</td>\n",
       "      <td>6360</td>\n",
       "      <td>(47.5208, -122.393)</td>\n",
       "      <td>6.655340</td>\n",
       "      <td>13.311329</td>\n",
       "      <td>7.580700</td>\n",
       "    </tr>\n",
       "    <tr>\n",
       "      <th>4</th>\n",
       "      <td>1954400510</td>\n",
       "      <td>2015-02-18</td>\n",
       "      <td>510000.0</td>\n",
       "      <td>3</td>\n",
       "      <td>2.00</td>\n",
       "      <td>1680</td>\n",
       "      <td>8080</td>\n",
       "      <td>1.0</td>\n",
       "      <td>0.0</td>\n",
       "      <td>0.0</td>\n",
       "      <td>...</td>\n",
       "      <td>1800</td>\n",
       "      <td>7503</td>\n",
       "      <td>5.00</td>\n",
       "      <td>0</td>\n",
       "      <td>9760</td>\n",
       "      <td>9303</td>\n",
       "      <td>(47.6168, -122.045)</td>\n",
       "      <td>13.578402</td>\n",
       "      <td>13.142166</td>\n",
       "      <td>7.426549</td>\n",
       "    </tr>\n",
       "  </tbody>\n",
       "</table>\n",
       "<p>5 rows × 29 columns</p>\n",
       "</div>"
      ],
      "text/plain": [
       "           id        date     price  bedrooms  bathrooms  sqft_living  \\\n",
       "0  7129300520  2014-10-13  221900.0         3       1.00         1180   \n",
       "1  6414100192  2014-12-09  538000.0         3       2.25         2570   \n",
       "2  5631500400  2015-02-25  180000.0         2       1.00          770   \n",
       "3  2487200875  2014-12-09  604000.0         4       3.00         1960   \n",
       "4  1954400510  2015-02-18  510000.0         3       2.00         1680   \n",
       "\n",
       "   sqft_lot  floors  waterfront  view       ...         sqft_living15  \\\n",
       "0      5650     1.0         0.0   0.0       ...                  1340   \n",
       "1      7242     2.0         0.0   0.0       ...                  1690   \n",
       "2     10000     1.0         0.0   0.0       ...                  2720   \n",
       "3      5000     1.0         0.0   0.0       ...                  1360   \n",
       "4      8080     1.0         0.0   0.0       ...                  1800   \n",
       "\n",
       "   sqft_lot15  bed_bath_sum  renovation_yes  sqft_living_plus_lot  \\\n",
       "0        5650          4.00               0                  6830   \n",
       "1        7639          5.25               1                  9812   \n",
       "2        8062          3.00               0                 10770   \n",
       "3        5000          7.00               0                  6960   \n",
       "4        7503          5.00               0                  9760   \n",
       "\n",
       "   sqft_living_plus_lot_15             lat_long  distance_from_flatiron  \\\n",
       "0                     6990  (47.5112, -122.257)                7.714868   \n",
       "1                     9329   (47.721, -122.319)                7.766476   \n",
       "2                    10782  (47.7379, -122.233)               10.107949   \n",
       "3                     6360  (47.5208, -122.393)                6.655340   \n",
       "4                     9303  (47.6168, -122.045)               13.578402   \n",
       "\n",
       "   log_price  log_sqft_living  \n",
       "0  12.309982         7.073270  \n",
       "1  13.195614         7.851661  \n",
       "2  12.100712         6.646391  \n",
       "3  13.311329         7.580700  \n",
       "4  13.142166         7.426549  \n",
       "\n",
       "[5 rows x 29 columns]"
      ]
     },
     "execution_count": 21,
     "metadata": {},
     "output_type": "execute_result"
    }
   ],
   "source": [
    "df.head()"
   ]
  },
  {
   "cell_type": "code",
   "execution_count": 75,
   "metadata": {},
   "outputs": [],
   "source": [
    "X = df[['log_sqft_living', 'grade', 'sqft_above', 'sqft_living15', 'bathrooms',\n",
    "       'view', 'distance_from_flatiron']]\n",
    "y = df['log_price']"
   ]
  },
  {
   "cell_type": "code",
   "execution_count": 76,
   "metadata": {},
   "outputs": [
    {
     "data": {
      "text/html": [
       "<table class=\"simpletable\">\n",
       "<caption>OLS Regression Results</caption>\n",
       "<tr>\n",
       "  <th>Dep. Variable:</th>        <td>log_price</td>    <th>  R-squared:         </th> <td>   0.734</td>\n",
       "</tr>\n",
       "<tr>\n",
       "  <th>Model:</th>                   <td>OLS</td>       <th>  Adj. R-squared:    </th> <td>   0.734</td>\n",
       "</tr>\n",
       "<tr>\n",
       "  <th>Method:</th>             <td>Least Squares</td>  <th>  F-statistic:       </th> <td>   8508.</td>\n",
       "</tr>\n",
       "<tr>\n",
       "  <th>Date:</th>             <td>Tue, 16 Apr 2019</td> <th>  Prob (F-statistic):</th>  <td>  0.00</td> \n",
       "</tr>\n",
       "<tr>\n",
       "  <th>Time:</th>                 <td>16:24:01</td>     <th>  Log-Likelihood:    </th> <td> -2494.3</td>\n",
       "</tr>\n",
       "<tr>\n",
       "  <th>No. Observations:</th>      <td> 21597</td>      <th>  AIC:               </th> <td>   5005.</td>\n",
       "</tr>\n",
       "<tr>\n",
       "  <th>Df Residuals:</th>          <td> 21589</td>      <th>  BIC:               </th> <td>   5068.</td>\n",
       "</tr>\n",
       "<tr>\n",
       "  <th>Df Model:</th>              <td>     7</td>      <th>                     </th>     <td> </td>   \n",
       "</tr>\n",
       "<tr>\n",
       "  <th>Covariance Type:</th>      <td>nonrobust</td>    <th>                     </th>     <td> </td>   \n",
       "</tr>\n",
       "</table>\n",
       "<table class=\"simpletable\">\n",
       "<tr>\n",
       "    <td></td>       <th>coef</th>     <th>std err</th>      <th>t</th>      <th>P>|t|</th>  <th>[0.025</th>    <th>0.975]</th>  \n",
       "</tr>\n",
       "<tr>\n",
       "  <th>const</th> <td>    9.5330</td> <td>    0.063</td> <td>  151.710</td> <td> 0.000</td> <td>    9.410</td> <td>    9.656</td>\n",
       "</tr>\n",
       "<tr>\n",
       "  <th>x1</th>    <td>    0.3383</td> <td>    0.010</td> <td>   35.563</td> <td> 0.000</td> <td>    0.320</td> <td>    0.357</td>\n",
       "</tr>\n",
       "<tr>\n",
       "  <th>x2</th>    <td>    0.1216</td> <td>    0.003</td> <td>   43.848</td> <td> 0.000</td> <td>    0.116</td> <td>    0.127</td>\n",
       "</tr>\n",
       "<tr>\n",
       "  <th>x3</th>    <td>  6.14e-05</td> <td>  4.6e-06</td> <td>   13.335</td> <td> 0.000</td> <td> 5.24e-05</td> <td> 7.04e-05</td>\n",
       "</tr>\n",
       "<tr>\n",
       "  <th>x4</th>    <td>    0.0001</td> <td> 4.48e-06</td> <td>   29.675</td> <td> 0.000</td> <td>    0.000</td> <td>    0.000</td>\n",
       "</tr>\n",
       "<tr>\n",
       "  <th>x5</th>    <td>    0.0086</td> <td>    0.004</td> <td>    2.244</td> <td> 0.025</td> <td>    0.001</td> <td>    0.016</td>\n",
       "</tr>\n",
       "<tr>\n",
       "  <th>x6</th>    <td>    0.0774</td> <td>    0.003</td> <td>   30.201</td> <td> 0.000</td> <td>    0.072</td> <td>    0.082</td>\n",
       "</tr>\n",
       "<tr>\n",
       "  <th>x7</th>    <td>   -0.0329</td> <td>    0.000</td> <td> -113.452</td> <td> 0.000</td> <td>   -0.034</td> <td>   -0.032</td>\n",
       "</tr>\n",
       "</table>\n",
       "<table class=\"simpletable\">\n",
       "<tr>\n",
       "  <th>Omnibus:</th>       <td>218.638</td> <th>  Durbin-Watson:     </th> <td>   1.997</td>\n",
       "</tr>\n",
       "<tr>\n",
       "  <th>Prob(Omnibus):</th> <td> 0.000</td>  <th>  Jarque-Bera (JB):  </th> <td> 360.405</td>\n",
       "</tr>\n",
       "<tr>\n",
       "  <th>Skew:</th>          <td>-0.052</td>  <th>  Prob(JB):          </th> <td>5.48e-79</td>\n",
       "</tr>\n",
       "<tr>\n",
       "  <th>Kurtosis:</th>      <td> 3.624</td>  <th>  Cond. No.          </th> <td>9.80e+04</td>\n",
       "</tr>\n",
       "</table><br/><br/>Warnings:<br/>[1] Standard Errors assume that the covariance matrix of the errors is correctly specified.<br/>[2] The condition number is large, 9.8e+04. This might indicate that there are<br/>strong multicollinearity or other numerical problems."
      ],
      "text/plain": [
       "<class 'statsmodels.iolib.summary.Summary'>\n",
       "\"\"\"\n",
       "                            OLS Regression Results                            \n",
       "==============================================================================\n",
       "Dep. Variable:              log_price   R-squared:                       0.734\n",
       "Model:                            OLS   Adj. R-squared:                  0.734\n",
       "Method:                 Least Squares   F-statistic:                     8508.\n",
       "Date:                Tue, 16 Apr 2019   Prob (F-statistic):               0.00\n",
       "Time:                        16:24:01   Log-Likelihood:                -2494.3\n",
       "No. Observations:               21597   AIC:                             5005.\n",
       "Df Residuals:                   21589   BIC:                             5068.\n",
       "Df Model:                           7                                         \n",
       "Covariance Type:            nonrobust                                         \n",
       "==============================================================================\n",
       "                 coef    std err          t      P>|t|      [0.025      0.975]\n",
       "------------------------------------------------------------------------------\n",
       "const          9.5330      0.063    151.710      0.000       9.410       9.656\n",
       "x1             0.3383      0.010     35.563      0.000       0.320       0.357\n",
       "x2             0.1216      0.003     43.848      0.000       0.116       0.127\n",
       "x3           6.14e-05    4.6e-06     13.335      0.000    5.24e-05    7.04e-05\n",
       "x4             0.0001   4.48e-06     29.675      0.000       0.000       0.000\n",
       "x5             0.0086      0.004      2.244      0.025       0.001       0.016\n",
       "x6             0.0774      0.003     30.201      0.000       0.072       0.082\n",
       "x7            -0.0329      0.000   -113.452      0.000      -0.034      -0.032\n",
       "==============================================================================\n",
       "Omnibus:                      218.638   Durbin-Watson:                   1.997\n",
       "Prob(Omnibus):                  0.000   Jarque-Bera (JB):              360.405\n",
       "Skew:                          -0.052   Prob(JB):                     5.48e-79\n",
       "Kurtosis:                       3.624   Cond. No.                     9.80e+04\n",
       "==============================================================================\n",
       "\n",
       "Warnings:\n",
       "[1] Standard Errors assume that the covariance matrix of the errors is correctly specified.\n",
       "[2] The condition number is large, 9.8e+04. This might indicate that there are\n",
       "strong multicollinearity or other numerical problems.\n",
       "\"\"\""
      ]
     },
     "execution_count": 76,
     "metadata": {},
     "output_type": "execute_result"
    }
   ],
   "source": [
    "predictors = np.asarray(X) #set predictors as numpy array of capital X\n",
    "predictors_int = sm.add_constant(predictors) #.add_constant\n",
    "model = sm.OLS(y,predictors_int).fit() #statsmodels.OrdinaryLeastSquares (dependent var, array of predictors).fit()\n",
    "model.summary()"
   ]
  },
  {
   "cell_type": "code",
   "execution_count": 77,
   "metadata": {},
   "outputs": [
    {
     "name": "stderr",
     "output_type": "stream",
     "text": [
      "/Users/krex/anaconda3/envs/learn-env/lib/python3.6/site-packages/sklearn/preprocessing/data.py:625: DataConversionWarning: Data with input dtype int64, float64 were all converted to float64 by StandardScaler.\n",
      "  return self.partial_fit(X, y)\n",
      "/Users/krex/anaconda3/envs/learn-env/lib/python3.6/site-packages/sklearn/base.py:462: DataConversionWarning: Data with input dtype int64, float64 were all converted to float64 by StandardScaler.\n",
      "  return self.fit(X, **fit_params).transform(X)\n"
     ]
    }
   ],
   "source": [
    "\"\"\" Now using Sklearn\"\"\"\n",
    "ss = StandardScaler()\n",
    "\n",
    "X_scaled = ss.fit_transform(X)\n",
    "\n",
    "np.random.seed(33)\n",
    "\n",
    "X_train,X_test,y_train,y_test = train_test_split(X_scaled,y)"
   ]
  },
  {
   "cell_type": "code",
   "execution_count": 78,
   "metadata": {},
   "outputs": [
    {
     "data": {
      "text/plain": [
       "LinearRegression(copy_X=True, fit_intercept=True, n_jobs=None,\n",
       "         normalize=False)"
      ]
     },
     "execution_count": 78,
     "metadata": {},
     "output_type": "execute_result"
    }
   ],
   "source": [
    "lr = LinearRegression()\n",
    "lr.fit(X_train,y_train)"
   ]
  },
  {
   "cell_type": "code",
   "execution_count": 79,
   "metadata": {},
   "outputs": [
    {
     "data": {
      "text/plain": [
       "0.7427999444678035"
      ]
     },
     "execution_count": 79,
     "metadata": {},
     "output_type": "execute_result"
    }
   ],
   "source": [
    "lr.score(X_test,y_test)"
   ]
  },
  {
   "cell_type": "code",
   "execution_count": 80,
   "metadata": {},
   "outputs": [
    {
     "data": {
      "text/plain": [
       "array([ 0.14177646,  0.14267965,  0.05213202,  0.09306623,  0.0057103 ,\n",
       "        0.05781633, -0.22140015])"
      ]
     },
     "execution_count": 80,
     "metadata": {},
     "output_type": "execute_result"
    }
   ],
   "source": [
    "lr.coef_"
   ]
  },
  {
   "cell_type": "code",
   "execution_count": 81,
   "metadata": {},
   "outputs": [],
   "source": [
    "r_2 = metrics.r2_score(y_test, lr.predict(X_test))\n",
    "vif = 1/(1-r_2)\n",
    "mae = metrics.mean_absolute_error(y_test, lr.predict(X_test))\n",
    "mse = metrics.mean_squared_error(y_test, lr.predict(X_test))\n"
   ]
  },
  {
   "cell_type": "code",
   "execution_count": 82,
   "metadata": {},
   "outputs": [
    {
     "name": "stdout",
     "output_type": "stream",
     "text": [
      "Our list of predictors: Index(['log_sqft_living', 'grade', 'sqft_above', 'sqft_living15', 'bathrooms',\n",
      "       'view', 'distance_from_flatiron'],\n",
      "      dtype='object')\n",
      "The R-squared score of our test is 0.7427999444678035\n",
      "The MAE score of our test is 0.2107767565688415\n",
      "The MSE score of our test is 0.07222116741707728\n",
      "The RMSE score of our test is $0.26873996244897647\n"
     ]
    }
   ],
   "source": [
    "#PRICE vs. TOP 6 BENCHMARK #test size is .25\n",
    "print(f'Our list of predictors: {X.columns}')\n",
    "print(f\"The R-squared score of our test is {r_2}\")\n",
    "print(f\"The MAE score of our test is {mae}\")\n",
    "print(f\"The MSE score of our test is {mse}\")\n",
    "print(f\"The RMSE score of our test is ${sqrt(mse)}\")"
   ]
  },
  {
   "cell_type": "code",
   "execution_count": 98,
   "metadata": {},
   "outputs": [],
   "source": [
    "r = np.log(122)"
   ]
  },
  {
   "cell_type": "code",
   "execution_count": 99,
   "metadata": {},
   "outputs": [
    {
     "data": {
      "text/plain": [
       "122.00000000000003"
      ]
     },
     "execution_count": 99,
     "metadata": {},
     "output_type": "execute_result"
    }
   ],
   "source": [
    "np.exp(r)"
   ]
  },
  {
   "cell_type": "code",
   "execution_count": null,
   "metadata": {},
   "outputs": [],
   "source": []
  }
 ],
 "metadata": {
  "kernelspec": {
   "display_name": "Python 3",
   "language": "python",
   "name": "python3"
  },
  "language_info": {
   "codemirror_mode": {
    "name": "ipython",
    "version": 3
   },
   "file_extension": ".py",
   "mimetype": "text/x-python",
   "name": "python",
   "nbconvert_exporter": "python",
   "pygments_lexer": "ipython3",
   "version": "3.6.6"
  }
 },
 "nbformat": 4,
 "nbformat_minor": 2
}
