{
 "cells": [
  {
   "cell_type": "code",
   "execution_count": null,
   "metadata": {},
   "outputs": [],
   "source": [
    "from sklearn.model_selection import KFold # import KFold\n",
    "X = np.array([[1, 2], [3, 4], [1, 2], [3, 4]]) # create an array\n",
    "y = np.array([1, 2, 3, 4]) # Create another array\n",
    "kf = KFold(n_splits=2) # Define the split - into 2 folds \n",
    "kf.get_n_splits(X) # returns the number of splitting iterations in the cross-validator\n",
    "print(kf) \n",
    "KFold(n_splits=2, random_state=None, shuffle=False)"
   ]
  },
  {
   "cell_type": "code",
   "execution_count": 1,
   "metadata": {},
   "outputs": [
    {
     "ename": "SyntaxError",
     "evalue": "invalid character in identifier (<ipython-input-1-3a5ab08e0c38>, line 2)",
     "output_type": "error",
     "traceback": [
      "\u001b[0;36m  File \u001b[0;32m\"<ipython-input-1-3a5ab08e0c38>\"\u001b[0;36m, line \u001b[0;32m2\u001b[0m\n\u001b[0;31m    print(“TRAIN:”, train_index, “TEST:”, test_index)\u001b[0m\n\u001b[0m               ^\u001b[0m\n\u001b[0;31mSyntaxError\u001b[0m\u001b[0;31m:\u001b[0m invalid character in identifier\n"
     ]
    }
   ],
   "source": [
    "for train_index, test_index in kf.split(X):\n",
    " print(“TRAIN:”, train_index, “TEST:”, test_index)\n",
    " X_train, X_test = X[train_index], X[test_index]\n",
    " y_train, y_test = y[train_index], y[test_index]\n",
    "('TRAIN:', array([2, 3]), 'TEST:', array([0, 1]))\n",
    "('TRAIN:', array([0, 1]), 'TEST:', array([2, 3]))"
   ]
  },
  {
   "cell_type": "code",
   "execution_count": 2,
   "metadata": {},
   "outputs": [],
   "source": [
    "import pandas as pd\n",
    "import matplotlib.pyplot as plt\n",
    "%matplotlib inline\n",
    "import seaborn as sns\n",
    "import numpy as np\n",
    "\n",
    "import statsmodels.api as sm\n",
    "from statsmodels.formula.api import ols\n",
    "\n",
    "from sklearn.preprocessing import StandardScaler\n",
    "from sklearn.linear_model import LinearRegression\n",
    "from sklearn.model_selection import train_test_split\n",
    "import sklearn.metrics as metrics\n",
    "from math import sqrt\n",
    "\n"
   ]
  },
  {
   "cell_type": "code",
   "execution_count": 3,
   "metadata": {},
   "outputs": [],
   "source": [
    "from haversine import haversine"
   ]
  },
  {
   "cell_type": "code",
   "execution_count": 4,
   "metadata": {},
   "outputs": [
    {
     "data": {
      "text/html": [
       "<div>\n",
       "<style scoped>\n",
       "    .dataframe tbody tr th:only-of-type {\n",
       "        vertical-align: middle;\n",
       "    }\n",
       "\n",
       "    .dataframe tbody tr th {\n",
       "        vertical-align: top;\n",
       "    }\n",
       "\n",
       "    .dataframe thead th {\n",
       "        text-align: right;\n",
       "    }\n",
       "</style>\n",
       "<table border=\"1\" class=\"dataframe\">\n",
       "  <thead>\n",
       "    <tr style=\"text-align: right;\">\n",
       "      <th></th>\n",
       "      <th>id</th>\n",
       "      <th>date</th>\n",
       "      <th>price</th>\n",
       "      <th>bedrooms</th>\n",
       "      <th>bathrooms</th>\n",
       "      <th>sqft_living</th>\n",
       "      <th>sqft_lot</th>\n",
       "      <th>floors</th>\n",
       "      <th>waterfront</th>\n",
       "      <th>view</th>\n",
       "      <th>...</th>\n",
       "      <th>lat</th>\n",
       "      <th>long</th>\n",
       "      <th>sqft_living15</th>\n",
       "      <th>sqft_lot15</th>\n",
       "      <th>bed_bath_sum</th>\n",
       "      <th>renovation_yes</th>\n",
       "      <th>sqft_living_plus_lot</th>\n",
       "      <th>sqft_living_plus_lot_15</th>\n",
       "      <th>lat_long</th>\n",
       "      <th>distance_from_flatiron</th>\n",
       "    </tr>\n",
       "  </thead>\n",
       "  <tbody>\n",
       "    <tr>\n",
       "      <th>0</th>\n",
       "      <td>7129300520</td>\n",
       "      <td>2014-10-13</td>\n",
       "      <td>221900.0</td>\n",
       "      <td>3</td>\n",
       "      <td>1.00</td>\n",
       "      <td>1180</td>\n",
       "      <td>5650</td>\n",
       "      <td>1.0</td>\n",
       "      <td>0.0</td>\n",
       "      <td>0.0</td>\n",
       "      <td>...</td>\n",
       "      <td>47.5112</td>\n",
       "      <td>-122.257</td>\n",
       "      <td>1340</td>\n",
       "      <td>5650</td>\n",
       "      <td>4.00</td>\n",
       "      <td>0</td>\n",
       "      <td>6830</td>\n",
       "      <td>6990</td>\n",
       "      <td>(47.5112, -122.257)</td>\n",
       "      <td>7.714868</td>\n",
       "    </tr>\n",
       "    <tr>\n",
       "      <th>1</th>\n",
       "      <td>6414100192</td>\n",
       "      <td>2014-12-09</td>\n",
       "      <td>538000.0</td>\n",
       "      <td>3</td>\n",
       "      <td>2.25</td>\n",
       "      <td>2570</td>\n",
       "      <td>7242</td>\n",
       "      <td>2.0</td>\n",
       "      <td>0.0</td>\n",
       "      <td>0.0</td>\n",
       "      <td>...</td>\n",
       "      <td>47.7210</td>\n",
       "      <td>-122.319</td>\n",
       "      <td>1690</td>\n",
       "      <td>7639</td>\n",
       "      <td>5.25</td>\n",
       "      <td>1</td>\n",
       "      <td>9812</td>\n",
       "      <td>9329</td>\n",
       "      <td>(47.721, -122.319)</td>\n",
       "      <td>7.766476</td>\n",
       "    </tr>\n",
       "    <tr>\n",
       "      <th>2</th>\n",
       "      <td>5631500400</td>\n",
       "      <td>2015-02-25</td>\n",
       "      <td>180000.0</td>\n",
       "      <td>2</td>\n",
       "      <td>1.00</td>\n",
       "      <td>770</td>\n",
       "      <td>10000</td>\n",
       "      <td>1.0</td>\n",
       "      <td>0.0</td>\n",
       "      <td>0.0</td>\n",
       "      <td>...</td>\n",
       "      <td>47.7379</td>\n",
       "      <td>-122.233</td>\n",
       "      <td>2720</td>\n",
       "      <td>8062</td>\n",
       "      <td>3.00</td>\n",
       "      <td>0</td>\n",
       "      <td>10770</td>\n",
       "      <td>10782</td>\n",
       "      <td>(47.7379, -122.233)</td>\n",
       "      <td>10.107949</td>\n",
       "    </tr>\n",
       "    <tr>\n",
       "      <th>3</th>\n",
       "      <td>2487200875</td>\n",
       "      <td>2014-12-09</td>\n",
       "      <td>604000.0</td>\n",
       "      <td>4</td>\n",
       "      <td>3.00</td>\n",
       "      <td>1960</td>\n",
       "      <td>5000</td>\n",
       "      <td>1.0</td>\n",
       "      <td>0.0</td>\n",
       "      <td>0.0</td>\n",
       "      <td>...</td>\n",
       "      <td>47.5208</td>\n",
       "      <td>-122.393</td>\n",
       "      <td>1360</td>\n",
       "      <td>5000</td>\n",
       "      <td>7.00</td>\n",
       "      <td>0</td>\n",
       "      <td>6960</td>\n",
       "      <td>6360</td>\n",
       "      <td>(47.5208, -122.393)</td>\n",
       "      <td>6.655340</td>\n",
       "    </tr>\n",
       "    <tr>\n",
       "      <th>4</th>\n",
       "      <td>1954400510</td>\n",
       "      <td>2015-02-18</td>\n",
       "      <td>510000.0</td>\n",
       "      <td>3</td>\n",
       "      <td>2.00</td>\n",
       "      <td>1680</td>\n",
       "      <td>8080</td>\n",
       "      <td>1.0</td>\n",
       "      <td>0.0</td>\n",
       "      <td>0.0</td>\n",
       "      <td>...</td>\n",
       "      <td>47.6168</td>\n",
       "      <td>-122.045</td>\n",
       "      <td>1800</td>\n",
       "      <td>7503</td>\n",
       "      <td>5.00</td>\n",
       "      <td>0</td>\n",
       "      <td>9760</td>\n",
       "      <td>9303</td>\n",
       "      <td>(47.6168, -122.045)</td>\n",
       "      <td>13.578402</td>\n",
       "    </tr>\n",
       "  </tbody>\n",
       "</table>\n",
       "<p>5 rows × 27 columns</p>\n",
       "</div>"
      ],
      "text/plain": [
       "           id        date     price  bedrooms  bathrooms  sqft_living  \\\n",
       "0  7129300520  2014-10-13  221900.0         3       1.00         1180   \n",
       "1  6414100192  2014-12-09  538000.0         3       2.25         2570   \n",
       "2  5631500400  2015-02-25  180000.0         2       1.00          770   \n",
       "3  2487200875  2014-12-09  604000.0         4       3.00         1960   \n",
       "4  1954400510  2015-02-18  510000.0         3       2.00         1680   \n",
       "\n",
       "   sqft_lot  floors  waterfront  view           ...                lat  \\\n",
       "0      5650     1.0         0.0   0.0           ...            47.5112   \n",
       "1      7242     2.0         0.0   0.0           ...            47.7210   \n",
       "2     10000     1.0         0.0   0.0           ...            47.7379   \n",
       "3      5000     1.0         0.0   0.0           ...            47.5208   \n",
       "4      8080     1.0         0.0   0.0           ...            47.6168   \n",
       "\n",
       "      long  sqft_living15  sqft_lot15  bed_bath_sum  renovation_yes  \\\n",
       "0 -122.257           1340        5650          4.00               0   \n",
       "1 -122.319           1690        7639          5.25               1   \n",
       "2 -122.233           2720        8062          3.00               0   \n",
       "3 -122.393           1360        5000          7.00               0   \n",
       "4 -122.045           1800        7503          5.00               0   \n",
       "\n",
       "   sqft_living_plus_lot  sqft_living_plus_lot_15             lat_long  \\\n",
       "0                  6830                     6990  (47.5112, -122.257)   \n",
       "1                  9812                     9329   (47.721, -122.319)   \n",
       "2                 10770                    10782  (47.7379, -122.233)   \n",
       "3                  6960                     6360  (47.5208, -122.393)   \n",
       "4                  9760                     9303  (47.6168, -122.045)   \n",
       "\n",
       "   distance_from_flatiron  \n",
       "0                7.714868  \n",
       "1                7.766476  \n",
       "2               10.107949  \n",
       "3                6.655340  \n",
       "4               13.578402  \n",
       "\n",
       "[5 rows x 27 columns]"
      ]
     },
     "execution_count": 4,
     "metadata": {},
     "output_type": "execute_result"
    }
   ],
   "source": [
    "df = pd.read_csv('house_data_cleaned.csv')\n",
    "df.head()"
   ]
  },
  {
   "cell_type": "markdown",
   "metadata": {},
   "source": [
    "## lat,long tranformation into something useful\n",
    "- after installing the haversine module, i want to explore how to use it to give us a distance from our building here in downtown. By doing so, it will allow us to check my hypothesis that homes closer to seattle are more expensive."
   ]
  },
  {
   "cell_type": "code",
   "execution_count": 5,
   "metadata": {},
   "outputs": [],
   "source": [
    "\n",
    "df['lat_long'] = tuple(zip(df.lat,df.long))\n"
   ]
  },
  {
   "cell_type": "code",
   "execution_count": null,
   "metadata": {},
   "outputs": [],
   "source": []
  },
  {
   "cell_type": "code",
   "execution_count": 6,
   "metadata": {},
   "outputs": [
    {
     "data": {
      "text/plain": [
       "0               (47.5112, -122.257)\n",
       "1    (47.721000000000004, -122.319)\n",
       "2    (47.7379, -122.23299999999999)\n",
       "3    (47.5208, -122.39299999999999)\n",
       "4               (47.6168, -122.045)\n",
       "Name: lat_long, dtype: object"
      ]
     },
     "execution_count": 6,
     "metadata": {},
     "output_type": "execute_result"
    }
   ],
   "source": [
    "df['lat_long'].head()"
   ]
  },
  {
   "cell_type": "code",
   "execution_count": 7,
   "metadata": {},
   "outputs": [
    {
     "data": {
      "text/plain": [
       "list"
      ]
     },
     "execution_count": 7,
     "metadata": {},
     "output_type": "execute_result"
    }
   ],
   "source": [
    "flatiron_latlong = [47.6092,-122.3363]\n",
    "type(flatiron_latlong)"
   ]
  },
  {
   "cell_type": "code",
   "execution_count": 8,
   "metadata": {},
   "outputs": [
    {
     "data": {
      "text/plain": [
       "[7.714867719017808,\n",
       " 7.766476387009627,\n",
       " 10.107949220477323,\n",
       " 6.655340065489545,\n",
       " 13.578402374482105]"
      ]
     },
     "execution_count": 8,
     "metadata": {},
     "output_type": "execute_result"
    }
   ],
   "source": [
    "l = []\n",
    "for i in df['lat_long']:\n",
    "    l.append(haversine((flatiron_latlong),(i),unit = 'mi'))\n",
    "l[:5]"
   ]
  },
  {
   "cell_type": "code",
   "execution_count": 9,
   "metadata": {},
   "outputs": [],
   "source": [
    "df['distance_from_flatiron'] = pd.Series(l)\n"
   ]
  },
  {
   "cell_type": "code",
   "execution_count": 10,
   "metadata": {},
   "outputs": [
    {
     "data": {
      "text/html": [
       "<div>\n",
       "<style scoped>\n",
       "    .dataframe tbody tr th:only-of-type {\n",
       "        vertical-align: middle;\n",
       "    }\n",
       "\n",
       "    .dataframe tbody tr th {\n",
       "        vertical-align: top;\n",
       "    }\n",
       "\n",
       "    .dataframe thead th {\n",
       "        text-align: right;\n",
       "    }\n",
       "</style>\n",
       "<table border=\"1\" class=\"dataframe\">\n",
       "  <thead>\n",
       "    <tr style=\"text-align: right;\">\n",
       "      <th></th>\n",
       "      <th>id</th>\n",
       "      <th>date</th>\n",
       "      <th>price</th>\n",
       "      <th>bedrooms</th>\n",
       "      <th>bathrooms</th>\n",
       "      <th>sqft_living</th>\n",
       "      <th>sqft_lot</th>\n",
       "      <th>floors</th>\n",
       "      <th>waterfront</th>\n",
       "      <th>view</th>\n",
       "      <th>...</th>\n",
       "      <th>lat</th>\n",
       "      <th>long</th>\n",
       "      <th>sqft_living15</th>\n",
       "      <th>sqft_lot15</th>\n",
       "      <th>bed_bath_sum</th>\n",
       "      <th>renovation_yes</th>\n",
       "      <th>sqft_living_plus_lot</th>\n",
       "      <th>sqft_living_plus_lot_15</th>\n",
       "      <th>lat_long</th>\n",
       "      <th>distance_from_flatiron</th>\n",
       "    </tr>\n",
       "  </thead>\n",
       "  <tbody>\n",
       "    <tr>\n",
       "      <th>0</th>\n",
       "      <td>7129300520</td>\n",
       "      <td>2014-10-13</td>\n",
       "      <td>221900.0</td>\n",
       "      <td>3</td>\n",
       "      <td>1.00</td>\n",
       "      <td>1180</td>\n",
       "      <td>5650</td>\n",
       "      <td>1.0</td>\n",
       "      <td>0.0</td>\n",
       "      <td>0.0</td>\n",
       "      <td>...</td>\n",
       "      <td>47.5112</td>\n",
       "      <td>-122.257</td>\n",
       "      <td>1340</td>\n",
       "      <td>5650</td>\n",
       "      <td>4.00</td>\n",
       "      <td>0</td>\n",
       "      <td>6830</td>\n",
       "      <td>6990</td>\n",
       "      <td>(47.5112, -122.257)</td>\n",
       "      <td>7.714868</td>\n",
       "    </tr>\n",
       "    <tr>\n",
       "      <th>1</th>\n",
       "      <td>6414100192</td>\n",
       "      <td>2014-12-09</td>\n",
       "      <td>538000.0</td>\n",
       "      <td>3</td>\n",
       "      <td>2.25</td>\n",
       "      <td>2570</td>\n",
       "      <td>7242</td>\n",
       "      <td>2.0</td>\n",
       "      <td>0.0</td>\n",
       "      <td>0.0</td>\n",
       "      <td>...</td>\n",
       "      <td>47.7210</td>\n",
       "      <td>-122.319</td>\n",
       "      <td>1690</td>\n",
       "      <td>7639</td>\n",
       "      <td>5.25</td>\n",
       "      <td>1</td>\n",
       "      <td>9812</td>\n",
       "      <td>9329</td>\n",
       "      <td>(47.721000000000004, -122.319)</td>\n",
       "      <td>7.766476</td>\n",
       "    </tr>\n",
       "    <tr>\n",
       "      <th>2</th>\n",
       "      <td>5631500400</td>\n",
       "      <td>2015-02-25</td>\n",
       "      <td>180000.0</td>\n",
       "      <td>2</td>\n",
       "      <td>1.00</td>\n",
       "      <td>770</td>\n",
       "      <td>10000</td>\n",
       "      <td>1.0</td>\n",
       "      <td>0.0</td>\n",
       "      <td>0.0</td>\n",
       "      <td>...</td>\n",
       "      <td>47.7379</td>\n",
       "      <td>-122.233</td>\n",
       "      <td>2720</td>\n",
       "      <td>8062</td>\n",
       "      <td>3.00</td>\n",
       "      <td>0</td>\n",
       "      <td>10770</td>\n",
       "      <td>10782</td>\n",
       "      <td>(47.7379, -122.23299999999999)</td>\n",
       "      <td>10.107949</td>\n",
       "    </tr>\n",
       "    <tr>\n",
       "      <th>3</th>\n",
       "      <td>2487200875</td>\n",
       "      <td>2014-12-09</td>\n",
       "      <td>604000.0</td>\n",
       "      <td>4</td>\n",
       "      <td>3.00</td>\n",
       "      <td>1960</td>\n",
       "      <td>5000</td>\n",
       "      <td>1.0</td>\n",
       "      <td>0.0</td>\n",
       "      <td>0.0</td>\n",
       "      <td>...</td>\n",
       "      <td>47.5208</td>\n",
       "      <td>-122.393</td>\n",
       "      <td>1360</td>\n",
       "      <td>5000</td>\n",
       "      <td>7.00</td>\n",
       "      <td>0</td>\n",
       "      <td>6960</td>\n",
       "      <td>6360</td>\n",
       "      <td>(47.5208, -122.39299999999999)</td>\n",
       "      <td>6.655340</td>\n",
       "    </tr>\n",
       "    <tr>\n",
       "      <th>4</th>\n",
       "      <td>1954400510</td>\n",
       "      <td>2015-02-18</td>\n",
       "      <td>510000.0</td>\n",
       "      <td>3</td>\n",
       "      <td>2.00</td>\n",
       "      <td>1680</td>\n",
       "      <td>8080</td>\n",
       "      <td>1.0</td>\n",
       "      <td>0.0</td>\n",
       "      <td>0.0</td>\n",
       "      <td>...</td>\n",
       "      <td>47.6168</td>\n",
       "      <td>-122.045</td>\n",
       "      <td>1800</td>\n",
       "      <td>7503</td>\n",
       "      <td>5.00</td>\n",
       "      <td>0</td>\n",
       "      <td>9760</td>\n",
       "      <td>9303</td>\n",
       "      <td>(47.6168, -122.045)</td>\n",
       "      <td>13.578402</td>\n",
       "    </tr>\n",
       "  </tbody>\n",
       "</table>\n",
       "<p>5 rows × 27 columns</p>\n",
       "</div>"
      ],
      "text/plain": [
       "           id        date     price  bedrooms  bathrooms  sqft_living  \\\n",
       "0  7129300520  2014-10-13  221900.0         3       1.00         1180   \n",
       "1  6414100192  2014-12-09  538000.0         3       2.25         2570   \n",
       "2  5631500400  2015-02-25  180000.0         2       1.00          770   \n",
       "3  2487200875  2014-12-09  604000.0         4       3.00         1960   \n",
       "4  1954400510  2015-02-18  510000.0         3       2.00         1680   \n",
       "\n",
       "   sqft_lot  floors  waterfront  view           ...                lat  \\\n",
       "0      5650     1.0         0.0   0.0           ...            47.5112   \n",
       "1      7242     2.0         0.0   0.0           ...            47.7210   \n",
       "2     10000     1.0         0.0   0.0           ...            47.7379   \n",
       "3      5000     1.0         0.0   0.0           ...            47.5208   \n",
       "4      8080     1.0         0.0   0.0           ...            47.6168   \n",
       "\n",
       "      long  sqft_living15  sqft_lot15  bed_bath_sum  renovation_yes  \\\n",
       "0 -122.257           1340        5650          4.00               0   \n",
       "1 -122.319           1690        7639          5.25               1   \n",
       "2 -122.233           2720        8062          3.00               0   \n",
       "3 -122.393           1360        5000          7.00               0   \n",
       "4 -122.045           1800        7503          5.00               0   \n",
       "\n",
       "   sqft_living_plus_lot  sqft_living_plus_lot_15  \\\n",
       "0                  6830                     6990   \n",
       "1                  9812                     9329   \n",
       "2                 10770                    10782   \n",
       "3                  6960                     6360   \n",
       "4                  9760                     9303   \n",
       "\n",
       "                         lat_long  distance_from_flatiron  \n",
       "0             (47.5112, -122.257)                7.714868  \n",
       "1  (47.721000000000004, -122.319)                7.766476  \n",
       "2  (47.7379, -122.23299999999999)               10.107949  \n",
       "3  (47.5208, -122.39299999999999)                6.655340  \n",
       "4             (47.6168, -122.045)               13.578402  \n",
       "\n",
       "[5 rows x 27 columns]"
      ]
     },
     "execution_count": 10,
     "metadata": {},
     "output_type": "execute_result"
    }
   ],
   "source": [
    "df.head()"
   ]
  },
  {
   "cell_type": "code",
   "execution_count": 11,
   "metadata": {},
   "outputs": [],
   "source": [
    "df7 = df[['price','sqft_living', 'grade', 'sqft_above', 'sqft_living15', 'bathrooms',\n",
    "       'view','distance_from_flatiron']]"
   ]
  },
  {
   "cell_type": "code",
   "execution_count": 12,
   "metadata": {},
   "outputs": [
    {
     "data": {
      "text/html": [
       "<div>\n",
       "<style scoped>\n",
       "    .dataframe tbody tr th:only-of-type {\n",
       "        vertical-align: middle;\n",
       "    }\n",
       "\n",
       "    .dataframe tbody tr th {\n",
       "        vertical-align: top;\n",
       "    }\n",
       "\n",
       "    .dataframe thead th {\n",
       "        text-align: right;\n",
       "    }\n",
       "</style>\n",
       "<table border=\"1\" class=\"dataframe\">\n",
       "  <thead>\n",
       "    <tr style=\"text-align: right;\">\n",
       "      <th></th>\n",
       "      <th>price</th>\n",
       "      <th>sqft_living</th>\n",
       "      <th>grade</th>\n",
       "      <th>sqft_above</th>\n",
       "      <th>sqft_living15</th>\n",
       "      <th>bathrooms</th>\n",
       "      <th>view</th>\n",
       "      <th>distance_from_flatiron</th>\n",
       "    </tr>\n",
       "  </thead>\n",
       "  <tbody>\n",
       "    <tr>\n",
       "      <th>price</th>\n",
       "      <td>True</td>\n",
       "      <td>True</td>\n",
       "      <td>True</td>\n",
       "      <td>True</td>\n",
       "      <td>False</td>\n",
       "      <td>False</td>\n",
       "      <td>False</td>\n",
       "      <td>False</td>\n",
       "    </tr>\n",
       "    <tr>\n",
       "      <th>sqft_living</th>\n",
       "      <td>True</td>\n",
       "      <td>True</td>\n",
       "      <td>True</td>\n",
       "      <td>True</td>\n",
       "      <td>True</td>\n",
       "      <td>True</td>\n",
       "      <td>False</td>\n",
       "      <td>False</td>\n",
       "    </tr>\n",
       "    <tr>\n",
       "      <th>grade</th>\n",
       "      <td>True</td>\n",
       "      <td>True</td>\n",
       "      <td>True</td>\n",
       "      <td>True</td>\n",
       "      <td>True</td>\n",
       "      <td>True</td>\n",
       "      <td>False</td>\n",
       "      <td>False</td>\n",
       "    </tr>\n",
       "    <tr>\n",
       "      <th>sqft_above</th>\n",
       "      <td>True</td>\n",
       "      <td>True</td>\n",
       "      <td>True</td>\n",
       "      <td>True</td>\n",
       "      <td>True</td>\n",
       "      <td>True</td>\n",
       "      <td>False</td>\n",
       "      <td>False</td>\n",
       "    </tr>\n",
       "    <tr>\n",
       "      <th>sqft_living15</th>\n",
       "      <td>False</td>\n",
       "      <td>True</td>\n",
       "      <td>True</td>\n",
       "      <td>True</td>\n",
       "      <td>True</td>\n",
       "      <td>False</td>\n",
       "      <td>False</td>\n",
       "      <td>False</td>\n",
       "    </tr>\n",
       "    <tr>\n",
       "      <th>bathrooms</th>\n",
       "      <td>False</td>\n",
       "      <td>True</td>\n",
       "      <td>True</td>\n",
       "      <td>True</td>\n",
       "      <td>False</td>\n",
       "      <td>True</td>\n",
       "      <td>False</td>\n",
       "      <td>False</td>\n",
       "    </tr>\n",
       "    <tr>\n",
       "      <th>view</th>\n",
       "      <td>False</td>\n",
       "      <td>False</td>\n",
       "      <td>False</td>\n",
       "      <td>False</td>\n",
       "      <td>False</td>\n",
       "      <td>False</td>\n",
       "      <td>True</td>\n",
       "      <td>False</td>\n",
       "    </tr>\n",
       "    <tr>\n",
       "      <th>distance_from_flatiron</th>\n",
       "      <td>False</td>\n",
       "      <td>False</td>\n",
       "      <td>False</td>\n",
       "      <td>False</td>\n",
       "      <td>False</td>\n",
       "      <td>False</td>\n",
       "      <td>False</td>\n",
       "      <td>True</td>\n",
       "    </tr>\n",
       "  </tbody>\n",
       "</table>\n",
       "</div>"
      ],
      "text/plain": [
       "                        price  sqft_living  grade  sqft_above  sqft_living15  \\\n",
       "price                    True         True   True        True          False   \n",
       "sqft_living              True         True   True        True           True   \n",
       "grade                    True         True   True        True           True   \n",
       "sqft_above               True         True   True        True           True   \n",
       "sqft_living15           False         True   True        True           True   \n",
       "bathrooms               False         True   True        True          False   \n",
       "view                    False        False  False       False          False   \n",
       "distance_from_flatiron  False        False  False       False          False   \n",
       "\n",
       "                        bathrooms   view  distance_from_flatiron  \n",
       "price                       False  False                   False  \n",
       "sqft_living                  True  False                   False  \n",
       "grade                        True  False                   False  \n",
       "sqft_above                   True  False                   False  \n",
       "sqft_living15               False  False                   False  \n",
       "bathrooms                    True  False                   False  \n",
       "view                        False   True                   False  \n",
       "distance_from_flatiron      False  False                    True  "
      ]
     },
     "execution_count": 12,
     "metadata": {},
     "output_type": "execute_result"
    }
   ],
   "source": [
    "abs(df7.corr()) >.60\n"
   ]
  },
  {
   "cell_type": "code",
   "execution_count": 13,
   "metadata": {},
   "outputs": [
    {
     "data": {
      "image/png": "[encoded data removed]",
      "text/plain": [
       "<Figure size 1080x864 with 2 Axes>"
      ]
     },
     "metadata": {},
     "output_type": "display_data"
    }
   ],
   "source": [
    "sns.set(rc={'figure.figsize': (15,12)})\n",
    "sns.heatmap(df7.corr());"
   ]
  },
  {
   "cell_type": "code",
   "execution_count": 14,
   "metadata": {},
   "outputs": [
    {
     "data": {
      "image/png": "[encoded data removed]",
      "text/plain": [
       "<Figure size 864x864 with 9 Axes>"
      ]
     },
     "metadata": {},
     "output_type": "display_data"
    }
   ],
   "source": [
    "df7.hist(figsize=[12,12]);"
   ]
  },
  {
   "cell_type": "code",
   "execution_count": 20,
   "metadata": {},
   "outputs": [
    {
     "name": "stderr",
     "output_type": "stream",
     "text": [
      "/Users/krex/anaconda3/envs/learn-env/lib/python3.6/site-packages/scipy/stats/stats.py:1713: FutureWarning: Using a non-tuple sequence for multidimensional indexing is deprecated; use `arr[tuple(seq)]` instead of `arr[seq]`. In the future this will be interpreted as an array index, `arr[np.array(seq)]`, which will result either in an error or a different result.\n",
      "  return np.add.reduce(sorted[indexer] * weights, axis=axis) / sumval\n"
     ]
    },
    {
     "data": {
      "image/png": "[encoded data removed]",
      "text/plain": [
       "<Figure size 1260x180 with 7 Axes>"
      ]
     },
     "metadata": {},
     "output_type": "display_data"
    }
   ],
   "source": [
    "sns.pairplot(df7, x_vars=['sqft_living', 'grade', 'sqft_above', 'sqft_living15', 'bathrooms',\n",
    "       'view','distance_from_flatiron'],\n",
    "             y_vars=\"price\",kind = 'reg');"
   ]
  },
  {
   "cell_type": "code",
   "execution_count": 21,
   "metadata": {},
   "outputs": [],
   "source": [
    "X1 = df7[['sqft_living', 'grade', 'sqft_living15', 'bathrooms',\n",
    "       'view','distance_from_flatiron']]\n",
    "y = df7['price']"
   ]
  },
  {
   "cell_type": "code",
   "execution_count": 24,
   "metadata": {},
   "outputs": [
    {
     "data": {
      "text/html": [
       "<table class=\"simpletable\">\n",
       "<caption>OLS Regression Results</caption>\n",
       "<tr>\n",
       "  <th>Dep. Variable:</th>          <td>price</td>      <th>  R-squared:         </th>  <td>   0.670</td>  \n",
       "</tr>\n",
       "<tr>\n",
       "  <th>Model:</th>                   <td>OLS</td>       <th>  Adj. R-squared:    </th>  <td>   0.670</td>  \n",
       "</tr>\n",
       "<tr>\n",
       "  <th>Method:</th>             <td>Least Squares</td>  <th>  F-statistic:       </th>  <td>   7320.</td>  \n",
       "</tr>\n",
       "<tr>\n",
       "  <th>Date:</th>             <td>Tue, 16 Apr 2019</td> <th>  Prob (F-statistic):</th>   <td>  0.00</td>   \n",
       "</tr>\n",
       "<tr>\n",
       "  <th>Time:</th>                 <td>14:53:40</td>     <th>  Log-Likelihood:    </th> <td>-2.9540e+05</td>\n",
       "</tr>\n",
       "<tr>\n",
       "  <th>No. Observations:</th>      <td> 21597</td>      <th>  AIC:               </th>  <td>5.908e+05</td> \n",
       "</tr>\n",
       "<tr>\n",
       "  <th>Df Residuals:</th>          <td> 21590</td>      <th>  BIC:               </th>  <td>5.909e+05</td> \n",
       "</tr>\n",
       "<tr>\n",
       "  <th>Df Model:</th>              <td>     6</td>      <th>                     </th>      <td> </td>     \n",
       "</tr>\n",
       "<tr>\n",
       "  <th>Covariance Type:</th>      <td>nonrobust</td>    <th>                     </th>      <td> </td>     \n",
       "</tr>\n",
       "</table>\n",
       "<table class=\"simpletable\">\n",
       "<tr>\n",
       "    <td></td>       <th>coef</th>     <th>std err</th>      <th>t</th>      <th>P>|t|</th>  <th>[0.025</th>    <th>0.975]</th>  \n",
       "</tr>\n",
       "<tr>\n",
       "  <th>const</th> <td>-2.952e+05</td> <td> 1.18e+04</td> <td>  -25.118</td> <td> 0.000</td> <td>-3.18e+05</td> <td>-2.72e+05</td>\n",
       "</tr>\n",
       "<tr>\n",
       "  <th>x1</th>    <td>  182.1824</td> <td>    3.161</td> <td>   57.628</td> <td> 0.000</td> <td>  175.986</td> <td>  188.379</td>\n",
       "</tr>\n",
       "<tr>\n",
       "  <th>x2</th>    <td> 7.629e+04</td> <td> 2072.595</td> <td>   36.809</td> <td> 0.000</td> <td> 7.22e+04</td> <td> 8.04e+04</td>\n",
       "</tr>\n",
       "<tr>\n",
       "  <th>x3</th>    <td>   44.3336</td> <td>    3.459</td> <td>   12.817</td> <td> 0.000</td> <td>   37.554</td> <td>   51.114</td>\n",
       "</tr>\n",
       "<tr>\n",
       "  <th>x4</th>    <td>-1.481e+04</td> <td> 2935.085</td> <td>   -5.046</td> <td> 0.000</td> <td>-2.06e+04</td> <td>-9056.519</td>\n",
       "</tr>\n",
       "<tr>\n",
       "  <th>x5</th>    <td> 7.844e+04</td> <td> 1981.959</td> <td>   39.576</td> <td> 0.000</td> <td> 7.46e+04</td> <td> 8.23e+04</td>\n",
       "</tr>\n",
       "<tr>\n",
       "  <th>x6</th>    <td>-1.753e+04</td> <td>  220.066</td> <td>  -79.643</td> <td> 0.000</td> <td> -1.8e+04</td> <td>-1.71e+04</td>\n",
       "</tr>\n",
       "</table>\n",
       "<table class=\"simpletable\">\n",
       "<tr>\n",
       "  <th>Omnibus:</th>       <td>19438.718</td> <th>  Durbin-Watson:     </th>  <td>   1.987</td>  \n",
       "</tr>\n",
       "<tr>\n",
       "  <th>Prob(Omnibus):</th>  <td> 0.000</td>   <th>  Jarque-Bera (JB):  </th> <td>2182610.534</td>\n",
       "</tr>\n",
       "<tr>\n",
       "  <th>Skew:</th>           <td> 3.893</td>   <th>  Prob(JB):          </th>  <td>    0.00</td>  \n",
       "</tr>\n",
       "<tr>\n",
       "  <th>Kurtosis:</th>       <td>51.630</td>   <th>  Cond. No.          </th>  <td>2.54e+04</td>  \n",
       "</tr>\n",
       "</table><br/><br/>Warnings:<br/>[1] Standard Errors assume that the covariance matrix of the errors is correctly specified.<br/>[2] The condition number is large, 2.54e+04. This might indicate that there are<br/>strong multicollinearity or other numerical problems."
      ],
      "text/plain": [
       "<class 'statsmodels.iolib.summary.Summary'>\n",
       "\"\"\"\n",
       "                            OLS Regression Results                            \n",
       "==============================================================================\n",
       "Dep. Variable:                  price   R-squared:                       0.670\n",
       "Model:                            OLS   Adj. R-squared:                  0.670\n",
       "Method:                 Least Squares   F-statistic:                     7320.\n",
       "Date:                Tue, 16 Apr 2019   Prob (F-statistic):               0.00\n",
       "Time:                        14:53:40   Log-Likelihood:            -2.9540e+05\n",
       "No. Observations:               21597   AIC:                         5.908e+05\n",
       "Df Residuals:                   21590   BIC:                         5.909e+05\n",
       "Df Model:                           6                                         \n",
       "Covariance Type:            nonrobust                                         \n",
       "==============================================================================\n",
       "                 coef    std err          t      P>|t|      [0.025      0.975]\n",
       "------------------------------------------------------------------------------\n",
       "const      -2.952e+05   1.18e+04    -25.118      0.000   -3.18e+05   -2.72e+05\n",
       "x1           182.1824      3.161     57.628      0.000     175.986     188.379\n",
       "x2          7.629e+04   2072.595     36.809      0.000    7.22e+04    8.04e+04\n",
       "x3            44.3336      3.459     12.817      0.000      37.554      51.114\n",
       "x4         -1.481e+04   2935.085     -5.046      0.000   -2.06e+04   -9056.519\n",
       "x5          7.844e+04   1981.959     39.576      0.000    7.46e+04    8.23e+04\n",
       "x6         -1.753e+04    220.066    -79.643      0.000    -1.8e+04   -1.71e+04\n",
       "==============================================================================\n",
       "Omnibus:                    19438.718   Durbin-Watson:                   1.987\n",
       "Prob(Omnibus):                  0.000   Jarque-Bera (JB):          2182610.534\n",
       "Skew:                           3.893   Prob(JB):                         0.00\n",
       "Kurtosis:                      51.630   Cond. No.                     2.54e+04\n",
       "==============================================================================\n",
       "\n",
       "Warnings:\n",
       "[1] Standard Errors assume that the covariance matrix of the errors is correctly specified.\n",
       "[2] The condition number is large, 2.54e+04. This might indicate that there are\n",
       "strong multicollinearity or other numerical problems.\n",
       "\"\"\""
      ]
     },
     "execution_count": 24,
     "metadata": {},
     "output_type": "execute_result"
    }
   ],
   "source": [
    "predictors = np.asarray(X1) #set predictors as numpy array of capital X\n",
    "predictors_int = sm.add_constant(predictors) #.add_constant\n",
    "model = sm.OLS(y,predictors_int).fit() #statsmodels.OrdinaryLeastSquares (dependent var, array of predictors).fit()\n",
    "model.summary()"
   ]
  },
  {
   "cell_type": "code",
   "execution_count": 18,
   "metadata": {},
   "outputs": [
    {
     "ename": "NameError",
     "evalue": "name 'X1' is not defined",
     "output_type": "error",
     "traceback": [
      "\u001b[0;31m---------------------------------------------------------------------------\u001b[0m",
      "\u001b[0;31mNameError\u001b[0m                                 Traceback (most recent call last)",
      "\u001b[0;32m<ipython-input-18-87472f598fe3>\u001b[0m in \u001b[0;36m<module>\u001b[0;34m()\u001b[0m\n\u001b[1;32m      2\u001b[0m \u001b[0mss\u001b[0m \u001b[0;34m=\u001b[0m \u001b[0mStandardScaler\u001b[0m\u001b[0;34m(\u001b[0m\u001b[0;34m)\u001b[0m\u001b[0;34m\u001b[0m\u001b[0m\n\u001b[1;32m      3\u001b[0m \u001b[0;34m\u001b[0m\u001b[0m\n\u001b[0;32m----> 4\u001b[0;31m \u001b[0mX1_scaled\u001b[0m \u001b[0;34m=\u001b[0m \u001b[0mss\u001b[0m\u001b[0;34m.\u001b[0m\u001b[0mfit_transform\u001b[0m\u001b[0;34m(\u001b[0m\u001b[0mX1\u001b[0m\u001b[0;34m)\u001b[0m\u001b[0;34m\u001b[0m\u001b[0m\n\u001b[0m\u001b[1;32m      5\u001b[0m \u001b[0;34m\u001b[0m\u001b[0m\n\u001b[1;32m      6\u001b[0m \u001b[0mnp\u001b[0m\u001b[0;34m.\u001b[0m\u001b[0mrandom\u001b[0m\u001b[0;34m.\u001b[0m\u001b[0mseed\u001b[0m\u001b[0;34m(\u001b[0m\u001b[0;36m33\u001b[0m\u001b[0;34m)\u001b[0m\u001b[0;34m\u001b[0m\u001b[0m\n",
      "\u001b[0;31mNameError\u001b[0m: name 'X1' is not defined"
     ]
    }
   ],
   "source": [
    "\"\"\" Now using Sklearn\"\"\"\n",
    "ss = StandardScaler()\n",
    "\n",
    "X1_scaled = ss.fit_transform(X1)\n",
    "\n",
    "np.random.seed(33)\n",
    "\n",
    "X1_train,X1_test,Y_train,Y_test = train_test_split(X1_scaled,y)"
   ]
  },
  {
   "cell_type": "code",
   "execution_count": 20,
   "metadata": {},
   "outputs": [
    {
     "data": {
      "text/plain": [
       "LinearRegression(copy_X=True, fit_intercept=True, n_jobs=None,\n",
       "         normalize=False)"
      ]
     },
     "execution_count": 20,
     "metadata": {},
     "output_type": "execute_result"
    }
   ],
   "source": [
    "lr = LinearRegression()\n",
    "lr.fit(X1_train,Y_train)"
   ]
  },
  {
   "cell_type": "code",
   "execution_count": 21,
   "metadata": {},
   "outputs": [
    {
     "data": {
      "text/plain": [
       "0.674215535229337"
      ]
     },
     "execution_count": 21,
     "metadata": {},
     "output_type": "execute_result"
    }
   ],
   "source": [
    "lr.score(X1_test,Y_test) #r**2 value"
   ]
  },
  {
   "cell_type": "code",
   "execution_count": 22,
   "metadata": {},
   "outputs": [
    {
     "data": {
      "text/plain": [
       "array([ 160769.50957906,   92099.30409597,   35116.938874  ,\n",
       "        -13234.10106397,   56081.11364303, -117468.43898583])"
      ]
     },
     "execution_count": 22,
     "metadata": {},
     "output_type": "execute_result"
    }
   ],
   "source": [
    "lr.coef_"
   ]
  },
  {
   "cell_type": "code",
   "execution_count": 23,
   "metadata": {},
   "outputs": [],
   "source": [
    "r_2 = metrics.r2_score(Y_test, lr.predict(X1_test))\n",
    "vif = 1/(1-r_2)\n",
    "mae = metrics.mean_absolute_error(Y_test, lr.predict(X1_test))\n",
    "mse = metrics.mean_squared_error(Y_test, lr.predict(X1_test))"
   ]
  },
  {
   "cell_type": "code",
   "execution_count": 24,
   "metadata": {},
   "outputs": [
    {
     "name": "stdout",
     "output_type": "stream",
     "text": [
      "Our list of predictors: Index(['sqft_living', 'grade', 'sqft_living15', 'bathrooms', 'view',\n",
      "       'distance_from_flatiron'],\n",
      "      dtype='object')\n",
      "The R-squared score of our test is 0.674215535229337\n",
      "The MAE score of our test is 132024.28339846162\n",
      "The MSE score of our test is 47299654295.065\n",
      "The RMSE score of our test is $217484.83693137093\n"
     ]
    }
   ],
   "source": [
    "#PRICE vs. TOP 6 BENCHMARK #test size is .25\n",
    "print(f'Our list of predictors: {X1.columns}')\n",
    "print(f\"The R-squared score of our test is {r_2}\")\n",
    "print(f\"The MAE score of our test is {mae}\")\n",
    "print(f\"The MSE score of our test is {mse}\")\n",
    "print(f\"The RMSE score of our test is ${sqrt(mse)}\")"
   ]
  },
  {
   "cell_type": "code",
   "execution_count": null,
   "metadata": {},
   "outputs": [],
   "source": []
  }
 ],
 "metadata": {
  "kernelspec": {
   "display_name": "Python 3",
   "language": "python",
   "name": "python3"
  },
  "language_info": {
   "codemirror_mode": {
    "name": "ipython",
    "version": 3
   },
   "file_extension": ".py",
   "mimetype": "text/x-python",
   "name": "python",
   "nbconvert_exporter": "python",
   "pygments_lexer": "ipython3",
   "version": "3.6.6"
  }
 },
 "nbformat": 4,
 "nbformat_minor": 2
}
