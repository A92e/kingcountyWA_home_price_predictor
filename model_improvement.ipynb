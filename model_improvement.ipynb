{
 "cells": [
  {
   "cell_type": "code",
   "execution_count": 1,
   "metadata": {},
   "outputs": [],
   "source": [
    "import pandas as pd\n",
    "import matplotlib.pyplot as plt\n",
    "%matplotlib inline\n",
    "import seaborn as sns\n",
    "import numpy as np\n",
    "\n",
    "import statsmodels.api as sm\n",
    "from statsmodels.formula.api import ols\n",
    "\n",
    "from sklearn.preprocessing import StandardScaler\n",
    "from sklearn.linear_model import LinearRegression\n",
    "lr = LinearRegression()\n",
    "from sklearn.model_selection import train_test_split\n",
    "from sklearn.model_selection import KFold\n",
    "from sklearn.model_selection import cross_val_score\n",
    "from sklearn.svm import SVR\n",
    "import sklearn.metrics as metrics\n",
    "from sklearn.metrics import mean_squared_error\n",
    "\n",
    "from math import sqrt"
   ]
  },
  {
   "cell_type": "code",
   "execution_count": 2,
   "metadata": {},
   "outputs": [],
   "source": [
    "df = pd.read_csv('house_data_cleaned.csv')"
   ]
  },
  {
   "cell_type": "code",
   "execution_count": 3,
   "metadata": {},
   "outputs": [
    {
     "data": {
      "text/html": [
       "<div>\n",
       "<style scoped>\n",
       "    .dataframe tbody tr th:only-of-type {\n",
       "        vertical-align: middle;\n",
       "    }\n",
       "\n",
       "    .dataframe tbody tr th {\n",
       "        vertical-align: top;\n",
       "    }\n",
       "\n",
       "    .dataframe thead th {\n",
       "        text-align: right;\n",
       "    }\n",
       "</style>\n",
       "<table border=\"1\" class=\"dataframe\">\n",
       "  <thead>\n",
       "    <tr style=\"text-align: right;\">\n",
       "      <th></th>\n",
       "      <th>id</th>\n",
       "      <th>date</th>\n",
       "      <th>price</th>\n",
       "      <th>bedrooms</th>\n",
       "      <th>bathrooms</th>\n",
       "      <th>sqft_living</th>\n",
       "      <th>sqft_lot</th>\n",
       "      <th>floors</th>\n",
       "      <th>waterfront</th>\n",
       "      <th>view</th>\n",
       "      <th>...</th>\n",
       "      <th>lat</th>\n",
       "      <th>long</th>\n",
       "      <th>sqft_living15</th>\n",
       "      <th>sqft_lot15</th>\n",
       "      <th>bed_bath_sum</th>\n",
       "      <th>renovation_yes</th>\n",
       "      <th>sqft_living_plus_lot</th>\n",
       "      <th>sqft_living_plus_lot_15</th>\n",
       "      <th>lat_long</th>\n",
       "      <th>distance_from_flatiron</th>\n",
       "    </tr>\n",
       "  </thead>\n",
       "  <tbody>\n",
       "    <tr>\n",
       "      <th>0</th>\n",
       "      <td>7129300520</td>\n",
       "      <td>2014-10-13</td>\n",
       "      <td>221900.0</td>\n",
       "      <td>3</td>\n",
       "      <td>1.00</td>\n",
       "      <td>1180</td>\n",
       "      <td>5650</td>\n",
       "      <td>1.0</td>\n",
       "      <td>0.0</td>\n",
       "      <td>0.0</td>\n",
       "      <td>...</td>\n",
       "      <td>47.5112</td>\n",
       "      <td>-122.257</td>\n",
       "      <td>1340</td>\n",
       "      <td>5650</td>\n",
       "      <td>4.00</td>\n",
       "      <td>0</td>\n",
       "      <td>6830</td>\n",
       "      <td>6990</td>\n",
       "      <td>(47.5112, -122.257)</td>\n",
       "      <td>7.714868</td>\n",
       "    </tr>\n",
       "    <tr>\n",
       "      <th>1</th>\n",
       "      <td>6414100192</td>\n",
       "      <td>2014-12-09</td>\n",
       "      <td>538000.0</td>\n",
       "      <td>3</td>\n",
       "      <td>2.25</td>\n",
       "      <td>2570</td>\n",
       "      <td>7242</td>\n",
       "      <td>2.0</td>\n",
       "      <td>0.0</td>\n",
       "      <td>0.0</td>\n",
       "      <td>...</td>\n",
       "      <td>47.7210</td>\n",
       "      <td>-122.319</td>\n",
       "      <td>1690</td>\n",
       "      <td>7639</td>\n",
       "      <td>5.25</td>\n",
       "      <td>1</td>\n",
       "      <td>9812</td>\n",
       "      <td>9329</td>\n",
       "      <td>(47.721, -122.319)</td>\n",
       "      <td>7.766476</td>\n",
       "    </tr>\n",
       "    <tr>\n",
       "      <th>2</th>\n",
       "      <td>5631500400</td>\n",
       "      <td>2015-02-25</td>\n",
       "      <td>180000.0</td>\n",
       "      <td>2</td>\n",
       "      <td>1.00</td>\n",
       "      <td>770</td>\n",
       "      <td>10000</td>\n",
       "      <td>1.0</td>\n",
       "      <td>0.0</td>\n",
       "      <td>0.0</td>\n",
       "      <td>...</td>\n",
       "      <td>47.7379</td>\n",
       "      <td>-122.233</td>\n",
       "      <td>2720</td>\n",
       "      <td>8062</td>\n",
       "      <td>3.00</td>\n",
       "      <td>0</td>\n",
       "      <td>10770</td>\n",
       "      <td>10782</td>\n",
       "      <td>(47.7379, -122.233)</td>\n",
       "      <td>10.107949</td>\n",
       "    </tr>\n",
       "    <tr>\n",
       "      <th>3</th>\n",
       "      <td>2487200875</td>\n",
       "      <td>2014-12-09</td>\n",
       "      <td>604000.0</td>\n",
       "      <td>4</td>\n",
       "      <td>3.00</td>\n",
       "      <td>1960</td>\n",
       "      <td>5000</td>\n",
       "      <td>1.0</td>\n",
       "      <td>0.0</td>\n",
       "      <td>0.0</td>\n",
       "      <td>...</td>\n",
       "      <td>47.5208</td>\n",
       "      <td>-122.393</td>\n",
       "      <td>1360</td>\n",
       "      <td>5000</td>\n",
       "      <td>7.00</td>\n",
       "      <td>0</td>\n",
       "      <td>6960</td>\n",
       "      <td>6360</td>\n",
       "      <td>(47.5208, -122.393)</td>\n",
       "      <td>6.655340</td>\n",
       "    </tr>\n",
       "    <tr>\n",
       "      <th>4</th>\n",
       "      <td>1954400510</td>\n",
       "      <td>2015-02-18</td>\n",
       "      <td>510000.0</td>\n",
       "      <td>3</td>\n",
       "      <td>2.00</td>\n",
       "      <td>1680</td>\n",
       "      <td>8080</td>\n",
       "      <td>1.0</td>\n",
       "      <td>0.0</td>\n",
       "      <td>0.0</td>\n",
       "      <td>...</td>\n",
       "      <td>47.6168</td>\n",
       "      <td>-122.045</td>\n",
       "      <td>1800</td>\n",
       "      <td>7503</td>\n",
       "      <td>5.00</td>\n",
       "      <td>0</td>\n",
       "      <td>9760</td>\n",
       "      <td>9303</td>\n",
       "      <td>(47.6168, -122.045)</td>\n",
       "      <td>13.578402</td>\n",
       "    </tr>\n",
       "  </tbody>\n",
       "</table>\n",
       "<p>5 rows × 27 columns</p>\n",
       "</div>"
      ],
      "text/plain": [
       "           id        date     price  bedrooms  bathrooms  sqft_living  \\\n",
       "0  7129300520  2014-10-13  221900.0         3       1.00         1180   \n",
       "1  6414100192  2014-12-09  538000.0         3       2.25         2570   \n",
       "2  5631500400  2015-02-25  180000.0         2       1.00          770   \n",
       "3  2487200875  2014-12-09  604000.0         4       3.00         1960   \n",
       "4  1954400510  2015-02-18  510000.0         3       2.00         1680   \n",
       "\n",
       "   sqft_lot  floors  waterfront  view           ...                lat  \\\n",
       "0      5650     1.0         0.0   0.0           ...            47.5112   \n",
       "1      7242     2.0         0.0   0.0           ...            47.7210   \n",
       "2     10000     1.0         0.0   0.0           ...            47.7379   \n",
       "3      5000     1.0         0.0   0.0           ...            47.5208   \n",
       "4      8080     1.0         0.0   0.0           ...            47.6168   \n",
       "\n",
       "      long  sqft_living15  sqft_lot15  bed_bath_sum  renovation_yes  \\\n",
       "0 -122.257           1340        5650          4.00               0   \n",
       "1 -122.319           1690        7639          5.25               1   \n",
       "2 -122.233           2720        8062          3.00               0   \n",
       "3 -122.393           1360        5000          7.00               0   \n",
       "4 -122.045           1800        7503          5.00               0   \n",
       "\n",
       "   sqft_living_plus_lot  sqft_living_plus_lot_15             lat_long  \\\n",
       "0                  6830                     6990  (47.5112, -122.257)   \n",
       "1                  9812                     9329   (47.721, -122.319)   \n",
       "2                 10770                    10782  (47.7379, -122.233)   \n",
       "3                  6960                     6360  (47.5208, -122.393)   \n",
       "4                  9760                     9303  (47.6168, -122.045)   \n",
       "\n",
       "   distance_from_flatiron  \n",
       "0                7.714868  \n",
       "1                7.766476  \n",
       "2               10.107949  \n",
       "3                6.655340  \n",
       "4               13.578402  \n",
       "\n",
       "[5 rows x 27 columns]"
      ]
     },
     "execution_count": 3,
     "metadata": {},
     "output_type": "execute_result"
    }
   ],
   "source": [
    "df.head()"
   ]
  },
  {
   "cell_type": "code",
   "execution_count": 4,
   "metadata": {},
   "outputs": [],
   "source": [
    "df6 = df[['price','sqft_living', 'grade', 'sqft_above', 'sqft_living15', 'bathrooms',\n",
    "       'view']]"
   ]
  },
  {
   "cell_type": "code",
   "execution_count": 5,
   "metadata": {},
   "outputs": [
    {
     "data": {
      "text/html": [
       "<div>\n",
       "<style scoped>\n",
       "    .dataframe tbody tr th:only-of-type {\n",
       "        vertical-align: middle;\n",
       "    }\n",
       "\n",
       "    .dataframe tbody tr th {\n",
       "        vertical-align: top;\n",
       "    }\n",
       "\n",
       "    .dataframe thead th {\n",
       "        text-align: right;\n",
       "    }\n",
       "</style>\n",
       "<table border=\"1\" class=\"dataframe\">\n",
       "  <thead>\n",
       "    <tr style=\"text-align: right;\">\n",
       "      <th></th>\n",
       "      <th>price</th>\n",
       "      <th>sqft_living</th>\n",
       "      <th>grade</th>\n",
       "      <th>sqft_above</th>\n",
       "      <th>sqft_living15</th>\n",
       "      <th>bathrooms</th>\n",
       "      <th>view</th>\n",
       "    </tr>\n",
       "  </thead>\n",
       "  <tbody>\n",
       "    <tr>\n",
       "      <th>0</th>\n",
       "      <td>221900.0</td>\n",
       "      <td>1180</td>\n",
       "      <td>7</td>\n",
       "      <td>1180</td>\n",
       "      <td>1340</td>\n",
       "      <td>1.00</td>\n",
       "      <td>0.0</td>\n",
       "    </tr>\n",
       "    <tr>\n",
       "      <th>1</th>\n",
       "      <td>538000.0</td>\n",
       "      <td>2570</td>\n",
       "      <td>7</td>\n",
       "      <td>2170</td>\n",
       "      <td>1690</td>\n",
       "      <td>2.25</td>\n",
       "      <td>0.0</td>\n",
       "    </tr>\n",
       "    <tr>\n",
       "      <th>2</th>\n",
       "      <td>180000.0</td>\n",
       "      <td>770</td>\n",
       "      <td>6</td>\n",
       "      <td>770</td>\n",
       "      <td>2720</td>\n",
       "      <td>1.00</td>\n",
       "      <td>0.0</td>\n",
       "    </tr>\n",
       "    <tr>\n",
       "      <th>3</th>\n",
       "      <td>604000.0</td>\n",
       "      <td>1960</td>\n",
       "      <td>7</td>\n",
       "      <td>1050</td>\n",
       "      <td>1360</td>\n",
       "      <td>3.00</td>\n",
       "      <td>0.0</td>\n",
       "    </tr>\n",
       "    <tr>\n",
       "      <th>4</th>\n",
       "      <td>510000.0</td>\n",
       "      <td>1680</td>\n",
       "      <td>8</td>\n",
       "      <td>1680</td>\n",
       "      <td>1800</td>\n",
       "      <td>2.00</td>\n",
       "      <td>0.0</td>\n",
       "    </tr>\n",
       "  </tbody>\n",
       "</table>\n",
       "</div>"
      ],
      "text/plain": [
       "      price  sqft_living  grade  sqft_above  sqft_living15  bathrooms  view\n",
       "0  221900.0         1180      7        1180           1340       1.00   0.0\n",
       "1  538000.0         2570      7        2170           1690       2.25   0.0\n",
       "2  180000.0          770      6         770           2720       1.00   0.0\n",
       "3  604000.0         1960      7        1050           1360       3.00   0.0\n",
       "4  510000.0         1680      8        1680           1800       2.00   0.0"
      ]
     },
     "execution_count": 5,
     "metadata": {},
     "output_type": "execute_result"
    }
   ],
   "source": [
    "df6.head()"
   ]
  },
  {
   "cell_type": "code",
   "execution_count": 6,
   "metadata": {},
   "outputs": [
    {
     "data": {
      "text/html": [
       "<div>\n",
       "<style scoped>\n",
       "    .dataframe tbody tr th:only-of-type {\n",
       "        vertical-align: middle;\n",
       "    }\n",
       "\n",
       "    .dataframe tbody tr th {\n",
       "        vertical-align: top;\n",
       "    }\n",
       "\n",
       "    .dataframe thead th {\n",
       "        text-align: right;\n",
       "    }\n",
       "</style>\n",
       "<table border=\"1\" class=\"dataframe\">\n",
       "  <thead>\n",
       "    <tr style=\"text-align: right;\">\n",
       "      <th></th>\n",
       "      <th>price</th>\n",
       "      <th>sqft_living</th>\n",
       "      <th>grade</th>\n",
       "      <th>sqft_above</th>\n",
       "      <th>sqft_living15</th>\n",
       "      <th>bathrooms</th>\n",
       "      <th>view</th>\n",
       "    </tr>\n",
       "  </thead>\n",
       "  <tbody>\n",
       "    <tr>\n",
       "      <th>price</th>\n",
       "      <td>True</td>\n",
       "      <td>False</td>\n",
       "      <td>False</td>\n",
       "      <td>False</td>\n",
       "      <td>False</td>\n",
       "      <td>False</td>\n",
       "      <td>False</td>\n",
       "    </tr>\n",
       "    <tr>\n",
       "      <th>sqft_living</th>\n",
       "      <td>False</td>\n",
       "      <td>True</td>\n",
       "      <td>False</td>\n",
       "      <td>True</td>\n",
       "      <td>False</td>\n",
       "      <td>False</td>\n",
       "      <td>False</td>\n",
       "    </tr>\n",
       "    <tr>\n",
       "      <th>grade</th>\n",
       "      <td>False</td>\n",
       "      <td>False</td>\n",
       "      <td>True</td>\n",
       "      <td>False</td>\n",
       "      <td>False</td>\n",
       "      <td>False</td>\n",
       "      <td>False</td>\n",
       "    </tr>\n",
       "    <tr>\n",
       "      <th>sqft_above</th>\n",
       "      <td>False</td>\n",
       "      <td>True</td>\n",
       "      <td>False</td>\n",
       "      <td>True</td>\n",
       "      <td>False</td>\n",
       "      <td>False</td>\n",
       "      <td>False</td>\n",
       "    </tr>\n",
       "    <tr>\n",
       "      <th>sqft_living15</th>\n",
       "      <td>False</td>\n",
       "      <td>False</td>\n",
       "      <td>False</td>\n",
       "      <td>False</td>\n",
       "      <td>True</td>\n",
       "      <td>False</td>\n",
       "      <td>False</td>\n",
       "    </tr>\n",
       "    <tr>\n",
       "      <th>bathrooms</th>\n",
       "      <td>False</td>\n",
       "      <td>False</td>\n",
       "      <td>False</td>\n",
       "      <td>False</td>\n",
       "      <td>False</td>\n",
       "      <td>True</td>\n",
       "      <td>False</td>\n",
       "    </tr>\n",
       "    <tr>\n",
       "      <th>view</th>\n",
       "      <td>False</td>\n",
       "      <td>False</td>\n",
       "      <td>False</td>\n",
       "      <td>False</td>\n",
       "      <td>False</td>\n",
       "      <td>False</td>\n",
       "      <td>True</td>\n",
       "    </tr>\n",
       "  </tbody>\n",
       "</table>\n",
       "</div>"
      ],
      "text/plain": [
       "               price  sqft_living  grade  sqft_above  sqft_living15  \\\n",
       "price           True        False  False       False          False   \n",
       "sqft_living    False         True  False        True          False   \n",
       "grade          False        False   True       False          False   \n",
       "sqft_above     False         True  False        True          False   \n",
       "sqft_living15  False        False  False       False           True   \n",
       "bathrooms      False        False  False       False          False   \n",
       "view           False        False  False       False          False   \n",
       "\n",
       "               bathrooms   view  \n",
       "price              False  False  \n",
       "sqft_living        False  False  \n",
       "grade              False  False  \n",
       "sqft_above         False  False  \n",
       "sqft_living15      False  False  \n",
       "bathrooms           True  False  \n",
       "view               False   True  "
      ]
     },
     "execution_count": 6,
     "metadata": {},
     "output_type": "execute_result"
    }
   ],
   "source": [
    "abs(df6.corr()) > .8"
   ]
  },
  {
   "cell_type": "markdown",
   "metadata": {},
   "source": [
    "## Notes on above\n",
    "- at .7 correlation, clearly sqft_living is the best predictor, for it is correlated with everything but view\n",
    "- at .8 correlation, now sqft_living only correlate with sqft_above\n",
    "- first test, remove sqft_above, and see outcome!"
   ]
  },
  {
   "cell_type": "markdown",
   "metadata": {},
   "source": [
    "## Test[1] : dropping sqft_above"
   ]
  },
  {
   "cell_type": "code",
   "execution_count": 7,
   "metadata": {},
   "outputs": [],
   "source": [
    "X1 = df6[['sqft_living', 'grade', 'sqft_living15', 'bathrooms',\n",
    "       'view']]\n",
    "y1 = df6['price']"
   ]
  },
  {
   "cell_type": "code",
   "execution_count": 8,
   "metadata": {},
   "outputs": [
    {
     "data": {
      "text/html": [
       "<table class=\"simpletable\">\n",
       "<caption>OLS Regression Results</caption>\n",
       "<tr>\n",
       "  <th>Dep. Variable:</th>          <td>price</td>      <th>  R-squared:         </th>  <td>   0.574</td>  \n",
       "</tr>\n",
       "<tr>\n",
       "  <th>Model:</th>                   <td>OLS</td>       <th>  Adj. R-squared:    </th>  <td>   0.574</td>  \n",
       "</tr>\n",
       "<tr>\n",
       "  <th>Method:</th>             <td>Least Squares</td>  <th>  F-statistic:       </th>  <td>   5809.</td>  \n",
       "</tr>\n",
       "<tr>\n",
       "  <th>Date:</th>             <td>Tue, 16 Apr 2019</td> <th>  Prob (F-statistic):</th>   <td>  0.00</td>   \n",
       "</tr>\n",
       "<tr>\n",
       "  <th>Time:</th>                 <td>15:06:44</td>     <th>  Log-Likelihood:    </th> <td>-2.9819e+05</td>\n",
       "</tr>\n",
       "<tr>\n",
       "  <th>No. Observations:</th>      <td> 21597</td>      <th>  AIC:               </th>  <td>5.964e+05</td> \n",
       "</tr>\n",
       "<tr>\n",
       "  <th>Df Residuals:</th>          <td> 21591</td>      <th>  BIC:               </th>  <td>5.964e+05</td> \n",
       "</tr>\n",
       "<tr>\n",
       "  <th>Df Model:</th>              <td>     5</td>      <th>                     </th>      <td> </td>     \n",
       "</tr>\n",
       "<tr>\n",
       "  <th>Covariance Type:</th>      <td>nonrobust</td>    <th>                     </th>      <td> </td>     \n",
       "</tr>\n",
       "</table>\n",
       "<table class=\"simpletable\">\n",
       "<tr>\n",
       "    <td></td>       <th>coef</th>     <th>std err</th>      <th>t</th>      <th>P>|t|</th>  <th>[0.025</th>    <th>0.975]</th>  \n",
       "</tr>\n",
       "<tr>\n",
       "  <th>const</th> <td>  -5.5e+05</td> <td> 1.29e+04</td> <td>  -42.756</td> <td> 0.000</td> <td>-5.75e+05</td> <td>-5.25e+05</td>\n",
       "</tr>\n",
       "<tr>\n",
       "  <th>x1</th>    <td>  182.8500</td> <td>    3.596</td> <td>   50.851</td> <td> 0.000</td> <td>  175.802</td> <td>  189.898</td>\n",
       "</tr>\n",
       "<tr>\n",
       "  <th>x2</th>    <td> 9.896e+04</td> <td> 2335.091</td> <td>   42.378</td> <td> 0.000</td> <td> 9.44e+04</td> <td> 1.04e+05</td>\n",
       "</tr>\n",
       "<tr>\n",
       "  <th>x3</th>    <td>   -2.7493</td> <td>    3.876</td> <td>   -0.709</td> <td> 0.478</td> <td>  -10.347</td> <td>    4.849</td>\n",
       "</tr>\n",
       "<tr>\n",
       "  <th>x4</th>    <td>-3.059e+04</td> <td> 3330.820</td> <td>   -9.185</td> <td> 0.000</td> <td>-3.71e+04</td> <td>-2.41e+04</td>\n",
       "</tr>\n",
       "<tr>\n",
       "  <th>x5</th>    <td> 9.579e+04</td> <td> 2240.663</td> <td>   42.751</td> <td> 0.000</td> <td> 9.14e+04</td> <td>    1e+05</td>\n",
       "</tr>\n",
       "</table>\n",
       "<table class=\"simpletable\">\n",
       "<tr>\n",
       "  <th>Omnibus:</th>       <td>16620.975</td> <th>  Durbin-Watson:     </th>  <td>   1.980</td>  \n",
       "</tr>\n",
       "<tr>\n",
       "  <th>Prob(Omnibus):</th>  <td> 0.000</td>   <th>  Jarque-Bera (JB):  </th> <td>1088824.458</td>\n",
       "</tr>\n",
       "<tr>\n",
       "  <th>Skew:</th>           <td> 3.161</td>   <th>  Prob(JB):          </th>  <td>    0.00</td>  \n",
       "</tr>\n",
       "<tr>\n",
       "  <th>Kurtosis:</th>       <td>37.205</td>   <th>  Cond. No.          </th>  <td>2.45e+04</td>  \n",
       "</tr>\n",
       "</table><br/><br/>Warnings:<br/>[1] Standard Errors assume that the covariance matrix of the errors is correctly specified.<br/>[2] The condition number is large, 2.45e+04. This might indicate that there are<br/>strong multicollinearity or other numerical problems."
      ],
      "text/plain": [
       "<class 'statsmodels.iolib.summary.Summary'>\n",
       "\"\"\"\n",
       "                            OLS Regression Results                            \n",
       "==============================================================================\n",
       "Dep. Variable:                  price   R-squared:                       0.574\n",
       "Model:                            OLS   Adj. R-squared:                  0.574\n",
       "Method:                 Least Squares   F-statistic:                     5809.\n",
       "Date:                Tue, 16 Apr 2019   Prob (F-statistic):               0.00\n",
       "Time:                        15:06:44   Log-Likelihood:            -2.9819e+05\n",
       "No. Observations:               21597   AIC:                         5.964e+05\n",
       "Df Residuals:                   21591   BIC:                         5.964e+05\n",
       "Df Model:                           5                                         \n",
       "Covariance Type:            nonrobust                                         \n",
       "==============================================================================\n",
       "                 coef    std err          t      P>|t|      [0.025      0.975]\n",
       "------------------------------------------------------------------------------\n",
       "const        -5.5e+05   1.29e+04    -42.756      0.000   -5.75e+05   -5.25e+05\n",
       "x1           182.8500      3.596     50.851      0.000     175.802     189.898\n",
       "x2          9.896e+04   2335.091     42.378      0.000    9.44e+04    1.04e+05\n",
       "x3            -2.7493      3.876     -0.709      0.478     -10.347       4.849\n",
       "x4         -3.059e+04   3330.820     -9.185      0.000   -3.71e+04   -2.41e+04\n",
       "x5          9.579e+04   2240.663     42.751      0.000    9.14e+04       1e+05\n",
       "==============================================================================\n",
       "Omnibus:                    16620.975   Durbin-Watson:                   1.980\n",
       "Prob(Omnibus):                  0.000   Jarque-Bera (JB):          1088824.458\n",
       "Skew:                           3.161   Prob(JB):                         0.00\n",
       "Kurtosis:                      37.205   Cond. No.                     2.45e+04\n",
       "==============================================================================\n",
       "\n",
       "Warnings:\n",
       "[1] Standard Errors assume that the covariance matrix of the errors is correctly specified.\n",
       "[2] The condition number is large, 2.45e+04. This might indicate that there are\n",
       "strong multicollinearity or other numerical problems.\n",
       "\"\"\""
      ]
     },
     "execution_count": 8,
     "metadata": {},
     "output_type": "execute_result"
    }
   ],
   "source": [
    "predictors = np.asarray(X1) #set predictors as numpy array of capital X\n",
    "predictors_int = sm.add_constant(predictors) #.add_constant\n",
    "model = sm.OLS(y1,predictors_int).fit() #statsmodels.OrdinaryLeastSquares (dependent var, array of predictors).fit()\n",
    "model.summary()"
   ]
  },
  {
   "cell_type": "code",
   "execution_count": 9,
   "metadata": {},
   "outputs": [
    {
     "name": "stderr",
     "output_type": "stream",
     "text": [
      "/anaconda3/lib/python3.7/site-packages/sklearn/preprocessing/data.py:625: DataConversionWarning: Data with input dtype int64, float64 were all converted to float64 by StandardScaler.\n",
      "  return self.partial_fit(X, y)\n",
      "/anaconda3/lib/python3.7/site-packages/sklearn/base.py:462: DataConversionWarning: Data with input dtype int64, float64 were all converted to float64 by StandardScaler.\n",
      "  return self.fit(X, **fit_params).transform(X)\n"
     ]
    }
   ],
   "source": [
    "\"\"\" Now using Sklearn\"\"\"\n",
    "ss = StandardScaler()\n",
    "\n",
    "X1_scaled = ss.fit_transform(X1)"
   ]
  },
  {
   "cell_type": "code",
   "execution_count": 10,
   "metadata": {},
   "outputs": [],
   "source": [
    "np.random.seed(33)\n",
    "\n",
    "X1_train,X1_test,y1_train,y1_test = train_test_split(X1_scaled,y1)"
   ]
  },
  {
   "cell_type": "code",
   "execution_count": 11,
   "metadata": {},
   "outputs": [
    {
     "data": {
      "text/plain": [
       "LinearRegression(copy_X=True, fit_intercept=True, n_jobs=None,\n",
       "         normalize=False)"
      ]
     },
     "execution_count": 11,
     "metadata": {},
     "output_type": "execute_result"
    }
   ],
   "source": [
    "lr = LinearRegression()\n",
    "lr.fit(X1_train,y1_train)"
   ]
  },
  {
   "cell_type": "code",
   "execution_count": 12,
   "metadata": {},
   "outputs": [
    {
     "data": {
      "text/plain": [
       "0.5815117275967296"
      ]
     },
     "execution_count": 12,
     "metadata": {},
     "output_type": "execute_result"
    }
   ],
   "source": [
    "lr.score(X1_test,y1_test) #r**2 value"
   ]
  },
  {
   "cell_type": "code",
   "execution_count": 13,
   "metadata": {},
   "outputs": [
    {
     "data": {
      "text/plain": [
       "array([161493.65221168, 118316.48323463,   3152.76714081, -25662.7335309 ,\n",
       "        69021.0727499 ])"
      ]
     },
     "execution_count": 13,
     "metadata": {},
     "output_type": "execute_result"
    }
   ],
   "source": [
    "lr.coef_"
   ]
  },
  {
   "cell_type": "code",
   "execution_count": 14,
   "metadata": {},
   "outputs": [],
   "source": [
    "r_2 = metrics.r2_score(y1_test, lr.predict(X1_test))\n",
    "vif = 1/(1-r_2)\n",
    "mae = metrics.mean_absolute_error(y1_test, lr.predict(X1_test))\n",
    "mse = metrics.mean_squared_error(y1_test, lr.predict(X1_test))"
   ]
  },
  {
   "cell_type": "code",
   "execution_count": 15,
   "metadata": {},
   "outputs": [
    {
     "name": "stdout",
     "output_type": "stream",
     "text": [
      "Our list of predictors: Index(['sqft_living', 'grade', 'sqft_living15', 'bathrooms', 'view'], dtype='object')\n",
      "The R-squared score of our test is 0.5815117275967296\n",
      "The MAE score of our test is 157595.4454267423\n",
      "The MSE score of our test is 60759037804.78904\n",
      "The RMSE score of our test is $246493.48430493867\n"
     ]
    }
   ],
   "source": [
    "#PRICE vs. TOP 6 dropping sqft_above #test size is .25\n",
    "print(f'Our list of predictors: {X1.columns}')\n",
    "print(f\"The R-squared score of our test is {r_2}\")\n",
    "print(f\"The MAE score of our test is {mae}\")\n",
    "print(f\"The MSE score of our test is {mse}\")\n",
    "print(f\"The RMSE score of our test is ${sqrt(mse)}\")"
   ]
  },
  {
   "cell_type": "markdown",
   "metadata": {},
   "source": [
    "#### Next Steps: Run K-Fold Cross Validation for Test[1] (dropping sqft_above)"
   ]
  },
  {
   "cell_type": "code",
   "execution_count": 16,
   "metadata": {},
   "outputs": [],
   "source": [
    "cv_5_results = cross_val_score(lr, X1_scaled, y1, cv=5, scoring=\"neg_mean_squared_error\")\n",
    "cv_10_results = cross_val_score(lr, X1_scaled, y1, cv=10, scoring=\"neg_mean_squared_error\")\n",
    "cv_20_results = cross_val_score(lr, X1_scaled, y1, cv=20, scoring=\"neg_mean_squared_error\")"
   ]
  },
  {
   "cell_type": "code",
   "execution_count": 17,
   "metadata": {},
   "outputs": [
    {
     "name": "stdout",
     "output_type": "stream",
     "text": [
      "CV5 - MEAN of 5 RMSE's: 240493.94515642096\n",
      "CV10 - MEAN of 10 RMSE's: 240456.4610955803\n",
      "CV20 - MEAN of 20 RMSE's: 240238.4621285325\n"
     ]
    }
   ],
   "source": [
    "print(f\"CV5 - MEAN of 5 RMSE's: {sqrt(-1*np.mean(cv_5_results))}\")\n",
    "print(f\"CV10 - MEAN of 10 RMSE's: {sqrt(-1*np.mean(cv_10_results))}\")\n",
    "print(f\"CV20 - MEAN of 20 RMSE's: {sqrt(-1*np.mean(cv_20_results))}\")"
   ]
  },
  {
   "cell_type": "markdown",
   "metadata": {},
   "source": [
    "##  Test[1] Observations: dropping sqft_above\n",
    "- Our key metric, RMSE, went up slightly after dropping sqft_above\n",
    "- Our secondary model quality metric R-squared decreased slightly after dropping sqft_above\n",
    "- Our other secondary model quality metrics MSE & MAE unfortunately increased slightly after dropping sqft_above\n",
    "- After testing model quality with K-folds cross validation (k=5,10,20), our model's RSME increases, indicating our benchmark model is still the superior one\n",
    "- **Test 1 did not improve our model, keep sqft_above**"
   ]
  },
  {
   "cell_type": "markdown",
   "metadata": {},
   "source": [
    "## Test[2]: add in 'distance_from_flatiron' (new feature engineered from lat & long)"
   ]
  },
  {
   "cell_type": "code",
   "execution_count": 18,
   "metadata": {},
   "outputs": [],
   "source": [
    "X2 = df[['sqft_living', 'grade', 'sqft_above', 'sqft_living15', 'bathrooms',\n",
    "       'view','distance_from_flatiron']]\n",
    "y2 = df['price']"
   ]
  },
  {
   "cell_type": "code",
   "execution_count": 19,
   "metadata": {},
   "outputs": [
    {
     "data": {
      "text/html": [
       "<table class=\"simpletable\">\n",
       "<caption>OLS Regression Results</caption>\n",
       "<tr>\n",
       "  <th>Dep. Variable:</th>          <td>price</td>      <th>  R-squared:         </th>  <td>   0.672</td>  \n",
       "</tr>\n",
       "<tr>\n",
       "  <th>Model:</th>                   <td>OLS</td>       <th>  Adj. R-squared:    </th>  <td>   0.672</td>  \n",
       "</tr>\n",
       "<tr>\n",
       "  <th>Method:</th>             <td>Least Squares</td>  <th>  F-statistic:       </th>  <td>   6320.</td>  \n",
       "</tr>\n",
       "<tr>\n",
       "  <th>Date:</th>             <td>Tue, 16 Apr 2019</td> <th>  Prob (F-statistic):</th>   <td>  0.00</td>   \n",
       "</tr>\n",
       "<tr>\n",
       "  <th>Time:</th>                 <td>15:06:45</td>     <th>  Log-Likelihood:    </th> <td>-2.9535e+05</td>\n",
       "</tr>\n",
       "<tr>\n",
       "  <th>No. Observations:</th>      <td> 21597</td>      <th>  AIC:               </th>  <td>5.907e+05</td> \n",
       "</tr>\n",
       "<tr>\n",
       "  <th>Df Residuals:</th>          <td> 21589</td>      <th>  BIC:               </th>  <td>5.908e+05</td> \n",
       "</tr>\n",
       "<tr>\n",
       "  <th>Df Model:</th>              <td>     7</td>      <th>                     </th>      <td> </td>     \n",
       "</tr>\n",
       "<tr>\n",
       "  <th>Covariance Type:</th>      <td>nonrobust</td>    <th>                     </th>      <td> </td>     \n",
       "</tr>\n",
       "</table>\n",
       "<table class=\"simpletable\">\n",
       "<tr>\n",
       "    <td></td>       <th>coef</th>     <th>std err</th>      <th>t</th>      <th>P>|t|</th>  <th>[0.025</th>    <th>0.975]</th>  \n",
       "</tr>\n",
       "<tr>\n",
       "  <th>const</th> <td>-2.569e+05</td> <td> 1.23e+04</td> <td>  -20.884</td> <td> 0.000</td> <td>-2.81e+05</td> <td>-2.33e+05</td>\n",
       "</tr>\n",
       "<tr>\n",
       "  <th>x1</th>    <td>  157.2367</td> <td>    3.979</td> <td>   39.515</td> <td> 0.000</td> <td>  149.437</td> <td>  165.036</td>\n",
       "</tr>\n",
       "<tr>\n",
       "  <th>x2</th>    <td> 7.039e+04</td> <td> 2145.790</td> <td>   32.803</td> <td> 0.000</td> <td> 6.62e+04</td> <td> 7.46e+04</td>\n",
       "</tr>\n",
       "<tr>\n",
       "  <th>x3</th>    <td>   41.2734</td> <td>    4.015</td> <td>   10.280</td> <td> 0.000</td> <td>   33.404</td> <td>   49.143</td>\n",
       "</tr>\n",
       "<tr>\n",
       "  <th>x4</th>    <td>   39.9793</td> <td>    3.477</td> <td>   11.500</td> <td> 0.000</td> <td>   33.165</td> <td>   46.794</td>\n",
       "</tr>\n",
       "<tr>\n",
       "  <th>x5</th>    <td>-1.488e+04</td> <td> 2928.004</td> <td>   -5.083</td> <td> 0.000</td> <td>-2.06e+04</td> <td>-9144.232</td>\n",
       "</tr>\n",
       "<tr>\n",
       "  <th>x6</th>    <td> 8.241e+04</td> <td> 2014.555</td> <td>   40.907</td> <td> 0.000</td> <td> 7.85e+04</td> <td> 8.64e+04</td>\n",
       "</tr>\n",
       "<tr>\n",
       "  <th>x7</th>    <td>-1.814e+04</td> <td>  227.619</td> <td>  -79.716</td> <td> 0.000</td> <td>-1.86e+04</td> <td>-1.77e+04</td>\n",
       "</tr>\n",
       "</table>\n",
       "<table class=\"simpletable\">\n",
       "<tr>\n",
       "  <th>Omnibus:</th>       <td>19389.543</td> <th>  Durbin-Watson:     </th>  <td>   1.987</td>  \n",
       "</tr>\n",
       "<tr>\n",
       "  <th>Prob(Omnibus):</th>  <td> 0.000</td>   <th>  Jarque-Bera (JB):  </th> <td>2150446.369</td>\n",
       "</tr>\n",
       "<tr>\n",
       "  <th>Skew:</th>           <td> 3.880</td>   <th>  Prob(JB):          </th>  <td>    0.00</td>  \n",
       "</tr>\n",
       "<tr>\n",
       "  <th>Kurtosis:</th>       <td>51.265</td>   <th>  Cond. No.          </th>  <td>3.16e+04</td>  \n",
       "</tr>\n",
       "</table><br/><br/>Warnings:<br/>[1] Standard Errors assume that the covariance matrix of the errors is correctly specified.<br/>[2] The condition number is large, 3.16e+04. This might indicate that there are<br/>strong multicollinearity or other numerical problems."
      ],
      "text/plain": [
       "<class 'statsmodels.iolib.summary.Summary'>\n",
       "\"\"\"\n",
       "                            OLS Regression Results                            \n",
       "==============================================================================\n",
       "Dep. Variable:                  price   R-squared:                       0.672\n",
       "Model:                            OLS   Adj. R-squared:                  0.672\n",
       "Method:                 Least Squares   F-statistic:                     6320.\n",
       "Date:                Tue, 16 Apr 2019   Prob (F-statistic):               0.00\n",
       "Time:                        15:06:45   Log-Likelihood:            -2.9535e+05\n",
       "No. Observations:               21597   AIC:                         5.907e+05\n",
       "Df Residuals:                   21589   BIC:                         5.908e+05\n",
       "Df Model:                           7                                         \n",
       "Covariance Type:            nonrobust                                         \n",
       "==============================================================================\n",
       "                 coef    std err          t      P>|t|      [0.025      0.975]\n",
       "------------------------------------------------------------------------------\n",
       "const      -2.569e+05   1.23e+04    -20.884      0.000   -2.81e+05   -2.33e+05\n",
       "x1           157.2367      3.979     39.515      0.000     149.437     165.036\n",
       "x2          7.039e+04   2145.790     32.803      0.000    6.62e+04    7.46e+04\n",
       "x3            41.2734      4.015     10.280      0.000      33.404      49.143\n",
       "x4            39.9793      3.477     11.500      0.000      33.165      46.794\n",
       "x5         -1.488e+04   2928.004     -5.083      0.000   -2.06e+04   -9144.232\n",
       "x6          8.241e+04   2014.555     40.907      0.000    7.85e+04    8.64e+04\n",
       "x7         -1.814e+04    227.619    -79.716      0.000   -1.86e+04   -1.77e+04\n",
       "==============================================================================\n",
       "Omnibus:                    19389.543   Durbin-Watson:                   1.987\n",
       "Prob(Omnibus):                  0.000   Jarque-Bera (JB):          2150446.369\n",
       "Skew:                           3.880   Prob(JB):                         0.00\n",
       "Kurtosis:                      51.265   Cond. No.                     3.16e+04\n",
       "==============================================================================\n",
       "\n",
       "Warnings:\n",
       "[1] Standard Errors assume that the covariance matrix of the errors is correctly specified.\n",
       "[2] The condition number is large, 3.16e+04. This might indicate that there are\n",
       "strong multicollinearity or other numerical problems.\n",
       "\"\"\""
      ]
     },
     "execution_count": 19,
     "metadata": {},
     "output_type": "execute_result"
    }
   ],
   "source": [
    "predictors = np.asarray(X2) #set predictors as numpy array of capital X\n",
    "predictors_int = sm.add_constant(predictors) #.add_constant\n",
    "model2 = sm.OLS(y2,predictors_int).fit() #statsmodels.OrdinaryLeastSquares (dependent var, array of predictors).fit()\n",
    "model2.summary()"
   ]
  },
  {
   "cell_type": "code",
   "execution_count": 20,
   "metadata": {},
   "outputs": [
    {
     "name": "stderr",
     "output_type": "stream",
     "text": [
      "/anaconda3/lib/python3.7/site-packages/sklearn/preprocessing/data.py:625: DataConversionWarning: Data with input dtype int64, float64 were all converted to float64 by StandardScaler.\n",
      "  return self.partial_fit(X, y)\n",
      "/anaconda3/lib/python3.7/site-packages/sklearn/base.py:462: DataConversionWarning: Data with input dtype int64, float64 were all converted to float64 by StandardScaler.\n",
      "  return self.fit(X, **fit_params).transform(X)\n"
     ]
    }
   ],
   "source": [
    "\"\"\" Now using Sklearn\"\"\"\n",
    "ss = StandardScaler()\n",
    "\n",
    "X2_scaled = ss.fit_transform(X2)"
   ]
  },
  {
   "cell_type": "code",
   "execution_count": 21,
   "metadata": {},
   "outputs": [],
   "source": [
    "np.random.seed(33)\n",
    "\n",
    "X2_train,X2_test,y2_train,y2_test = train_test_split(X2_scaled,y2)"
   ]
  },
  {
   "cell_type": "code",
   "execution_count": 22,
   "metadata": {},
   "outputs": [
    {
     "data": {
      "text/plain": [
       "LinearRegression(copy_X=True, fit_intercept=True, n_jobs=None,\n",
       "         normalize=False)"
      ]
     },
     "execution_count": 22,
     "metadata": {},
     "output_type": "execute_result"
    }
   ],
   "source": [
    "lr.fit(X2_train,y2_train)"
   ]
  },
  {
   "cell_type": "code",
   "execution_count": 23,
   "metadata": {},
   "outputs": [
    {
     "data": {
      "text/plain": [
       "0.6755779569205969"
      ]
     },
     "execution_count": 23,
     "metadata": {},
     "output_type": "execute_result"
    }
   ],
   "source": [
    "lr.score(X2_test,y2_test) #r**2 value"
   ]
  },
  {
   "cell_type": "code",
   "execution_count": 24,
   "metadata": {},
   "outputs": [
    {
     "data": {
      "text/plain": [
       "array([ 137716.88436796,   85031.03786096,   34399.45769707,\n",
       "         32262.68581817,  -13351.37300781,   59142.80946922,\n",
       "       -121648.06805235])"
      ]
     },
     "execution_count": 24,
     "metadata": {},
     "output_type": "execute_result"
    }
   ],
   "source": [
    "lr.coef_"
   ]
  },
  {
   "cell_type": "code",
   "execution_count": 25,
   "metadata": {},
   "outputs": [],
   "source": [
    "r_2 = metrics.r2_score(y2_test, lr.predict(X2_test))\n",
    "mae = metrics.mean_absolute_error(y2_test, lr.predict(X2_test))\n",
    "mse = metrics.mean_squared_error(y2_test, lr.predict(X2_test))"
   ]
  },
  {
   "cell_type": "code",
   "execution_count": 26,
   "metadata": {},
   "outputs": [
    {
     "name": "stdout",
     "output_type": "stream",
     "text": [
      "Our list of predictors: Index(['sqft_living', 'grade', 'sqft_above', 'sqft_living15', 'bathrooms',\n",
      "       'view', 'distance_from_flatiron'],\n",
      "      dtype='object')\n",
      "The R-squared score of our test is 0.6755779569205969\n",
      "The MAE score of our test is 132135.8016805119\n",
      "The MSE score of our test is 47101848438.83411\n",
      "The RMSE score of our test is $217029.6026786072\n"
     ]
    }
   ],
   "source": [
    "#PRICE vs. TOP 6 + distance_from_flatiron  #test size is .25\n",
    "print(f'Our list of predictors: {X2.columns}')\n",
    "print(f\"The R-squared score of our test is {r_2}\")\n",
    "print(f\"The MAE score of our test is {mae}\")\n",
    "print(f\"The MSE score of our test is {mse}\")\n",
    "print(f\"The RMSE score of our test is ${sqrt(mse)}\")"
   ]
  },
  {
   "cell_type": "code",
   "execution_count": 27,
   "metadata": {},
   "outputs": [],
   "source": [
    "cv_5_results = cross_val_score(lr, X2_scaled, y2, cv=5, scoring=\"neg_mean_squared_error\")\n",
    "cv_10_results = cross_val_score(lr, X2_scaled, y2, cv=10, scoring=\"neg_mean_squared_error\")\n",
    "cv_20_results = cross_val_score(lr, X2_scaled, y2, cv=20, scoring=\"neg_mean_squared_error\")"
   ]
  },
  {
   "cell_type": "code",
   "execution_count": 29,
   "metadata": {},
   "outputs": [
    {
     "name": "stdout",
     "output_type": "stream",
     "text": [
      "CV5 - MEAN of 5 RMSE's: 210789.83742773952\n",
      "CV10 - MEAN of 10 RMSE's: 210801.22241987867\n",
      "CV20 - MEAN of 20 RMSE's: $210691.4784360575\n"
     ]
    }
   ],
   "source": [
    "print(f\"CV5 - MEAN of 5 RMSE's: {sqrt(-1*np.mean(cv_5_results))}\")\n",
    "print(f\"CV10 - MEAN of 10 RMSE's: {sqrt(-1*np.mean(cv_10_results))}\")\n",
    "print(f\"CV20 - MEAN of 20 RMSE's: ${sqrt(-1*np.mean(cv_20_results))}\")"
   ]
  },
  {
   "cell_type": "markdown",
   "metadata": {},
   "source": [
    "## Test[2] Observations: adding distance_from_flatiron"
   ]
  },
  {
   "cell_type": "markdown",
   "metadata": {},
   "source": [
    "- After RSME decreases by a significant amount (approx. $30K, decrease in RSME of 12.5%)\n",
    "- **Test[2] improved our model significantly, we should keep 'distance_from_flatiron' in our model**"
   ]
  },
  {
   "cell_type": "markdown",
   "metadata": {},
   "source": [
    "## Reassessing correlation matrix to find the optimal next feature to drop"
   ]
  },
  {
   "cell_type": "code",
   "execution_count": 38,
   "metadata": {},
   "outputs": [],
   "source": [
    "df7 = df[['price','sqft_living', 'grade', 'sqft_above', 'sqft_living15', 'bathrooms',\n",
    "       'view','distance_from_flatiron']]"
   ]
  },
  {
   "cell_type": "code",
   "execution_count": 52,
   "metadata": {},
   "outputs": [
    {
     "data": {
      "text/html": [
       "<div>\n",
       "<style scoped>\n",
       "    .dataframe tbody tr th:only-of-type {\n",
       "        vertical-align: middle;\n",
       "    }\n",
       "\n",
       "    .dataframe tbody tr th {\n",
       "        vertical-align: top;\n",
       "    }\n",
       "\n",
       "    .dataframe thead th {\n",
       "        text-align: right;\n",
       "    }\n",
       "</style>\n",
       "<table border=\"1\" class=\"dataframe\">\n",
       "  <thead>\n",
       "    <tr style=\"text-align: right;\">\n",
       "      <th></th>\n",
       "      <th>price</th>\n",
       "      <th>sqft_living</th>\n",
       "      <th>grade</th>\n",
       "      <th>sqft_above</th>\n",
       "      <th>sqft_living15</th>\n",
       "      <th>bathrooms</th>\n",
       "      <th>view</th>\n",
       "      <th>distance_from_flatiron</th>\n",
       "    </tr>\n",
       "  </thead>\n",
       "  <tbody>\n",
       "    <tr>\n",
       "      <th>price</th>\n",
       "      <td>True</td>\n",
       "      <td>False</td>\n",
       "      <td>False</td>\n",
       "      <td>False</td>\n",
       "      <td>False</td>\n",
       "      <td>False</td>\n",
       "      <td>False</td>\n",
       "      <td>False</td>\n",
       "    </tr>\n",
       "    <tr>\n",
       "      <th>sqft_living</th>\n",
       "      <td>False</td>\n",
       "      <td>True</td>\n",
       "      <td>True</td>\n",
       "      <td>True</td>\n",
       "      <td>True</td>\n",
       "      <td>True</td>\n",
       "      <td>False</td>\n",
       "      <td>False</td>\n",
       "    </tr>\n",
       "    <tr>\n",
       "      <th>grade</th>\n",
       "      <td>False</td>\n",
       "      <td>True</td>\n",
       "      <td>True</td>\n",
       "      <td>True</td>\n",
       "      <td>False</td>\n",
       "      <td>False</td>\n",
       "      <td>False</td>\n",
       "      <td>False</td>\n",
       "    </tr>\n",
       "    <tr>\n",
       "      <th>sqft_above</th>\n",
       "      <td>False</td>\n",
       "      <td>True</td>\n",
       "      <td>True</td>\n",
       "      <td>True</td>\n",
       "      <td>False</td>\n",
       "      <td>False</td>\n",
       "      <td>False</td>\n",
       "      <td>False</td>\n",
       "    </tr>\n",
       "    <tr>\n",
       "      <th>sqft_living15</th>\n",
       "      <td>False</td>\n",
       "      <td>True</td>\n",
       "      <td>False</td>\n",
       "      <td>False</td>\n",
       "      <td>True</td>\n",
       "      <td>False</td>\n",
       "      <td>False</td>\n",
       "      <td>False</td>\n",
       "    </tr>\n",
       "    <tr>\n",
       "      <th>bathrooms</th>\n",
       "      <td>False</td>\n",
       "      <td>True</td>\n",
       "      <td>False</td>\n",
       "      <td>False</td>\n",
       "      <td>False</td>\n",
       "      <td>True</td>\n",
       "      <td>False</td>\n",
       "      <td>False</td>\n",
       "    </tr>\n",
       "    <tr>\n",
       "      <th>view</th>\n",
       "      <td>False</td>\n",
       "      <td>False</td>\n",
       "      <td>False</td>\n",
       "      <td>False</td>\n",
       "      <td>False</td>\n",
       "      <td>False</td>\n",
       "      <td>True</td>\n",
       "      <td>False</td>\n",
       "    </tr>\n",
       "    <tr>\n",
       "      <th>distance_from_flatiron</th>\n",
       "      <td>False</td>\n",
       "      <td>False</td>\n",
       "      <td>False</td>\n",
       "      <td>False</td>\n",
       "      <td>False</td>\n",
       "      <td>False</td>\n",
       "      <td>False</td>\n",
       "      <td>True</td>\n",
       "    </tr>\n",
       "  </tbody>\n",
       "</table>\n",
       "</div>"
      ],
      "text/plain": [
       "                        price  sqft_living  grade  sqft_above  sqft_living15  \\\n",
       "price                    True        False  False       False          False   \n",
       "sqft_living             False         True   True        True           True   \n",
       "grade                   False         True   True        True          False   \n",
       "sqft_above              False         True   True        True          False   \n",
       "sqft_living15           False         True  False       False           True   \n",
       "bathrooms               False         True  False       False          False   \n",
       "view                    False        False  False       False          False   \n",
       "distance_from_flatiron  False        False  False       False          False   \n",
       "\n",
       "                        bathrooms   view  distance_from_flatiron  \n",
       "price                       False  False                   False  \n",
       "sqft_living                  True  False                   False  \n",
       "grade                       False  False                   False  \n",
       "sqft_above                  False  False                   False  \n",
       "sqft_living15               False  False                   False  \n",
       "bathrooms                    True  False                   False  \n",
       "view                        False   True                   False  \n",
       "distance_from_flatiron      False  False                    True  "
      ]
     },
     "execution_count": 52,
     "metadata": {},
     "output_type": "execute_result"
    }
   ],
   "source": [
    "abs(df7.corr()) > .75"
   ]
  },
  {
   "cell_type": "code",
   "execution_count": 53,
   "metadata": {},
   "outputs": [
    {
     "data": {
      "text/plain": [
       "<matplotlib.axes._subplots.AxesSubplot at 0x1c17eed518>"
      ]
     },
     "execution_count": 53,
     "metadata": {},
     "output_type": "execute_result"
    },
    {
     "data": {
      "image/png": "[encoded data removed]",
      "text/plain": [
       "<Figure size 1080x864 with 2 Axes>"
      ]
     },
     "metadata": {},
     "output_type": "display_data"
    }
   ],
   "source": [
    "sns.set(rc={'figure.figsize': (15,12)})\n",
    "sns.heatmap(df7.corr(), annot=True)"
   ]
  },
  {
   "cell_type": "markdown",
   "metadata": {},
   "source": [
    "- grade has high correlation with sqft_living (currently understood as our best predictor of price) and sqft_above (which Test[1] suggests we should keep in our model for now\n",
    "- dropping grade may reduce our model's collinearity, let's try it!"
   ]
  },
  {
   "cell_type": "markdown",
   "metadata": {},
   "source": [
    "## Test[3]: drop grade"
   ]
  },
  {
   "cell_type": "code",
   "execution_count": 54,
   "metadata": {},
   "outputs": [],
   "source": [
    "X3 = df[['sqft_living', 'sqft_above', 'sqft_living15', 'bathrooms',\n",
    "       'view','distance_from_flatiron']]\n",
    "y3 = df['price']"
   ]
  },
  {
   "cell_type": "code",
   "execution_count": 55,
   "metadata": {},
   "outputs": [
    {
     "data": {
      "text/html": [
       "<table class=\"simpletable\">\n",
       "<caption>OLS Regression Results</caption>\n",
       "<tr>\n",
       "  <th>Dep. Variable:</th>          <td>price</td>      <th>  R-squared:         </th>  <td>   0.656</td>  \n",
       "</tr>\n",
       "<tr>\n",
       "  <th>Model:</th>                   <td>OLS</td>       <th>  Adj. R-squared:    </th>  <td>   0.656</td>  \n",
       "</tr>\n",
       "<tr>\n",
       "  <th>Method:</th>             <td>Least Squares</td>  <th>  F-statistic:       </th>  <td>   6853.</td>  \n",
       "</tr>\n",
       "<tr>\n",
       "  <th>Date:</th>             <td>Tue, 16 Apr 2019</td> <th>  Prob (F-statistic):</th>   <td>  0.00</td>   \n",
       "</tr>\n",
       "<tr>\n",
       "  <th>Time:</th>                 <td>15:30:16</td>     <th>  Log-Likelihood:    </th> <td>-2.9588e+05</td>\n",
       "</tr>\n",
       "<tr>\n",
       "  <th>No. Observations:</th>      <td> 21597</td>      <th>  AIC:               </th>  <td>5.918e+05</td> \n",
       "</tr>\n",
       "<tr>\n",
       "  <th>Df Residuals:</th>          <td> 21590</td>      <th>  BIC:               </th>  <td>5.918e+05</td> \n",
       "</tr>\n",
       "<tr>\n",
       "  <th>Df Model:</th>              <td>     6</td>      <th>                     </th>      <td> </td>     \n",
       "</tr>\n",
       "<tr>\n",
       "  <th>Covariance Type:</th>      <td>nonrobust</td>    <th>                     </th>      <td> </td>     \n",
       "</tr>\n",
       "</table>\n",
       "<table class=\"simpletable\">\n",
       "<tr>\n",
       "    <td></td>       <th>coef</th>     <th>std err</th>      <th>t</th>      <th>P>|t|</th>  <th>[0.025</th>    <th>0.975]</th>  \n",
       "</tr>\n",
       "<tr>\n",
       "  <th>const</th> <td> 1.063e+05</td> <td> 5493.175</td> <td>   19.352</td> <td> 0.000</td> <td> 9.55e+04</td> <td> 1.17e+05</td>\n",
       "</tr>\n",
       "<tr>\n",
       "  <th>x1</th>    <td>  165.1775</td> <td>    4.069</td> <td>   40.589</td> <td> 0.000</td> <td>  157.201</td> <td>  173.154</td>\n",
       "</tr>\n",
       "<tr>\n",
       "  <th>x2</th>    <td>   76.5032</td> <td>    3.964</td> <td>   19.302</td> <td> 0.000</td> <td>   68.734</td> <td>   84.272</td>\n",
       "</tr>\n",
       "<tr>\n",
       "  <th>x3</th>    <td>   73.6965</td> <td>    3.403</td> <td>   21.658</td> <td> 0.000</td> <td>   67.027</td> <td>   80.366</td>\n",
       "</tr>\n",
       "<tr>\n",
       "  <th>x4</th>    <td> 6551.5022</td> <td> 2924.357</td> <td>    2.240</td> <td> 0.025</td> <td>  819.546</td> <td> 1.23e+04</td>\n",
       "</tr>\n",
       "<tr>\n",
       "  <th>x5</th>    <td> 8.688e+04</td> <td> 2059.371</td> <td>   42.188</td> <td> 0.000</td> <td> 8.28e+04</td> <td> 9.09e+04</td>\n",
       "</tr>\n",
       "<tr>\n",
       "  <th>x6</th>    <td>-1.963e+04</td> <td>  228.587</td> <td>  -85.855</td> <td> 0.000</td> <td>-2.01e+04</td> <td>-1.92e+04</td>\n",
       "</tr>\n",
       "</table>\n",
       "<table class=\"simpletable\">\n",
       "<tr>\n",
       "  <th>Omnibus:</th>       <td>17992.478</td> <th>  Durbin-Watson:     </th>  <td>   1.990</td>  \n",
       "</tr>\n",
       "<tr>\n",
       "  <th>Prob(Omnibus):</th>  <td> 0.000</td>   <th>  Jarque-Bera (JB):  </th> <td>1543550.808</td>\n",
       "</tr>\n",
       "<tr>\n",
       "  <th>Skew:</th>           <td> 3.502</td>   <th>  Prob(JB):          </th>  <td>    0.00</td>  \n",
       "</tr>\n",
       "<tr>\n",
       "  <th>Kurtosis:</th>       <td>43.819</td>   <th>  Cond. No.          </th>  <td>1.40e+04</td>  \n",
       "</tr>\n",
       "</table><br/><br/>Warnings:<br/>[1] Standard Errors assume that the covariance matrix of the errors is correctly specified.<br/>[2] The condition number is large, 1.4e+04. This might indicate that there are<br/>strong multicollinearity or other numerical problems."
      ],
      "text/plain": [
       "<class 'statsmodels.iolib.summary.Summary'>\n",
       "\"\"\"\n",
       "                            OLS Regression Results                            \n",
       "==============================================================================\n",
       "Dep. Variable:                  price   R-squared:                       0.656\n",
       "Model:                            OLS   Adj. R-squared:                  0.656\n",
       "Method:                 Least Squares   F-statistic:                     6853.\n",
       "Date:                Tue, 16 Apr 2019   Prob (F-statistic):               0.00\n",
       "Time:                        15:30:16   Log-Likelihood:            -2.9588e+05\n",
       "No. Observations:               21597   AIC:                         5.918e+05\n",
       "Df Residuals:                   21590   BIC:                         5.918e+05\n",
       "Df Model:                           6                                         \n",
       "Covariance Type:            nonrobust                                         \n",
       "==============================================================================\n",
       "                 coef    std err          t      P>|t|      [0.025      0.975]\n",
       "------------------------------------------------------------------------------\n",
       "const       1.063e+05   5493.175     19.352      0.000    9.55e+04    1.17e+05\n",
       "x1           165.1775      4.069     40.589      0.000     157.201     173.154\n",
       "x2            76.5032      3.964     19.302      0.000      68.734      84.272\n",
       "x3            73.6965      3.403     21.658      0.000      67.027      80.366\n",
       "x4          6551.5022   2924.357      2.240      0.025     819.546    1.23e+04\n",
       "x5          8.688e+04   2059.371     42.188      0.000    8.28e+04    9.09e+04\n",
       "x6         -1.963e+04    228.587    -85.855      0.000   -2.01e+04   -1.92e+04\n",
       "==============================================================================\n",
       "Omnibus:                    17992.478   Durbin-Watson:                   1.990\n",
       "Prob(Omnibus):                  0.000   Jarque-Bera (JB):          1543550.808\n",
       "Skew:                           3.502   Prob(JB):                         0.00\n",
       "Kurtosis:                      43.819   Cond. No.                     1.40e+04\n",
       "==============================================================================\n",
       "\n",
       "Warnings:\n",
       "[1] Standard Errors assume that the covariance matrix of the errors is correctly specified.\n",
       "[2] The condition number is large, 1.4e+04. This might indicate that there are\n",
       "strong multicollinearity or other numerical problems.\n",
       "\"\"\""
      ]
     },
     "execution_count": 55,
     "metadata": {},
     "output_type": "execute_result"
    }
   ],
   "source": [
    "predictors = np.asarray(X3) #set predictors as numpy array of capital X\n",
    "predictors_int = sm.add_constant(predictors) #.add_constant\n",
    "model3 = sm.OLS(y3,predictors_int).fit() #statsmodels.OrdinaryLeastSquares (dependent var, array of predictors).fit()\n",
    "model3.summary()"
   ]
  },
  {
   "cell_type": "code",
   "execution_count": 56,
   "metadata": {},
   "outputs": [
    {
     "name": "stderr",
     "output_type": "stream",
     "text": [
      "/anaconda3/lib/python3.7/site-packages/sklearn/preprocessing/data.py:625: DataConversionWarning: Data with input dtype int64, float64 were all converted to float64 by StandardScaler.\n",
      "  return self.partial_fit(X, y)\n",
      "/anaconda3/lib/python3.7/site-packages/sklearn/base.py:462: DataConversionWarning: Data with input dtype int64, float64 were all converted to float64 by StandardScaler.\n",
      "  return self.fit(X, **fit_params).transform(X)\n"
     ]
    }
   ],
   "source": [
    "\"\"\" Now using Sklearn\"\"\"\n",
    "ss = StandardScaler()\n",
    "\n",
    "X3_scaled = ss.fit_transform(X3)"
   ]
  },
  {
   "cell_type": "code",
   "execution_count": 57,
   "metadata": {},
   "outputs": [],
   "source": [
    "np.random.seed(33)\n",
    "\n",
    "X3_train,X3_test,y3_train,y3_test = train_test_split(X3_scaled,y3)"
   ]
  },
  {
   "cell_type": "code",
   "execution_count": 58,
   "metadata": {},
   "outputs": [
    {
     "data": {
      "text/plain": [
       "LinearRegression(copy_X=True, fit_intercept=True, n_jobs=None,\n",
       "         normalize=False)"
      ]
     },
     "execution_count": 58,
     "metadata": {},
     "output_type": "execute_result"
    }
   ],
   "source": [
    "lr.fit(X3_train,y3_train)"
   ]
  },
  {
   "cell_type": "code",
   "execution_count": 59,
   "metadata": {},
   "outputs": [
    {
     "data": {
      "text/plain": [
       "0.6630560547182283"
      ]
     },
     "execution_count": 59,
     "metadata": {},
     "output_type": "execute_result"
    }
   ],
   "source": [
    "lr.score(X3_test,y3_test) #r**2 value"
   ]
  },
  {
   "cell_type": "code",
   "execution_count": 60,
   "metadata": {},
   "outputs": [
    {
     "data": {
      "text/plain": [
       "array([ 145233.21719084,   64362.99251029,   55832.88402495,\n",
       "          3835.2050749 ,   62742.88991393, -131811.40052588])"
      ]
     },
     "execution_count": 60,
     "metadata": {},
     "output_type": "execute_result"
    }
   ],
   "source": [
    "lr.coef_"
   ]
  },
  {
   "cell_type": "code",
   "execution_count": 61,
   "metadata": {},
   "outputs": [],
   "source": [
    "r_2 = metrics.r2_score(y3_test, lr.predict(X3_test))\n",
    "mae = metrics.mean_absolute_error(y3_test, lr.predict(X3_test))\n",
    "mse = metrics.mean_squared_error(y3_test, lr.predict(X3_test))"
   ]
  },
  {
   "cell_type": "code",
   "execution_count": 62,
   "metadata": {},
   "outputs": [
    {
     "name": "stdout",
     "output_type": "stream",
     "text": [
      "Our list of predictors: Index(['sqft_living', 'sqft_above', 'sqft_living15', 'bathrooms', 'view',\n",
      "       'distance_from_flatiron'],\n",
      "      dtype='object')\n",
      "The R-squared score of our test is 0.6630560547182283\n",
      "The MAE score of our test is 137136.4209918783\n",
      "The MSE score of our test is 48919865285.35742\n",
      "The RMSE score of our test is $221178.3562769138\n"
     ]
    }
   ],
   "source": [
    "#PRICE vs. TOP 7, but dropping grade #test size is .25\n",
    "print(f'Our list of predictors: {X3.columns}')\n",
    "print(f\"The R-squared score of our test is {r_2}\")\n",
    "print(f\"The MAE score of our test is {mae}\")\n",
    "print(f\"The MSE score of our test is {mse}\")\n",
    "print(f\"The RMSE score of our test is ${sqrt(mse)}\")"
   ]
  },
  {
   "cell_type": "code",
   "execution_count": 63,
   "metadata": {},
   "outputs": [],
   "source": [
    "cv_5_results = cross_val_score(lr, X3_scaled, y3, cv=5, scoring=\"neg_mean_squared_error\")\n",
    "cv_10_results = cross_val_score(lr, X3_scaled, y3, cv=10, scoring=\"neg_mean_squared_error\")\n",
    "cv_20_results = cross_val_score(lr, X3_scaled, y3, cv=20, scoring=\"neg_mean_squared_error\")"
   ]
  },
  {
   "cell_type": "code",
   "execution_count": 64,
   "metadata": {},
   "outputs": [
    {
     "name": "stdout",
     "output_type": "stream",
     "text": [
      "CV5 - MEAN of 5 RMSE's: 215958.61481559623\n",
      "CV10 - MEAN of 10 RMSE's: 215955.31790222926\n",
      "CV20 - MEAN of 20 RMSE's: $215841.4653242048\n"
     ]
    }
   ],
   "source": [
    "print(f\"CV5 - MEAN of 5 RMSE's: {sqrt(-1*np.mean(cv_5_results))}\")\n",
    "print(f\"CV10 - MEAN of 10 RMSE's: {sqrt(-1*np.mean(cv_10_results))}\")\n",
    "print(f\"CV20 - MEAN of 20 RMSE's: ${sqrt(-1*np.mean(cv_20_results))}\")"
   ]
  },
  {
   "cell_type": "markdown",
   "metadata": {},
   "source": [
    "## Test[3] Observations: dropping 'grade'"
   ]
  },
  {
   "cell_type": "markdown",
   "metadata": {},
   "source": [
    "- Dropping 'grade' increased our RMSE from 210K to 215K, and dropped our R-squared slightly\n",
    "- **Test[3] did not improve our model**"
   ]
  },
  {
   "cell_type": "markdown",
   "metadata": {},
   "source": [
    "## Test[4]"
   ]
  },
  {
   "cell_type": "code",
   "execution_count": null,
   "metadata": {},
   "outputs": [],
   "source": []
  }
 ],
 "metadata": {
  "kernelspec": {
   "display_name": "Python [conda env:root]",
   "language": "python",
   "name": "conda-root-py"
  },
  "language_info": {
   "codemirror_mode": {
    "name": "ipython",
    "version": 3
   },
   "file_extension": ".py",
   "mimetype": "text/x-python",
   "name": "python",
   "nbconvert_exporter": "python",
   "pygments_lexer": "ipython3",
   "version": "3.7.1"
  }
 },
 "nbformat": 4,
 "nbformat_minor": 2
}
