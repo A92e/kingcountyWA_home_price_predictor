{
 "cells": [
  {
   "cell_type": "code",
   "execution_count": 1,
   "metadata": {},
   "outputs": [],
   "source": [
    "import pandas as pd\n",
    "import matplotlib.pyplot as plt\n",
    "%matplotlib inline\n",
    "import seaborn as sns\n",
    "import numpy as np\n",
    "\n",
    "import statsmodels.api as sm\n",
    "from statsmodels.formula.api import ols\n",
    "\n",
    "from sklearn.preprocessing import StandardScaler\n",
    "from sklearn.linear_model import LinearRegression\n",
    "lr = LinearRegression()\n",
    "from sklearn.model_selection import train_test_split\n",
    "from sklearn.model_selection import KFold\n",
    "from sklearn.model_selection import cross_val_score\n",
    "from sklearn.svm import SVR\n",
    "import sklearn.metrics as metrics\n",
    "from sklearn.metrics import mean_squared_error\n",
    "\n",
    "from math import sqrt"
   ]
  },
  {
   "cell_type": "code",
   "execution_count": 2,
   "metadata": {},
   "outputs": [],
   "source": [
    "df = pd.read_csv('house_data_cleaned.csv')"
   ]
  },
  {
   "cell_type": "code",
   "execution_count": 3,
   "metadata": {},
   "outputs": [
    {
     "data": {
      "text/html": [
       "<div>\n",
       "<style scoped>\n",
       "    .dataframe tbody tr th:only-of-type {\n",
       "        vertical-align: middle;\n",
       "    }\n",
       "\n",
       "    .dataframe tbody tr th {\n",
       "        vertical-align: top;\n",
       "    }\n",
       "\n",
       "    .dataframe thead th {\n",
       "        text-align: right;\n",
       "    }\n",
       "</style>\n",
       "<table border=\"1\" class=\"dataframe\">\n",
       "  <thead>\n",
       "    <tr style=\"text-align: right;\">\n",
       "      <th></th>\n",
       "      <th>id</th>\n",
       "      <th>date</th>\n",
       "      <th>price</th>\n",
       "      <th>bedrooms</th>\n",
       "      <th>bathrooms</th>\n",
       "      <th>sqft_living</th>\n",
       "      <th>sqft_lot</th>\n",
       "      <th>floors</th>\n",
       "      <th>waterfront</th>\n",
       "      <th>view</th>\n",
       "      <th>...</th>\n",
       "      <th>lat</th>\n",
       "      <th>long</th>\n",
       "      <th>sqft_living15</th>\n",
       "      <th>sqft_lot15</th>\n",
       "      <th>bed_bath_sum</th>\n",
       "      <th>renovation_yes</th>\n",
       "      <th>sqft_living_plus_lot</th>\n",
       "      <th>sqft_living_plus_lot_15</th>\n",
       "      <th>lat_long</th>\n",
       "      <th>distance_from_flatiron</th>\n",
       "    </tr>\n",
       "  </thead>\n",
       "  <tbody>\n",
       "    <tr>\n",
       "      <th>0</th>\n",
       "      <td>7129300520</td>\n",
       "      <td>2014-10-13</td>\n",
       "      <td>221900.0</td>\n",
       "      <td>3</td>\n",
       "      <td>1.00</td>\n",
       "      <td>1180</td>\n",
       "      <td>5650</td>\n",
       "      <td>1.0</td>\n",
       "      <td>0.0</td>\n",
       "      <td>0.0</td>\n",
       "      <td>...</td>\n",
       "      <td>47.5112</td>\n",
       "      <td>-122.257</td>\n",
       "      <td>1340</td>\n",
       "      <td>5650</td>\n",
       "      <td>4.00</td>\n",
       "      <td>0</td>\n",
       "      <td>6830</td>\n",
       "      <td>6990</td>\n",
       "      <td>(47.5112, -122.257)</td>\n",
       "      <td>7.714868</td>\n",
       "    </tr>\n",
       "    <tr>\n",
       "      <th>1</th>\n",
       "      <td>6414100192</td>\n",
       "      <td>2014-12-09</td>\n",
       "      <td>538000.0</td>\n",
       "      <td>3</td>\n",
       "      <td>2.25</td>\n",
       "      <td>2570</td>\n",
       "      <td>7242</td>\n",
       "      <td>2.0</td>\n",
       "      <td>0.0</td>\n",
       "      <td>0.0</td>\n",
       "      <td>...</td>\n",
       "      <td>47.7210</td>\n",
       "      <td>-122.319</td>\n",
       "      <td>1690</td>\n",
       "      <td>7639</td>\n",
       "      <td>5.25</td>\n",
       "      <td>1</td>\n",
       "      <td>9812</td>\n",
       "      <td>9329</td>\n",
       "      <td>(47.721, -122.319)</td>\n",
       "      <td>7.766476</td>\n",
       "    </tr>\n",
       "    <tr>\n",
       "      <th>2</th>\n",
       "      <td>5631500400</td>\n",
       "      <td>2015-02-25</td>\n",
       "      <td>180000.0</td>\n",
       "      <td>2</td>\n",
       "      <td>1.00</td>\n",
       "      <td>770</td>\n",
       "      <td>10000</td>\n",
       "      <td>1.0</td>\n",
       "      <td>0.0</td>\n",
       "      <td>0.0</td>\n",
       "      <td>...</td>\n",
       "      <td>47.7379</td>\n",
       "      <td>-122.233</td>\n",
       "      <td>2720</td>\n",
       "      <td>8062</td>\n",
       "      <td>3.00</td>\n",
       "      <td>0</td>\n",
       "      <td>10770</td>\n",
       "      <td>10782</td>\n",
       "      <td>(47.7379, -122.233)</td>\n",
       "      <td>10.107949</td>\n",
       "    </tr>\n",
       "    <tr>\n",
       "      <th>3</th>\n",
       "      <td>2487200875</td>\n",
       "      <td>2014-12-09</td>\n",
       "      <td>604000.0</td>\n",
       "      <td>4</td>\n",
       "      <td>3.00</td>\n",
       "      <td>1960</td>\n",
       "      <td>5000</td>\n",
       "      <td>1.0</td>\n",
       "      <td>0.0</td>\n",
       "      <td>0.0</td>\n",
       "      <td>...</td>\n",
       "      <td>47.5208</td>\n",
       "      <td>-122.393</td>\n",
       "      <td>1360</td>\n",
       "      <td>5000</td>\n",
       "      <td>7.00</td>\n",
       "      <td>0</td>\n",
       "      <td>6960</td>\n",
       "      <td>6360</td>\n",
       "      <td>(47.5208, -122.393)</td>\n",
       "      <td>6.655340</td>\n",
       "    </tr>\n",
       "    <tr>\n",
       "      <th>4</th>\n",
       "      <td>1954400510</td>\n",
       "      <td>2015-02-18</td>\n",
       "      <td>510000.0</td>\n",
       "      <td>3</td>\n",
       "      <td>2.00</td>\n",
       "      <td>1680</td>\n",
       "      <td>8080</td>\n",
       "      <td>1.0</td>\n",
       "      <td>0.0</td>\n",
       "      <td>0.0</td>\n",
       "      <td>...</td>\n",
       "      <td>47.6168</td>\n",
       "      <td>-122.045</td>\n",
       "      <td>1800</td>\n",
       "      <td>7503</td>\n",
       "      <td>5.00</td>\n",
       "      <td>0</td>\n",
       "      <td>9760</td>\n",
       "      <td>9303</td>\n",
       "      <td>(47.6168, -122.045)</td>\n",
       "      <td>13.578402</td>\n",
       "    </tr>\n",
       "  </tbody>\n",
       "</table>\n",
       "<p>5 rows × 27 columns</p>\n",
       "</div>"
      ],
      "text/plain": [
       "           id        date     price  bedrooms  bathrooms  sqft_living  \\\n",
       "0  7129300520  2014-10-13  221900.0         3       1.00         1180   \n",
       "1  6414100192  2014-12-09  538000.0         3       2.25         2570   \n",
       "2  5631500400  2015-02-25  180000.0         2       1.00          770   \n",
       "3  2487200875  2014-12-09  604000.0         4       3.00         1960   \n",
       "4  1954400510  2015-02-18  510000.0         3       2.00         1680   \n",
       "\n",
       "   sqft_lot  floors  waterfront  view           ...                lat  \\\n",
       "0      5650     1.0         0.0   0.0           ...            47.5112   \n",
       "1      7242     2.0         0.0   0.0           ...            47.7210   \n",
       "2     10000     1.0         0.0   0.0           ...            47.7379   \n",
       "3      5000     1.0         0.0   0.0           ...            47.5208   \n",
       "4      8080     1.0         0.0   0.0           ...            47.6168   \n",
       "\n",
       "      long  sqft_living15  sqft_lot15  bed_bath_sum  renovation_yes  \\\n",
       "0 -122.257           1340        5650          4.00               0   \n",
       "1 -122.319           1690        7639          5.25               1   \n",
       "2 -122.233           2720        8062          3.00               0   \n",
       "3 -122.393           1360        5000          7.00               0   \n",
       "4 -122.045           1800        7503          5.00               0   \n",
       "\n",
       "   sqft_living_plus_lot  sqft_living_plus_lot_15             lat_long  \\\n",
       "0                  6830                     6990  (47.5112, -122.257)   \n",
       "1                  9812                     9329   (47.721, -122.319)   \n",
       "2                 10770                    10782  (47.7379, -122.233)   \n",
       "3                  6960                     6360  (47.5208, -122.393)   \n",
       "4                  9760                     9303  (47.6168, -122.045)   \n",
       "\n",
       "   distance_from_flatiron  \n",
       "0                7.714868  \n",
       "1                7.766476  \n",
       "2               10.107949  \n",
       "3                6.655340  \n",
       "4               13.578402  \n",
       "\n",
       "[5 rows x 27 columns]"
      ]
     },
     "execution_count": 3,
     "metadata": {},
     "output_type": "execute_result"
    }
   ],
   "source": [
    "df.head()"
   ]
  },
  {
   "cell_type": "code",
   "execution_count": 4,
   "metadata": {},
   "outputs": [],
   "source": [
    "df6 = df[['price','sqft_living', 'grade', 'sqft_above', 'sqft_living15', 'bathrooms',\n",
    "       'view']]"
   ]
  },
  {
   "cell_type": "code",
   "execution_count": 5,
   "metadata": {},
   "outputs": [
    {
     "data": {
      "text/html": [
       "<div>\n",
       "<style scoped>\n",
       "    .dataframe tbody tr th:only-of-type {\n",
       "        vertical-align: middle;\n",
       "    }\n",
       "\n",
       "    .dataframe tbody tr th {\n",
       "        vertical-align: top;\n",
       "    }\n",
       "\n",
       "    .dataframe thead th {\n",
       "        text-align: right;\n",
       "    }\n",
       "</style>\n",
       "<table border=\"1\" class=\"dataframe\">\n",
       "  <thead>\n",
       "    <tr style=\"text-align: right;\">\n",
       "      <th></th>\n",
       "      <th>price</th>\n",
       "      <th>sqft_living</th>\n",
       "      <th>grade</th>\n",
       "      <th>sqft_above</th>\n",
       "      <th>sqft_living15</th>\n",
       "      <th>bathrooms</th>\n",
       "      <th>view</th>\n",
       "    </tr>\n",
       "  </thead>\n",
       "  <tbody>\n",
       "    <tr>\n",
       "      <th>0</th>\n",
       "      <td>221900.0</td>\n",
       "      <td>1180</td>\n",
       "      <td>7</td>\n",
       "      <td>1180</td>\n",
       "      <td>1340</td>\n",
       "      <td>1.00</td>\n",
       "      <td>0.0</td>\n",
       "    </tr>\n",
       "    <tr>\n",
       "      <th>1</th>\n",
       "      <td>538000.0</td>\n",
       "      <td>2570</td>\n",
       "      <td>7</td>\n",
       "      <td>2170</td>\n",
       "      <td>1690</td>\n",
       "      <td>2.25</td>\n",
       "      <td>0.0</td>\n",
       "    </tr>\n",
       "    <tr>\n",
       "      <th>2</th>\n",
       "      <td>180000.0</td>\n",
       "      <td>770</td>\n",
       "      <td>6</td>\n",
       "      <td>770</td>\n",
       "      <td>2720</td>\n",
       "      <td>1.00</td>\n",
       "      <td>0.0</td>\n",
       "    </tr>\n",
       "    <tr>\n",
       "      <th>3</th>\n",
       "      <td>604000.0</td>\n",
       "      <td>1960</td>\n",
       "      <td>7</td>\n",
       "      <td>1050</td>\n",
       "      <td>1360</td>\n",
       "      <td>3.00</td>\n",
       "      <td>0.0</td>\n",
       "    </tr>\n",
       "    <tr>\n",
       "      <th>4</th>\n",
       "      <td>510000.0</td>\n",
       "      <td>1680</td>\n",
       "      <td>8</td>\n",
       "      <td>1680</td>\n",
       "      <td>1800</td>\n",
       "      <td>2.00</td>\n",
       "      <td>0.0</td>\n",
       "    </tr>\n",
       "  </tbody>\n",
       "</table>\n",
       "</div>"
      ],
      "text/plain": [
       "      price  sqft_living  grade  sqft_above  sqft_living15  bathrooms  view\n",
       "0  221900.0         1180      7        1180           1340       1.00   0.0\n",
       "1  538000.0         2570      7        2170           1690       2.25   0.0\n",
       "2  180000.0          770      6         770           2720       1.00   0.0\n",
       "3  604000.0         1960      7        1050           1360       3.00   0.0\n",
       "4  510000.0         1680      8        1680           1800       2.00   0.0"
      ]
     },
     "execution_count": 5,
     "metadata": {},
     "output_type": "execute_result"
    }
   ],
   "source": [
    "df6.head()"
   ]
  },
  {
   "cell_type": "code",
   "execution_count": 6,
   "metadata": {},
   "outputs": [
    {
     "data": {
      "text/html": [
       "<div>\n",
       "<style scoped>\n",
       "    .dataframe tbody tr th:only-of-type {\n",
       "        vertical-align: middle;\n",
       "    }\n",
       "\n",
       "    .dataframe tbody tr th {\n",
       "        vertical-align: top;\n",
       "    }\n",
       "\n",
       "    .dataframe thead th {\n",
       "        text-align: right;\n",
       "    }\n",
       "</style>\n",
       "<table border=\"1\" class=\"dataframe\">\n",
       "  <thead>\n",
       "    <tr style=\"text-align: right;\">\n",
       "      <th></th>\n",
       "      <th>price</th>\n",
       "      <th>sqft_living</th>\n",
       "      <th>grade</th>\n",
       "      <th>sqft_above</th>\n",
       "      <th>sqft_living15</th>\n",
       "      <th>bathrooms</th>\n",
       "      <th>view</th>\n",
       "    </tr>\n",
       "  </thead>\n",
       "  <tbody>\n",
       "    <tr>\n",
       "      <th>price</th>\n",
       "      <td>True</td>\n",
       "      <td>False</td>\n",
       "      <td>False</td>\n",
       "      <td>False</td>\n",
       "      <td>False</td>\n",
       "      <td>False</td>\n",
       "      <td>False</td>\n",
       "    </tr>\n",
       "    <tr>\n",
       "      <th>sqft_living</th>\n",
       "      <td>False</td>\n",
       "      <td>True</td>\n",
       "      <td>False</td>\n",
       "      <td>True</td>\n",
       "      <td>False</td>\n",
       "      <td>False</td>\n",
       "      <td>False</td>\n",
       "    </tr>\n",
       "    <tr>\n",
       "      <th>grade</th>\n",
       "      <td>False</td>\n",
       "      <td>False</td>\n",
       "      <td>True</td>\n",
       "      <td>False</td>\n",
       "      <td>False</td>\n",
       "      <td>False</td>\n",
       "      <td>False</td>\n",
       "    </tr>\n",
       "    <tr>\n",
       "      <th>sqft_above</th>\n",
       "      <td>False</td>\n",
       "      <td>True</td>\n",
       "      <td>False</td>\n",
       "      <td>True</td>\n",
       "      <td>False</td>\n",
       "      <td>False</td>\n",
       "      <td>False</td>\n",
       "    </tr>\n",
       "    <tr>\n",
       "      <th>sqft_living15</th>\n",
       "      <td>False</td>\n",
       "      <td>False</td>\n",
       "      <td>False</td>\n",
       "      <td>False</td>\n",
       "      <td>True</td>\n",
       "      <td>False</td>\n",
       "      <td>False</td>\n",
       "    </tr>\n",
       "    <tr>\n",
       "      <th>bathrooms</th>\n",
       "      <td>False</td>\n",
       "      <td>False</td>\n",
       "      <td>False</td>\n",
       "      <td>False</td>\n",
       "      <td>False</td>\n",
       "      <td>True</td>\n",
       "      <td>False</td>\n",
       "    </tr>\n",
       "    <tr>\n",
       "      <th>view</th>\n",
       "      <td>False</td>\n",
       "      <td>False</td>\n",
       "      <td>False</td>\n",
       "      <td>False</td>\n",
       "      <td>False</td>\n",
       "      <td>False</td>\n",
       "      <td>True</td>\n",
       "    </tr>\n",
       "  </tbody>\n",
       "</table>\n",
       "</div>"
      ],
      "text/plain": [
       "               price  sqft_living  grade  sqft_above  sqft_living15  \\\n",
       "price           True        False  False       False          False   \n",
       "sqft_living    False         True  False        True          False   \n",
       "grade          False        False   True       False          False   \n",
       "sqft_above     False         True  False        True          False   \n",
       "sqft_living15  False        False  False       False           True   \n",
       "bathrooms      False        False  False       False          False   \n",
       "view           False        False  False       False          False   \n",
       "\n",
       "               bathrooms   view  \n",
       "price              False  False  \n",
       "sqft_living        False  False  \n",
       "grade              False  False  \n",
       "sqft_above         False  False  \n",
       "sqft_living15      False  False  \n",
       "bathrooms           True  False  \n",
       "view               False   True  "
      ]
     },
     "execution_count": 6,
     "metadata": {},
     "output_type": "execute_result"
    }
   ],
   "source": [
    "abs(df6.corr()) > .8"
   ]
  },
  {
   "cell_type": "markdown",
   "metadata": {},
   "source": [
    "## Notes on above\n",
    "- at .7 correlation, clearly sqft_living is the best predictor, for it is correlated with everything but view\n",
    "- at .8 correlation, now sqft_living only correlate with sqft_above\n",
    "- first test, remove sqft_above, and see outcome!"
   ]
  },
  {
   "cell_type": "markdown",
   "metadata": {},
   "source": [
    "## Test[1] : dropping sqft_above"
   ]
  },
  {
   "cell_type": "code",
   "execution_count": 7,
   "metadata": {},
   "outputs": [],
   "source": [
    "X1 = df6[['sqft_living', 'grade', 'sqft_living15', 'bathrooms',\n",
    "       'view']]\n",
    "y1 = df6['price']"
   ]
  },
  {
   "cell_type": "code",
   "execution_count": 8,
   "metadata": {},
   "outputs": [
    {
     "data": {
      "text/html": [
       "<table class=\"simpletable\">\n",
       "<caption>OLS Regression Results</caption>\n",
       "<tr>\n",
       "  <th>Dep. Variable:</th>          <td>price</td>      <th>  R-squared:         </th>  <td>   0.574</td>  \n",
       "</tr>\n",
       "<tr>\n",
       "  <th>Model:</th>                   <td>OLS</td>       <th>  Adj. R-squared:    </th>  <td>   0.574</td>  \n",
       "</tr>\n",
       "<tr>\n",
       "  <th>Method:</th>             <td>Least Squares</td>  <th>  F-statistic:       </th>  <td>   5809.</td>  \n",
       "</tr>\n",
       "<tr>\n",
       "  <th>Date:</th>             <td>Wed, 17 Apr 2019</td> <th>  Prob (F-statistic):</th>   <td>  0.00</td>   \n",
       "</tr>\n",
       "<tr>\n",
       "  <th>Time:</th>                 <td>14:13:53</td>     <th>  Log-Likelihood:    </th> <td>-2.9819e+05</td>\n",
       "</tr>\n",
       "<tr>\n",
       "  <th>No. Observations:</th>      <td> 21597</td>      <th>  AIC:               </th>  <td>5.964e+05</td> \n",
       "</tr>\n",
       "<tr>\n",
       "  <th>Df Residuals:</th>          <td> 21591</td>      <th>  BIC:               </th>  <td>5.964e+05</td> \n",
       "</tr>\n",
       "<tr>\n",
       "  <th>Df Model:</th>              <td>     5</td>      <th>                     </th>      <td> </td>     \n",
       "</tr>\n",
       "<tr>\n",
       "  <th>Covariance Type:</th>      <td>nonrobust</td>    <th>                     </th>      <td> </td>     \n",
       "</tr>\n",
       "</table>\n",
       "<table class=\"simpletable\">\n",
       "<tr>\n",
       "    <td></td>       <th>coef</th>     <th>std err</th>      <th>t</th>      <th>P>|t|</th>  <th>[0.025</th>    <th>0.975]</th>  \n",
       "</tr>\n",
       "<tr>\n",
       "  <th>const</th> <td>  -5.5e+05</td> <td> 1.29e+04</td> <td>  -42.756</td> <td> 0.000</td> <td>-5.75e+05</td> <td>-5.25e+05</td>\n",
       "</tr>\n",
       "<tr>\n",
       "  <th>x1</th>    <td>  182.8500</td> <td>    3.596</td> <td>   50.851</td> <td> 0.000</td> <td>  175.802</td> <td>  189.898</td>\n",
       "</tr>\n",
       "<tr>\n",
       "  <th>x2</th>    <td> 9.896e+04</td> <td> 2335.091</td> <td>   42.378</td> <td> 0.000</td> <td> 9.44e+04</td> <td> 1.04e+05</td>\n",
       "</tr>\n",
       "<tr>\n",
       "  <th>x3</th>    <td>   -2.7493</td> <td>    3.876</td> <td>   -0.709</td> <td> 0.478</td> <td>  -10.347</td> <td>    4.849</td>\n",
       "</tr>\n",
       "<tr>\n",
       "  <th>x4</th>    <td>-3.059e+04</td> <td> 3330.820</td> <td>   -9.185</td> <td> 0.000</td> <td>-3.71e+04</td> <td>-2.41e+04</td>\n",
       "</tr>\n",
       "<tr>\n",
       "  <th>x5</th>    <td> 9.579e+04</td> <td> 2240.663</td> <td>   42.751</td> <td> 0.000</td> <td> 9.14e+04</td> <td>    1e+05</td>\n",
       "</tr>\n",
       "</table>\n",
       "<table class=\"simpletable\">\n",
       "<tr>\n",
       "  <th>Omnibus:</th>       <td>16620.975</td> <th>  Durbin-Watson:     </th>  <td>   1.980</td>  \n",
       "</tr>\n",
       "<tr>\n",
       "  <th>Prob(Omnibus):</th>  <td> 0.000</td>   <th>  Jarque-Bera (JB):  </th> <td>1088824.458</td>\n",
       "</tr>\n",
       "<tr>\n",
       "  <th>Skew:</th>           <td> 3.161</td>   <th>  Prob(JB):          </th>  <td>    0.00</td>  \n",
       "</tr>\n",
       "<tr>\n",
       "  <th>Kurtosis:</th>       <td>37.205</td>   <th>  Cond. No.          </th>  <td>2.45e+04</td>  \n",
       "</tr>\n",
       "</table><br/><br/>Warnings:<br/>[1] Standard Errors assume that the covariance matrix of the errors is correctly specified.<br/>[2] The condition number is large, 2.45e+04. This might indicate that there are<br/>strong multicollinearity or other numerical problems."
      ],
      "text/plain": [
       "<class 'statsmodels.iolib.summary.Summary'>\n",
       "\"\"\"\n",
       "                            OLS Regression Results                            \n",
       "==============================================================================\n",
       "Dep. Variable:                  price   R-squared:                       0.574\n",
       "Model:                            OLS   Adj. R-squared:                  0.574\n",
       "Method:                 Least Squares   F-statistic:                     5809.\n",
       "Date:                Wed, 17 Apr 2019   Prob (F-statistic):               0.00\n",
       "Time:                        14:13:53   Log-Likelihood:            -2.9819e+05\n",
       "No. Observations:               21597   AIC:                         5.964e+05\n",
       "Df Residuals:                   21591   BIC:                         5.964e+05\n",
       "Df Model:                           5                                         \n",
       "Covariance Type:            nonrobust                                         \n",
       "==============================================================================\n",
       "                 coef    std err          t      P>|t|      [0.025      0.975]\n",
       "------------------------------------------------------------------------------\n",
       "const        -5.5e+05   1.29e+04    -42.756      0.000   -5.75e+05   -5.25e+05\n",
       "x1           182.8500      3.596     50.851      0.000     175.802     189.898\n",
       "x2          9.896e+04   2335.091     42.378      0.000    9.44e+04    1.04e+05\n",
       "x3            -2.7493      3.876     -0.709      0.478     -10.347       4.849\n",
       "x4         -3.059e+04   3330.820     -9.185      0.000   -3.71e+04   -2.41e+04\n",
       "x5          9.579e+04   2240.663     42.751      0.000    9.14e+04       1e+05\n",
       "==============================================================================\n",
       "Omnibus:                    16620.975   Durbin-Watson:                   1.980\n",
       "Prob(Omnibus):                  0.000   Jarque-Bera (JB):          1088824.458\n",
       "Skew:                           3.161   Prob(JB):                         0.00\n",
       "Kurtosis:                      37.205   Cond. No.                     2.45e+04\n",
       "==============================================================================\n",
       "\n",
       "Warnings:\n",
       "[1] Standard Errors assume that the covariance matrix of the errors is correctly specified.\n",
       "[2] The condition number is large, 2.45e+04. This might indicate that there are\n",
       "strong multicollinearity or other numerical problems.\n",
       "\"\"\""
      ]
     },
     "execution_count": 8,
     "metadata": {},
     "output_type": "execute_result"
    }
   ],
   "source": [
    "predictors = np.asarray(X1) #set predictors as numpy array of capital X\n",
    "predictors_int = sm.add_constant(predictors) #.add_constant\n",
    "model = sm.OLS(y1,predictors_int).fit() #statsmodels.OrdinaryLeastSquares (dependent var, array of predictors).fit()\n",
    "model.summary()"
   ]
  },
  {
   "cell_type": "code",
   "execution_count": 9,
   "metadata": {},
   "outputs": [
    {
     "name": "stderr",
     "output_type": "stream",
     "text": [
      "/Users/krex/anaconda3/lib/python3.7/site-packages/sklearn/preprocessing/data.py:625: DataConversionWarning: Data with input dtype int64, float64 were all converted to float64 by StandardScaler.\n",
      "  return self.partial_fit(X, y)\n",
      "/Users/krex/anaconda3/lib/python3.7/site-packages/sklearn/base.py:462: DataConversionWarning: Data with input dtype int64, float64 were all converted to float64 by StandardScaler.\n",
      "  return self.fit(X, **fit_params).transform(X)\n"
     ]
    }
   ],
   "source": [
    "\"\"\" Now using Sklearn\"\"\"\n",
    "ss = StandardScaler()\n",
    "\n",
    "X1_scaled = ss.fit_transform(X1)"
   ]
  },
  {
   "cell_type": "code",
   "execution_count": 10,
   "metadata": {},
   "outputs": [],
   "source": [
    "np.random.seed(33)\n",
    "\n",
    "X1_train,X1_test,y1_train,y1_test = train_test_split(X1_scaled,y1)"
   ]
  },
  {
   "cell_type": "code",
   "execution_count": 11,
   "metadata": {},
   "outputs": [
    {
     "data": {
      "text/plain": [
       "LinearRegression(copy_X=True, fit_intercept=True, n_jobs=None,\n",
       "         normalize=False)"
      ]
     },
     "execution_count": 11,
     "metadata": {},
     "output_type": "execute_result"
    }
   ],
   "source": [
    "lr = LinearRegression()\n",
    "lr.fit(X1_train,y1_train)"
   ]
  },
  {
   "cell_type": "code",
   "execution_count": 12,
   "metadata": {},
   "outputs": [
    {
     "data": {
      "text/plain": [
       "0.5815117275967299"
      ]
     },
     "execution_count": 12,
     "metadata": {},
     "output_type": "execute_result"
    }
   ],
   "source": [
    "lr.score(X1_test,y1_test) #r**2 value"
   ]
  },
  {
   "cell_type": "code",
   "execution_count": 13,
   "metadata": {},
   "outputs": [
    {
     "data": {
      "text/plain": [
       "array([161493.65221168, 118316.48323463,   3152.76714081, -25662.7335309 ,\n",
       "        69021.0727499 ])"
      ]
     },
     "execution_count": 13,
     "metadata": {},
     "output_type": "execute_result"
    }
   ],
   "source": [
    "lr.coef_"
   ]
  },
  {
   "cell_type": "code",
   "execution_count": 14,
   "metadata": {},
   "outputs": [],
   "source": [
    "r_2 = metrics.r2_score(y1_test, lr.predict(X1_test))\n",
    "vif = 1/(1-r_2)\n",
    "mae = metrics.mean_absolute_error(y1_test, lr.predict(X1_test))\n",
    "mse = metrics.mean_squared_error(y1_test, lr.predict(X1_test))"
   ]
  },
  {
   "cell_type": "code",
   "execution_count": 15,
   "metadata": {},
   "outputs": [
    {
     "name": "stdout",
     "output_type": "stream",
     "text": [
      "Our list of predictors: Index(['sqft_living', 'grade', 'sqft_living15', 'bathrooms', 'view'], dtype='object')\n",
      "The R-squared score of our test is 0.5815117275967299\n",
      "The MAE score of our test is 157595.44542674246\n",
      "The MSE score of our test is 60759037804.78902\n",
      "The RMSE score of our test is $246493.4843049386\n"
     ]
    }
   ],
   "source": [
    "#PRICE vs. TOP 6 dropping sqft_above #test size is .25\n",
    "print(f'Our list of predictors: {X1.columns}')\n",
    "print(f\"The R-squared score of our test is {r_2}\")\n",
    "print(f\"The MAE score of our test is {mae}\")\n",
    "print(f\"The MSE score of our test is {mse}\")\n",
    "print(f\"The RMSE score of our test is ${sqrt(mse)}\")"
   ]
  },
  {
   "cell_type": "markdown",
   "metadata": {},
   "source": [
    "#### Next Steps: Run K-Fold Cross Validation for Test[1] (dropping sqft_above)"
   ]
  },
  {
   "cell_type": "code",
   "execution_count": 16,
   "metadata": {},
   "outputs": [],
   "source": [
    "cv_5_results = cross_val_score(lr, X1_scaled, y1, cv=5, scoring=\"neg_mean_squared_error\")\n",
    "cv_10_results = cross_val_score(lr, X1_scaled, y1, cv=10, scoring=\"neg_mean_squared_error\")\n",
    "cv_20_results = cross_val_score(lr, X1_scaled, y1, cv=20, scoring=\"neg_mean_squared_error\")"
   ]
  },
  {
   "cell_type": "code",
   "execution_count": 17,
   "metadata": {},
   "outputs": [
    {
     "name": "stdout",
     "output_type": "stream",
     "text": [
      "CV5 - MEAN of 5 RMSE's: 240493.94515642093\n",
      "CV10 - MEAN of 10 RMSE's: 240456.46109558034\n",
      "CV20 - MEAN of 20 RMSE's: 240238.46212853253\n"
     ]
    }
   ],
   "source": [
    "print(f\"CV5 - MEAN of 5 RMSE's: {sqrt(-1*np.mean(cv_5_results))}\")\n",
    "print(f\"CV10 - MEAN of 10 RMSE's: {sqrt(-1*np.mean(cv_10_results))}\")\n",
    "print(f\"CV20 - MEAN of 20 RMSE's: {sqrt(-1*np.mean(cv_20_results))}\")"
   ]
  },
  {
   "cell_type": "markdown",
   "metadata": {},
   "source": [
    "##  Test[1] Observations: dropping sqft_above\n",
    "- Our key metric, RMSE, went up slightly after dropping sqft_above\n",
    "- Our secondary model quality metric R-squared decreased slightly after dropping sqft_above\n",
    "- Our other secondary model quality metrics MSE & MAE unfortunately increased slightly after dropping sqft_above\n",
    "- After testing model quality with K-folds cross validation (k=5,10,20), our model's RSME increases, indicating our benchmark model is still the superior one\n",
    "- **Test 1 did not improve our model, keep sqft_above**"
   ]
  },
  {
   "cell_type": "markdown",
   "metadata": {},
   "source": [
    "## Test[2]: add in 'distance_from_flatiron' (new feature engineered from lat & long)"
   ]
  },
  {
   "cell_type": "code",
   "execution_count": 18,
   "metadata": {},
   "outputs": [],
   "source": [
    "X2 = df[['sqft_living', 'grade', 'sqft_above', 'sqft_living15', 'bathrooms',\n",
    "       'view','distance_from_flatiron']]\n",
    "y2 = df['price']"
   ]
  },
  {
   "cell_type": "code",
   "execution_count": 19,
   "metadata": {},
   "outputs": [
    {
     "data": {
      "text/html": [
       "<table class=\"simpletable\">\n",
       "<caption>OLS Regression Results</caption>\n",
       "<tr>\n",
       "  <th>Dep. Variable:</th>          <td>price</td>      <th>  R-squared:         </th>  <td>   0.672</td>  \n",
       "</tr>\n",
       "<tr>\n",
       "  <th>Model:</th>                   <td>OLS</td>       <th>  Adj. R-squared:    </th>  <td>   0.672</td>  \n",
       "</tr>\n",
       "<tr>\n",
       "  <th>Method:</th>             <td>Least Squares</td>  <th>  F-statistic:       </th>  <td>   6320.</td>  \n",
       "</tr>\n",
       "<tr>\n",
       "  <th>Date:</th>             <td>Wed, 17 Apr 2019</td> <th>  Prob (F-statistic):</th>   <td>  0.00</td>   \n",
       "</tr>\n",
       "<tr>\n",
       "  <th>Time:</th>                 <td>14:13:53</td>     <th>  Log-Likelihood:    </th> <td>-2.9535e+05</td>\n",
       "</tr>\n",
       "<tr>\n",
       "  <th>No. Observations:</th>      <td> 21597</td>      <th>  AIC:               </th>  <td>5.907e+05</td> \n",
       "</tr>\n",
       "<tr>\n",
       "  <th>Df Residuals:</th>          <td> 21589</td>      <th>  BIC:               </th>  <td>5.908e+05</td> \n",
       "</tr>\n",
       "<tr>\n",
       "  <th>Df Model:</th>              <td>     7</td>      <th>                     </th>      <td> </td>     \n",
       "</tr>\n",
       "<tr>\n",
       "  <th>Covariance Type:</th>      <td>nonrobust</td>    <th>                     </th>      <td> </td>     \n",
       "</tr>\n",
       "</table>\n",
       "<table class=\"simpletable\">\n",
       "<tr>\n",
       "    <td></td>       <th>coef</th>     <th>std err</th>      <th>t</th>      <th>P>|t|</th>  <th>[0.025</th>    <th>0.975]</th>  \n",
       "</tr>\n",
       "<tr>\n",
       "  <th>const</th> <td>-2.569e+05</td> <td> 1.23e+04</td> <td>  -20.884</td> <td> 0.000</td> <td>-2.81e+05</td> <td>-2.33e+05</td>\n",
       "</tr>\n",
       "<tr>\n",
       "  <th>x1</th>    <td>  157.2367</td> <td>    3.979</td> <td>   39.515</td> <td> 0.000</td> <td>  149.437</td> <td>  165.036</td>\n",
       "</tr>\n",
       "<tr>\n",
       "  <th>x2</th>    <td> 7.039e+04</td> <td> 2145.790</td> <td>   32.803</td> <td> 0.000</td> <td> 6.62e+04</td> <td> 7.46e+04</td>\n",
       "</tr>\n",
       "<tr>\n",
       "  <th>x3</th>    <td>   41.2734</td> <td>    4.015</td> <td>   10.280</td> <td> 0.000</td> <td>   33.404</td> <td>   49.143</td>\n",
       "</tr>\n",
       "<tr>\n",
       "  <th>x4</th>    <td>   39.9793</td> <td>    3.477</td> <td>   11.500</td> <td> 0.000</td> <td>   33.165</td> <td>   46.794</td>\n",
       "</tr>\n",
       "<tr>\n",
       "  <th>x5</th>    <td>-1.488e+04</td> <td> 2928.004</td> <td>   -5.083</td> <td> 0.000</td> <td>-2.06e+04</td> <td>-9144.232</td>\n",
       "</tr>\n",
       "<tr>\n",
       "  <th>x6</th>    <td> 8.241e+04</td> <td> 2014.555</td> <td>   40.907</td> <td> 0.000</td> <td> 7.85e+04</td> <td> 8.64e+04</td>\n",
       "</tr>\n",
       "<tr>\n",
       "  <th>x7</th>    <td>-1.814e+04</td> <td>  227.619</td> <td>  -79.716</td> <td> 0.000</td> <td>-1.86e+04</td> <td>-1.77e+04</td>\n",
       "</tr>\n",
       "</table>\n",
       "<table class=\"simpletable\">\n",
       "<tr>\n",
       "  <th>Omnibus:</th>       <td>19389.543</td> <th>  Durbin-Watson:     </th>  <td>   1.987</td>  \n",
       "</tr>\n",
       "<tr>\n",
       "  <th>Prob(Omnibus):</th>  <td> 0.000</td>   <th>  Jarque-Bera (JB):  </th> <td>2150446.369</td>\n",
       "</tr>\n",
       "<tr>\n",
       "  <th>Skew:</th>           <td> 3.880</td>   <th>  Prob(JB):          </th>  <td>    0.00</td>  \n",
       "</tr>\n",
       "<tr>\n",
       "  <th>Kurtosis:</th>       <td>51.265</td>   <th>  Cond. No.          </th>  <td>3.16e+04</td>  \n",
       "</tr>\n",
       "</table><br/><br/>Warnings:<br/>[1] Standard Errors assume that the covariance matrix of the errors is correctly specified.<br/>[2] The condition number is large, 3.16e+04. This might indicate that there are<br/>strong multicollinearity or other numerical problems."
      ],
      "text/plain": [
       "<class 'statsmodels.iolib.summary.Summary'>\n",
       "\"\"\"\n",
       "                            OLS Regression Results                            \n",
       "==============================================================================\n",
       "Dep. Variable:                  price   R-squared:                       0.672\n",
       "Model:                            OLS   Adj. R-squared:                  0.672\n",
       "Method:                 Least Squares   F-statistic:                     6320.\n",
       "Date:                Wed, 17 Apr 2019   Prob (F-statistic):               0.00\n",
       "Time:                        14:13:53   Log-Likelihood:            -2.9535e+05\n",
       "No. Observations:               21597   AIC:                         5.907e+05\n",
       "Df Residuals:                   21589   BIC:                         5.908e+05\n",
       "Df Model:                           7                                         \n",
       "Covariance Type:            nonrobust                                         \n",
       "==============================================================================\n",
       "                 coef    std err          t      P>|t|      [0.025      0.975]\n",
       "------------------------------------------------------------------------------\n",
       "const      -2.569e+05   1.23e+04    -20.884      0.000   -2.81e+05   -2.33e+05\n",
       "x1           157.2367      3.979     39.515      0.000     149.437     165.036\n",
       "x2          7.039e+04   2145.790     32.803      0.000    6.62e+04    7.46e+04\n",
       "x3            41.2734      4.015     10.280      0.000      33.404      49.143\n",
       "x4            39.9793      3.477     11.500      0.000      33.165      46.794\n",
       "x5         -1.488e+04   2928.004     -5.083      0.000   -2.06e+04   -9144.232\n",
       "x6          8.241e+04   2014.555     40.907      0.000    7.85e+04    8.64e+04\n",
       "x7         -1.814e+04    227.619    -79.716      0.000   -1.86e+04   -1.77e+04\n",
       "==============================================================================\n",
       "Omnibus:                    19389.543   Durbin-Watson:                   1.987\n",
       "Prob(Omnibus):                  0.000   Jarque-Bera (JB):          2150446.369\n",
       "Skew:                           3.880   Prob(JB):                         0.00\n",
       "Kurtosis:                      51.265   Cond. No.                     3.16e+04\n",
       "==============================================================================\n",
       "\n",
       "Warnings:\n",
       "[1] Standard Errors assume that the covariance matrix of the errors is correctly specified.\n",
       "[2] The condition number is large, 3.16e+04. This might indicate that there are\n",
       "strong multicollinearity or other numerical problems.\n",
       "\"\"\""
      ]
     },
     "execution_count": 19,
     "metadata": {},
     "output_type": "execute_result"
    }
   ],
   "source": [
    "predictors = np.asarray(X2) #set predictors as numpy array of capital X\n",
    "predictors_int = sm.add_constant(predictors) #.add_constant\n",
    "model2 = sm.OLS(y2,predictors_int).fit() #statsmodels.OrdinaryLeastSquares (dependent var, array of predictors).fit()\n",
    "model2.summary()"
   ]
  },
  {
   "cell_type": "code",
   "execution_count": 20,
   "metadata": {},
   "outputs": [
    {
     "name": "stderr",
     "output_type": "stream",
     "text": [
      "/Users/krex/anaconda3/lib/python3.7/site-packages/sklearn/preprocessing/data.py:625: DataConversionWarning: Data with input dtype int64, float64 were all converted to float64 by StandardScaler.\n",
      "  return self.partial_fit(X, y)\n",
      "/Users/krex/anaconda3/lib/python3.7/site-packages/sklearn/base.py:462: DataConversionWarning: Data with input dtype int64, float64 were all converted to float64 by StandardScaler.\n",
      "  return self.fit(X, **fit_params).transform(X)\n"
     ]
    }
   ],
   "source": [
    "\"\"\" Now using Sklearn\"\"\"\n",
    "ss = StandardScaler()\n",
    "\n",
    "X2_scaled = ss.fit_transform(X2)"
   ]
  },
  {
   "cell_type": "code",
   "execution_count": 21,
   "metadata": {},
   "outputs": [],
   "source": [
    "np.random.seed(33)\n",
    "\n",
    "X2_train,X2_test,y2_train,y2_test = train_test_split(X2_scaled,y2)"
   ]
  },
  {
   "cell_type": "code",
   "execution_count": 22,
   "metadata": {},
   "outputs": [
    {
     "data": {
      "text/plain": [
       "LinearRegression(copy_X=True, fit_intercept=True, n_jobs=None,\n",
       "         normalize=False)"
      ]
     },
     "execution_count": 22,
     "metadata": {},
     "output_type": "execute_result"
    }
   ],
   "source": [
    "lr.fit(X2_train,y2_train)"
   ]
  },
  {
   "cell_type": "code",
   "execution_count": 23,
   "metadata": {},
   "outputs": [
    {
     "data": {
      "text/plain": [
       "0.6755779569205969"
      ]
     },
     "execution_count": 23,
     "metadata": {},
     "output_type": "execute_result"
    }
   ],
   "source": [
    "lr.score(X2_test,y2_test) #r**2 value"
   ]
  },
  {
   "cell_type": "code",
   "execution_count": 24,
   "metadata": {},
   "outputs": [
    {
     "data": {
      "text/plain": [
       "array([ 137716.88436796,   85031.03786096,   34399.45769707,\n",
       "         32262.68581817,  -13351.37300781,   59142.80946922,\n",
       "       -121648.06805235])"
      ]
     },
     "execution_count": 24,
     "metadata": {},
     "output_type": "execute_result"
    }
   ],
   "source": [
    "lr.coef_"
   ]
  },
  {
   "cell_type": "code",
   "execution_count": 25,
   "metadata": {},
   "outputs": [],
   "source": [
    "r_2 = metrics.r2_score(y2_test, lr.predict(X2_test))\n",
    "mae = metrics.mean_absolute_error(y2_test, lr.predict(X2_test))\n",
    "mse = metrics.mean_squared_error(y2_test, lr.predict(X2_test))"
   ]
  },
  {
   "cell_type": "code",
   "execution_count": 26,
   "metadata": {},
   "outputs": [
    {
     "name": "stdout",
     "output_type": "stream",
     "text": [
      "Our list of predictors: Index(['sqft_living', 'grade', 'sqft_above', 'sqft_living15', 'bathrooms',\n",
      "       'view', 'distance_from_flatiron'],\n",
      "      dtype='object')\n",
      "The R-squared score of our test is 0.6755779569205969\n",
      "The MAE score of our test is 132135.80168051203\n",
      "The MSE score of our test is 47101848438.83408\n",
      "The RMSE score of our test is $217029.60267860716\n"
     ]
    }
   ],
   "source": [
    "#PRICE vs. TOP 6 + distance_from_flatiron  #test size is .25\n",
    "print(f'Our list of predictors: {X2.columns}')\n",
    "print(f\"The R-squared score of our test is {r_2}\")\n",
    "print(f\"The MAE score of our test is {mae}\")\n",
    "print(f\"The MSE score of our test is {mse}\")\n",
    "print(f\"The RMSE score of our test is ${sqrt(mse)}\")"
   ]
  },
  {
   "cell_type": "code",
   "execution_count": 27,
   "metadata": {},
   "outputs": [],
   "source": [
    "cv_5_results = cross_val_score(lr, X2_scaled, y2, cv=5, scoring=\"neg_mean_squared_error\")\n",
    "cv_10_results = cross_val_score(lr, X2_scaled, y2, cv=10, scoring=\"neg_mean_squared_error\")\n",
    "cv_20_results = cross_val_score(lr, X2_scaled, y2, cv=20, scoring=\"neg_mean_squared_error\")"
   ]
  },
  {
   "cell_type": "code",
   "execution_count": 28,
   "metadata": {},
   "outputs": [
    {
     "name": "stdout",
     "output_type": "stream",
     "text": [
      "CV5 - MEAN of 5 RMSE's: 210789.83742773952\n",
      "CV10 - MEAN of 10 RMSE's: 210801.22241987867\n",
      "CV20 - MEAN of 20 RMSE's: $210691.4784360575\n"
     ]
    }
   ],
   "source": [
    "print(f\"CV5 - MEAN of 5 RMSE's: {sqrt(-1*np.mean(cv_5_results))}\")\n",
    "print(f\"CV10 - MEAN of 10 RMSE's: {sqrt(-1*np.mean(cv_10_results))}\")\n",
    "print(f\"CV20 - MEAN of 20 RMSE's: ${sqrt(-1*np.mean(cv_20_results))}\")"
   ]
  },
  {
   "cell_type": "markdown",
   "metadata": {},
   "source": [
    "## Test[2] Observations: adding distance_from_flatiron"
   ]
  },
  {
   "cell_type": "markdown",
   "metadata": {},
   "source": [
    "- After RSME decreases by a significant amount (approx. $30K, decrease in RSME of 12.5%)\n",
    "- **Test[2] improved our model significantly, we should keep 'distance_from_flatiron' in our model**"
   ]
  },
  {
   "cell_type": "markdown",
   "metadata": {},
   "source": [
    "## Reassessing correlation matrix to find the optimal next feature to drop"
   ]
  },
  {
   "cell_type": "code",
   "execution_count": 29,
   "metadata": {},
   "outputs": [],
   "source": [
    "df7 = df[['price','sqft_living', 'grade', 'sqft_above', 'sqft_living15', 'bathrooms',\n",
    "       'view','distance_from_flatiron']]"
   ]
  },
  {
   "cell_type": "code",
   "execution_count": 30,
   "metadata": {},
   "outputs": [
    {
     "data": {
      "text/html": [
       "<div>\n",
       "<style scoped>\n",
       "    .dataframe tbody tr th:only-of-type {\n",
       "        vertical-align: middle;\n",
       "    }\n",
       "\n",
       "    .dataframe tbody tr th {\n",
       "        vertical-align: top;\n",
       "    }\n",
       "\n",
       "    .dataframe thead th {\n",
       "        text-align: right;\n",
       "    }\n",
       "</style>\n",
       "<table border=\"1\" class=\"dataframe\">\n",
       "  <thead>\n",
       "    <tr style=\"text-align: right;\">\n",
       "      <th></th>\n",
       "      <th>price</th>\n",
       "      <th>sqft_living</th>\n",
       "      <th>grade</th>\n",
       "      <th>sqft_above</th>\n",
       "      <th>sqft_living15</th>\n",
       "      <th>bathrooms</th>\n",
       "      <th>view</th>\n",
       "      <th>distance_from_flatiron</th>\n",
       "    </tr>\n",
       "  </thead>\n",
       "  <tbody>\n",
       "    <tr>\n",
       "      <th>price</th>\n",
       "      <td>True</td>\n",
       "      <td>False</td>\n",
       "      <td>False</td>\n",
       "      <td>False</td>\n",
       "      <td>False</td>\n",
       "      <td>False</td>\n",
       "      <td>False</td>\n",
       "      <td>False</td>\n",
       "    </tr>\n",
       "    <tr>\n",
       "      <th>sqft_living</th>\n",
       "      <td>False</td>\n",
       "      <td>True</td>\n",
       "      <td>True</td>\n",
       "      <td>True</td>\n",
       "      <td>True</td>\n",
       "      <td>True</td>\n",
       "      <td>False</td>\n",
       "      <td>False</td>\n",
       "    </tr>\n",
       "    <tr>\n",
       "      <th>grade</th>\n",
       "      <td>False</td>\n",
       "      <td>True</td>\n",
       "      <td>True</td>\n",
       "      <td>True</td>\n",
       "      <td>False</td>\n",
       "      <td>False</td>\n",
       "      <td>False</td>\n",
       "      <td>False</td>\n",
       "    </tr>\n",
       "    <tr>\n",
       "      <th>sqft_above</th>\n",
       "      <td>False</td>\n",
       "      <td>True</td>\n",
       "      <td>True</td>\n",
       "      <td>True</td>\n",
       "      <td>False</td>\n",
       "      <td>False</td>\n",
       "      <td>False</td>\n",
       "      <td>False</td>\n",
       "    </tr>\n",
       "    <tr>\n",
       "      <th>sqft_living15</th>\n",
       "      <td>False</td>\n",
       "      <td>True</td>\n",
       "      <td>False</td>\n",
       "      <td>False</td>\n",
       "      <td>True</td>\n",
       "      <td>False</td>\n",
       "      <td>False</td>\n",
       "      <td>False</td>\n",
       "    </tr>\n",
       "    <tr>\n",
       "      <th>bathrooms</th>\n",
       "      <td>False</td>\n",
       "      <td>True</td>\n",
       "      <td>False</td>\n",
       "      <td>False</td>\n",
       "      <td>False</td>\n",
       "      <td>True</td>\n",
       "      <td>False</td>\n",
       "      <td>False</td>\n",
       "    </tr>\n",
       "    <tr>\n",
       "      <th>view</th>\n",
       "      <td>False</td>\n",
       "      <td>False</td>\n",
       "      <td>False</td>\n",
       "      <td>False</td>\n",
       "      <td>False</td>\n",
       "      <td>False</td>\n",
       "      <td>True</td>\n",
       "      <td>False</td>\n",
       "    </tr>\n",
       "    <tr>\n",
       "      <th>distance_from_flatiron</th>\n",
       "      <td>False</td>\n",
       "      <td>False</td>\n",
       "      <td>False</td>\n",
       "      <td>False</td>\n",
       "      <td>False</td>\n",
       "      <td>False</td>\n",
       "      <td>False</td>\n",
       "      <td>True</td>\n",
       "    </tr>\n",
       "  </tbody>\n",
       "</table>\n",
       "</div>"
      ],
      "text/plain": [
       "                        price  sqft_living  grade  sqft_above  sqft_living15  \\\n",
       "price                    True        False  False       False          False   \n",
       "sqft_living             False         True   True        True           True   \n",
       "grade                   False         True   True        True          False   \n",
       "sqft_above              False         True   True        True          False   \n",
       "sqft_living15           False         True  False       False           True   \n",
       "bathrooms               False         True  False       False          False   \n",
       "view                    False        False  False       False          False   \n",
       "distance_from_flatiron  False        False  False       False          False   \n",
       "\n",
       "                        bathrooms   view  distance_from_flatiron  \n",
       "price                       False  False                   False  \n",
       "sqft_living                  True  False                   False  \n",
       "grade                       False  False                   False  \n",
       "sqft_above                  False  False                   False  \n",
       "sqft_living15               False  False                   False  \n",
       "bathrooms                    True  False                   False  \n",
       "view                        False   True                   False  \n",
       "distance_from_flatiron      False  False                    True  "
      ]
     },
     "execution_count": 30,
     "metadata": {},
     "output_type": "execute_result"
    }
   ],
   "source": [
    "abs(df7.corr()) > .75"
   ]
  },
  {
   "cell_type": "code",
   "execution_count": 31,
   "metadata": {},
   "outputs": [
    {
     "data": {
      "text/plain": [
       "<matplotlib.axes._subplots.AxesSubplot at 0x1c23afbc88>"
      ]
     },
     "execution_count": 31,
     "metadata": {},
     "output_type": "execute_result"
    },
    {
     "data": {
      "image/png": "[encoded data removed]",
      "text/plain": [
       "<Figure size 1080x864 with 2 Axes>"
      ]
     },
     "metadata": {},
     "output_type": "display_data"
    }
   ],
   "source": [
    "sns.set(rc={'figure.figsize': (15,12)})\n",
    "sns.heatmap(df7.corr(), annot=True)"
   ]
  },
  {
   "cell_type": "markdown",
   "metadata": {},
   "source": [
    "- grade has high correlation with sqft_living (currently understood as our best predictor of price) and sqft_above (which Test[1] suggests we should keep in our model for now\n",
    "- dropping grade may reduce our model's collinearity, let's try it!"
   ]
  },
  {
   "cell_type": "markdown",
   "metadata": {},
   "source": [
    "## Test[3]: drop grade"
   ]
  },
  {
   "cell_type": "code",
   "execution_count": 32,
   "metadata": {},
   "outputs": [],
   "source": [
    "X3 = df[['sqft_living', 'sqft_above', 'sqft_living15', 'bathrooms',\n",
    "       'view','distance_from_flatiron']]\n",
    "y3 = df['price']"
   ]
  },
  {
   "cell_type": "code",
   "execution_count": 33,
   "metadata": {},
   "outputs": [
    {
     "data": {
      "text/html": [
       "<table class=\"simpletable\">\n",
       "<caption>OLS Regression Results</caption>\n",
       "<tr>\n",
       "  <th>Dep. Variable:</th>          <td>price</td>      <th>  R-squared:         </th>  <td>   0.656</td>  \n",
       "</tr>\n",
       "<tr>\n",
       "  <th>Model:</th>                   <td>OLS</td>       <th>  Adj. R-squared:    </th>  <td>   0.656</td>  \n",
       "</tr>\n",
       "<tr>\n",
       "  <th>Method:</th>             <td>Least Squares</td>  <th>  F-statistic:       </th>  <td>   6853.</td>  \n",
       "</tr>\n",
       "<tr>\n",
       "  <th>Date:</th>             <td>Wed, 17 Apr 2019</td> <th>  Prob (F-statistic):</th>   <td>  0.00</td>   \n",
       "</tr>\n",
       "<tr>\n",
       "  <th>Time:</th>                 <td>14:13:55</td>     <th>  Log-Likelihood:    </th> <td>-2.9588e+05</td>\n",
       "</tr>\n",
       "<tr>\n",
       "  <th>No. Observations:</th>      <td> 21597</td>      <th>  AIC:               </th>  <td>5.918e+05</td> \n",
       "</tr>\n",
       "<tr>\n",
       "  <th>Df Residuals:</th>          <td> 21590</td>      <th>  BIC:               </th>  <td>5.918e+05</td> \n",
       "</tr>\n",
       "<tr>\n",
       "  <th>Df Model:</th>              <td>     6</td>      <th>                     </th>      <td> </td>     \n",
       "</tr>\n",
       "<tr>\n",
       "  <th>Covariance Type:</th>      <td>nonrobust</td>    <th>                     </th>      <td> </td>     \n",
       "</tr>\n",
       "</table>\n",
       "<table class=\"simpletable\">\n",
       "<tr>\n",
       "    <td></td>       <th>coef</th>     <th>std err</th>      <th>t</th>      <th>P>|t|</th>  <th>[0.025</th>    <th>0.975]</th>  \n",
       "</tr>\n",
       "<tr>\n",
       "  <th>const</th> <td> 1.063e+05</td> <td> 5493.175</td> <td>   19.352</td> <td> 0.000</td> <td> 9.55e+04</td> <td> 1.17e+05</td>\n",
       "</tr>\n",
       "<tr>\n",
       "  <th>x1</th>    <td>  165.1775</td> <td>    4.069</td> <td>   40.589</td> <td> 0.000</td> <td>  157.201</td> <td>  173.154</td>\n",
       "</tr>\n",
       "<tr>\n",
       "  <th>x2</th>    <td>   76.5032</td> <td>    3.964</td> <td>   19.302</td> <td> 0.000</td> <td>   68.734</td> <td>   84.272</td>\n",
       "</tr>\n",
       "<tr>\n",
       "  <th>x3</th>    <td>   73.6965</td> <td>    3.403</td> <td>   21.658</td> <td> 0.000</td> <td>   67.027</td> <td>   80.366</td>\n",
       "</tr>\n",
       "<tr>\n",
       "  <th>x4</th>    <td> 6551.5022</td> <td> 2924.357</td> <td>    2.240</td> <td> 0.025</td> <td>  819.546</td> <td> 1.23e+04</td>\n",
       "</tr>\n",
       "<tr>\n",
       "  <th>x5</th>    <td> 8.688e+04</td> <td> 2059.371</td> <td>   42.188</td> <td> 0.000</td> <td> 8.28e+04</td> <td> 9.09e+04</td>\n",
       "</tr>\n",
       "<tr>\n",
       "  <th>x6</th>    <td>-1.963e+04</td> <td>  228.587</td> <td>  -85.855</td> <td> 0.000</td> <td>-2.01e+04</td> <td>-1.92e+04</td>\n",
       "</tr>\n",
       "</table>\n",
       "<table class=\"simpletable\">\n",
       "<tr>\n",
       "  <th>Omnibus:</th>       <td>17992.478</td> <th>  Durbin-Watson:     </th>  <td>   1.990</td>  \n",
       "</tr>\n",
       "<tr>\n",
       "  <th>Prob(Omnibus):</th>  <td> 0.000</td>   <th>  Jarque-Bera (JB):  </th> <td>1543550.808</td>\n",
       "</tr>\n",
       "<tr>\n",
       "  <th>Skew:</th>           <td> 3.502</td>   <th>  Prob(JB):          </th>  <td>    0.00</td>  \n",
       "</tr>\n",
       "<tr>\n",
       "  <th>Kurtosis:</th>       <td>43.819</td>   <th>  Cond. No.          </th>  <td>1.40e+04</td>  \n",
       "</tr>\n",
       "</table><br/><br/>Warnings:<br/>[1] Standard Errors assume that the covariance matrix of the errors is correctly specified.<br/>[2] The condition number is large, 1.4e+04. This might indicate that there are<br/>strong multicollinearity or other numerical problems."
      ],
      "text/plain": [
       "<class 'statsmodels.iolib.summary.Summary'>\n",
       "\"\"\"\n",
       "                            OLS Regression Results                            \n",
       "==============================================================================\n",
       "Dep. Variable:                  price   R-squared:                       0.656\n",
       "Model:                            OLS   Adj. R-squared:                  0.656\n",
       "Method:                 Least Squares   F-statistic:                     6853.\n",
       "Date:                Wed, 17 Apr 2019   Prob (F-statistic):               0.00\n",
       "Time:                        14:13:55   Log-Likelihood:            -2.9588e+05\n",
       "No. Observations:               21597   AIC:                         5.918e+05\n",
       "Df Residuals:                   21590   BIC:                         5.918e+05\n",
       "Df Model:                           6                                         \n",
       "Covariance Type:            nonrobust                                         \n",
       "==============================================================================\n",
       "                 coef    std err          t      P>|t|      [0.025      0.975]\n",
       "------------------------------------------------------------------------------\n",
       "const       1.063e+05   5493.175     19.352      0.000    9.55e+04    1.17e+05\n",
       "x1           165.1775      4.069     40.589      0.000     157.201     173.154\n",
       "x2            76.5032      3.964     19.302      0.000      68.734      84.272\n",
       "x3            73.6965      3.403     21.658      0.000      67.027      80.366\n",
       "x4          6551.5022   2924.357      2.240      0.025     819.546    1.23e+04\n",
       "x5          8.688e+04   2059.371     42.188      0.000    8.28e+04    9.09e+04\n",
       "x6         -1.963e+04    228.587    -85.855      0.000   -2.01e+04   -1.92e+04\n",
       "==============================================================================\n",
       "Omnibus:                    17992.478   Durbin-Watson:                   1.990\n",
       "Prob(Omnibus):                  0.000   Jarque-Bera (JB):          1543550.808\n",
       "Skew:                           3.502   Prob(JB):                         0.00\n",
       "Kurtosis:                      43.819   Cond. No.                     1.40e+04\n",
       "==============================================================================\n",
       "\n",
       "Warnings:\n",
       "[1] Standard Errors assume that the covariance matrix of the errors is correctly specified.\n",
       "[2] The condition number is large, 1.4e+04. This might indicate that there are\n",
       "strong multicollinearity or other numerical problems.\n",
       "\"\"\""
      ]
     },
     "execution_count": 33,
     "metadata": {},
     "output_type": "execute_result"
    }
   ],
   "source": [
    "predictors = np.asarray(X3) #set predictors as numpy array of capital X\n",
    "predictors_int = sm.add_constant(predictors) #.add_constant\n",
    "model3 = sm.OLS(y3,predictors_int).fit() #statsmodels.OrdinaryLeastSquares (dependent var, array of predictors).fit()\n",
    "model3.summary()"
   ]
  },
  {
   "cell_type": "code",
   "execution_count": 34,
   "metadata": {},
   "outputs": [
    {
     "name": "stderr",
     "output_type": "stream",
     "text": [
      "/Users/krex/anaconda3/lib/python3.7/site-packages/sklearn/preprocessing/data.py:625: DataConversionWarning: Data with input dtype int64, float64 were all converted to float64 by StandardScaler.\n",
      "  return self.partial_fit(X, y)\n",
      "/Users/krex/anaconda3/lib/python3.7/site-packages/sklearn/base.py:462: DataConversionWarning: Data with input dtype int64, float64 were all converted to float64 by StandardScaler.\n",
      "  return self.fit(X, **fit_params).transform(X)\n"
     ]
    }
   ],
   "source": [
    "\"\"\" Now using Sklearn\"\"\"\n",
    "ss = StandardScaler()\n",
    "\n",
    "X3_scaled = ss.fit_transform(X3)"
   ]
  },
  {
   "cell_type": "code",
   "execution_count": 35,
   "metadata": {},
   "outputs": [],
   "source": [
    "np.random.seed(33)\n",
    "\n",
    "X3_train,X3_test,y3_train,y3_test = train_test_split(X3_scaled,y3)"
   ]
  },
  {
   "cell_type": "code",
   "execution_count": 36,
   "metadata": {},
   "outputs": [
    {
     "data": {
      "text/plain": [
       "LinearRegression(copy_X=True, fit_intercept=True, n_jobs=None,\n",
       "         normalize=False)"
      ]
     },
     "execution_count": 36,
     "metadata": {},
     "output_type": "execute_result"
    }
   ],
   "source": [
    "lr.fit(X3_train,y3_train)"
   ]
  },
  {
   "cell_type": "code",
   "execution_count": 37,
   "metadata": {},
   "outputs": [
    {
     "data": {
      "text/plain": [
       "0.6630560547182283"
      ]
     },
     "execution_count": 37,
     "metadata": {},
     "output_type": "execute_result"
    }
   ],
   "source": [
    "lr.score(X3_test,y3_test) #r**2 value"
   ]
  },
  {
   "cell_type": "code",
   "execution_count": 38,
   "metadata": {},
   "outputs": [
    {
     "data": {
      "text/plain": [
       "array([ 145233.21719084,   64362.99251029,   55832.88402495,\n",
       "          3835.2050749 ,   62742.88991393, -131811.40052588])"
      ]
     },
     "execution_count": 38,
     "metadata": {},
     "output_type": "execute_result"
    }
   ],
   "source": [
    "lr.coef_"
   ]
  },
  {
   "cell_type": "code",
   "execution_count": 39,
   "metadata": {},
   "outputs": [],
   "source": [
    "r_2 = metrics.r2_score(y3_test, lr.predict(X3_test))\n",
    "mae = metrics.mean_absolute_error(y3_test, lr.predict(X3_test))\n",
    "mse = metrics.mean_squared_error(y3_test, lr.predict(X3_test))"
   ]
  },
  {
   "cell_type": "code",
   "execution_count": 40,
   "metadata": {},
   "outputs": [
    {
     "name": "stdout",
     "output_type": "stream",
     "text": [
      "Our list of predictors: Index(['sqft_living', 'sqft_above', 'sqft_living15', 'bathrooms', 'view',\n",
      "       'distance_from_flatiron'],\n",
      "      dtype='object')\n",
      "The R-squared score of our test is 0.6630560547182283\n",
      "The MAE score of our test is 137136.42099187843\n",
      "The MSE score of our test is 48919865285.35741\n",
      "The RMSE score of our test is $221178.35627691378\n"
     ]
    }
   ],
   "source": [
    "#PRICE vs. TOP 7, but dropping grade #test size is .25\n",
    "print(f'Our list of predictors: {X3.columns}')\n",
    "print(f\"The R-squared score of our test is {r_2}\")\n",
    "print(f\"The MAE score of our test is {mae}\")\n",
    "print(f\"The MSE score of our test is {mse}\")\n",
    "print(f\"The RMSE score of our test is ${sqrt(mse)}\")"
   ]
  },
  {
   "cell_type": "code",
   "execution_count": 41,
   "metadata": {},
   "outputs": [],
   "source": [
    "cv_5_results = cross_val_score(lr, X3_scaled, y3, cv=5, scoring=\"neg_mean_squared_error\")\n",
    "cv_10_results = cross_val_score(lr, X3_scaled, y3, cv=10, scoring=\"neg_mean_squared_error\")\n",
    "cv_20_results = cross_val_score(lr, X3_scaled, y3, cv=20, scoring=\"neg_mean_squared_error\")"
   ]
  },
  {
   "cell_type": "code",
   "execution_count": 42,
   "metadata": {},
   "outputs": [
    {
     "name": "stdout",
     "output_type": "stream",
     "text": [
      "CV5 - MEAN of 5 RMSE's: 215958.6148155962\n",
      "CV10 - MEAN of 10 RMSE's: 215955.31790222926\n",
      "CV20 - MEAN of 20 RMSE's: $215841.46532420482\n"
     ]
    }
   ],
   "source": [
    "print(f\"CV5 - MEAN of 5 RMSE's: {sqrt(-1*np.mean(cv_5_results))}\")\n",
    "print(f\"CV10 - MEAN of 10 RMSE's: {sqrt(-1*np.mean(cv_10_results))}\")\n",
    "print(f\"CV20 - MEAN of 20 RMSE's: ${sqrt(-1*np.mean(cv_20_results))}\")"
   ]
  },
  {
   "cell_type": "markdown",
   "metadata": {},
   "source": [
    "## Test[3] Observations: dropping 'grade'"
   ]
  },
  {
   "cell_type": "markdown",
   "metadata": {},
   "source": [
    "- Dropping 'grade' increased our RMSE from 210K to 215K, and dropped our R-squared slightly\n",
    "- **Test[3] did not improve our model, X2 from Test[2] is still our best set of predictors**"
   ]
  },
  {
   "cell_type": "markdown",
   "metadata": {},
   "source": [
    "## Test[4]: Feature Engineer 'yr_last_constructed' & add to our current best model (X2 variable set from Test[2])"
   ]
  },
  {
   "cell_type": "code",
   "execution_count": 43,
   "metadata": {},
   "outputs": [],
   "source": [
    "#FEATURE ENGINEERING: 'yr_last_constructed'\n",
    "df['yr_last_constructed'] = df[['yr_built', 'yr_renovated']].max(axis=1)"
   ]
  },
  {
   "cell_type": "code",
   "execution_count": 44,
   "metadata": {},
   "outputs": [
    {
     "data": {
      "text/html": [
       "<div>\n",
       "<style scoped>\n",
       "    .dataframe tbody tr th:only-of-type {\n",
       "        vertical-align: middle;\n",
       "    }\n",
       "\n",
       "    .dataframe tbody tr th {\n",
       "        vertical-align: top;\n",
       "    }\n",
       "\n",
       "    .dataframe thead th {\n",
       "        text-align: right;\n",
       "    }\n",
       "</style>\n",
       "<table border=\"1\" class=\"dataframe\">\n",
       "  <thead>\n",
       "    <tr style=\"text-align: right;\">\n",
       "      <th></th>\n",
       "      <th>0</th>\n",
       "      <th>1</th>\n",
       "      <th>2</th>\n",
       "      <th>3</th>\n",
       "      <th>4</th>\n",
       "    </tr>\n",
       "  </thead>\n",
       "  <tbody>\n",
       "    <tr>\n",
       "      <th>id</th>\n",
       "      <td>7129300520</td>\n",
       "      <td>6414100192</td>\n",
       "      <td>5631500400</td>\n",
       "      <td>2487200875</td>\n",
       "      <td>1954400510</td>\n",
       "    </tr>\n",
       "    <tr>\n",
       "      <th>date</th>\n",
       "      <td>2014-10-13</td>\n",
       "      <td>2014-12-09</td>\n",
       "      <td>2015-02-25</td>\n",
       "      <td>2014-12-09</td>\n",
       "      <td>2015-02-18</td>\n",
       "    </tr>\n",
       "    <tr>\n",
       "      <th>price</th>\n",
       "      <td>221900</td>\n",
       "      <td>538000</td>\n",
       "      <td>180000</td>\n",
       "      <td>604000</td>\n",
       "      <td>510000</td>\n",
       "    </tr>\n",
       "    <tr>\n",
       "      <th>bedrooms</th>\n",
       "      <td>3</td>\n",
       "      <td>3</td>\n",
       "      <td>2</td>\n",
       "      <td>4</td>\n",
       "      <td>3</td>\n",
       "    </tr>\n",
       "    <tr>\n",
       "      <th>bathrooms</th>\n",
       "      <td>1</td>\n",
       "      <td>2.25</td>\n",
       "      <td>1</td>\n",
       "      <td>3</td>\n",
       "      <td>2</td>\n",
       "    </tr>\n",
       "    <tr>\n",
       "      <th>sqft_living</th>\n",
       "      <td>1180</td>\n",
       "      <td>2570</td>\n",
       "      <td>770</td>\n",
       "      <td>1960</td>\n",
       "      <td>1680</td>\n",
       "    </tr>\n",
       "    <tr>\n",
       "      <th>sqft_lot</th>\n",
       "      <td>5650</td>\n",
       "      <td>7242</td>\n",
       "      <td>10000</td>\n",
       "      <td>5000</td>\n",
       "      <td>8080</td>\n",
       "    </tr>\n",
       "    <tr>\n",
       "      <th>floors</th>\n",
       "      <td>1</td>\n",
       "      <td>2</td>\n",
       "      <td>1</td>\n",
       "      <td>1</td>\n",
       "      <td>1</td>\n",
       "    </tr>\n",
       "    <tr>\n",
       "      <th>waterfront</th>\n",
       "      <td>0</td>\n",
       "      <td>0</td>\n",
       "      <td>0</td>\n",
       "      <td>0</td>\n",
       "      <td>0</td>\n",
       "    </tr>\n",
       "    <tr>\n",
       "      <th>view</th>\n",
       "      <td>0</td>\n",
       "      <td>0</td>\n",
       "      <td>0</td>\n",
       "      <td>0</td>\n",
       "      <td>0</td>\n",
       "    </tr>\n",
       "    <tr>\n",
       "      <th>condition</th>\n",
       "      <td>3</td>\n",
       "      <td>3</td>\n",
       "      <td>3</td>\n",
       "      <td>5</td>\n",
       "      <td>3</td>\n",
       "    </tr>\n",
       "    <tr>\n",
       "      <th>grade</th>\n",
       "      <td>7</td>\n",
       "      <td>7</td>\n",
       "      <td>6</td>\n",
       "      <td>7</td>\n",
       "      <td>8</td>\n",
       "    </tr>\n",
       "    <tr>\n",
       "      <th>sqft_above</th>\n",
       "      <td>1180</td>\n",
       "      <td>2170</td>\n",
       "      <td>770</td>\n",
       "      <td>1050</td>\n",
       "      <td>1680</td>\n",
       "    </tr>\n",
       "    <tr>\n",
       "      <th>sqft_basement</th>\n",
       "      <td>NaN</td>\n",
       "      <td>400</td>\n",
       "      <td>NaN</td>\n",
       "      <td>910</td>\n",
       "      <td>NaN</td>\n",
       "    </tr>\n",
       "    <tr>\n",
       "      <th>yr_built</th>\n",
       "      <td>1955</td>\n",
       "      <td>1951</td>\n",
       "      <td>1933</td>\n",
       "      <td>1965</td>\n",
       "      <td>1987</td>\n",
       "    </tr>\n",
       "    <tr>\n",
       "      <th>yr_renovated</th>\n",
       "      <td>NaN</td>\n",
       "      <td>1991</td>\n",
       "      <td>NaN</td>\n",
       "      <td>NaN</td>\n",
       "      <td>NaN</td>\n",
       "    </tr>\n",
       "    <tr>\n",
       "      <th>zipcode</th>\n",
       "      <td>98178</td>\n",
       "      <td>98125</td>\n",
       "      <td>98028</td>\n",
       "      <td>98136</td>\n",
       "      <td>98074</td>\n",
       "    </tr>\n",
       "    <tr>\n",
       "      <th>lat</th>\n",
       "      <td>47.5112</td>\n",
       "      <td>47.721</td>\n",
       "      <td>47.7379</td>\n",
       "      <td>47.5208</td>\n",
       "      <td>47.6168</td>\n",
       "    </tr>\n",
       "    <tr>\n",
       "      <th>long</th>\n",
       "      <td>-122.257</td>\n",
       "      <td>-122.319</td>\n",
       "      <td>-122.233</td>\n",
       "      <td>-122.393</td>\n",
       "      <td>-122.045</td>\n",
       "    </tr>\n",
       "    <tr>\n",
       "      <th>sqft_living15</th>\n",
       "      <td>1340</td>\n",
       "      <td>1690</td>\n",
       "      <td>2720</td>\n",
       "      <td>1360</td>\n",
       "      <td>1800</td>\n",
       "    </tr>\n",
       "    <tr>\n",
       "      <th>sqft_lot15</th>\n",
       "      <td>5650</td>\n",
       "      <td>7639</td>\n",
       "      <td>8062</td>\n",
       "      <td>5000</td>\n",
       "      <td>7503</td>\n",
       "    </tr>\n",
       "    <tr>\n",
       "      <th>bed_bath_sum</th>\n",
       "      <td>4</td>\n",
       "      <td>5.25</td>\n",
       "      <td>3</td>\n",
       "      <td>7</td>\n",
       "      <td>5</td>\n",
       "    </tr>\n",
       "    <tr>\n",
       "      <th>renovation_yes</th>\n",
       "      <td>0</td>\n",
       "      <td>1</td>\n",
       "      <td>0</td>\n",
       "      <td>0</td>\n",
       "      <td>0</td>\n",
       "    </tr>\n",
       "    <tr>\n",
       "      <th>sqft_living_plus_lot</th>\n",
       "      <td>6830</td>\n",
       "      <td>9812</td>\n",
       "      <td>10770</td>\n",
       "      <td>6960</td>\n",
       "      <td>9760</td>\n",
       "    </tr>\n",
       "    <tr>\n",
       "      <th>sqft_living_plus_lot_15</th>\n",
       "      <td>6990</td>\n",
       "      <td>9329</td>\n",
       "      <td>10782</td>\n",
       "      <td>6360</td>\n",
       "      <td>9303</td>\n",
       "    </tr>\n",
       "    <tr>\n",
       "      <th>lat_long</th>\n",
       "      <td>(47.5112, -122.257)</td>\n",
       "      <td>(47.721, -122.319)</td>\n",
       "      <td>(47.7379, -122.233)</td>\n",
       "      <td>(47.5208, -122.393)</td>\n",
       "      <td>(47.6168, -122.045)</td>\n",
       "    </tr>\n",
       "    <tr>\n",
       "      <th>distance_from_flatiron</th>\n",
       "      <td>7.71487</td>\n",
       "      <td>7.76648</td>\n",
       "      <td>10.1079</td>\n",
       "      <td>6.65534</td>\n",
       "      <td>13.5784</td>\n",
       "    </tr>\n",
       "    <tr>\n",
       "      <th>yr_last_constructed</th>\n",
       "      <td>1955</td>\n",
       "      <td>1991</td>\n",
       "      <td>1933</td>\n",
       "      <td>1965</td>\n",
       "      <td>1987</td>\n",
       "    </tr>\n",
       "  </tbody>\n",
       "</table>\n",
       "</div>"
      ],
      "text/plain": [
       "                                           0                   1  \\\n",
       "id                                7129300520          6414100192   \n",
       "date                              2014-10-13          2014-12-09   \n",
       "price                                 221900              538000   \n",
       "bedrooms                                   3                   3   \n",
       "bathrooms                                  1                2.25   \n",
       "sqft_living                             1180                2570   \n",
       "sqft_lot                                5650                7242   \n",
       "floors                                     1                   2   \n",
       "waterfront                                 0                   0   \n",
       "view                                       0                   0   \n",
       "condition                                  3                   3   \n",
       "grade                                      7                   7   \n",
       "sqft_above                              1180                2170   \n",
       "sqft_basement                            NaN                 400   \n",
       "yr_built                                1955                1951   \n",
       "yr_renovated                             NaN                1991   \n",
       "zipcode                                98178               98125   \n",
       "lat                                  47.5112              47.721   \n",
       "long                                -122.257            -122.319   \n",
       "sqft_living15                           1340                1690   \n",
       "sqft_lot15                              5650                7639   \n",
       "bed_bath_sum                               4                5.25   \n",
       "renovation_yes                             0                   1   \n",
       "sqft_living_plus_lot                    6830                9812   \n",
       "sqft_living_plus_lot_15                 6990                9329   \n",
       "lat_long                 (47.5112, -122.257)  (47.721, -122.319)   \n",
       "distance_from_flatiron               7.71487             7.76648   \n",
       "yr_last_constructed                     1955                1991   \n",
       "\n",
       "                                           2                    3  \\\n",
       "id                                5631500400           2487200875   \n",
       "date                              2015-02-25           2014-12-09   \n",
       "price                                 180000               604000   \n",
       "bedrooms                                   2                    4   \n",
       "bathrooms                                  1                    3   \n",
       "sqft_living                              770                 1960   \n",
       "sqft_lot                               10000                 5000   \n",
       "floors                                     1                    1   \n",
       "waterfront                                 0                    0   \n",
       "view                                       0                    0   \n",
       "condition                                  3                    5   \n",
       "grade                                      6                    7   \n",
       "sqft_above                               770                 1050   \n",
       "sqft_basement                            NaN                  910   \n",
       "yr_built                                1933                 1965   \n",
       "yr_renovated                             NaN                  NaN   \n",
       "zipcode                                98028                98136   \n",
       "lat                                  47.7379              47.5208   \n",
       "long                                -122.233             -122.393   \n",
       "sqft_living15                           2720                 1360   \n",
       "sqft_lot15                              8062                 5000   \n",
       "bed_bath_sum                               3                    7   \n",
       "renovation_yes                             0                    0   \n",
       "sqft_living_plus_lot                   10770                 6960   \n",
       "sqft_living_plus_lot_15                10782                 6360   \n",
       "lat_long                 (47.7379, -122.233)  (47.5208, -122.393)   \n",
       "distance_from_flatiron               10.1079              6.65534   \n",
       "yr_last_constructed                     1933                 1965   \n",
       "\n",
       "                                           4  \n",
       "id                                1954400510  \n",
       "date                              2015-02-18  \n",
       "price                                 510000  \n",
       "bedrooms                                   3  \n",
       "bathrooms                                  2  \n",
       "sqft_living                             1680  \n",
       "sqft_lot                                8080  \n",
       "floors                                     1  \n",
       "waterfront                                 0  \n",
       "view                                       0  \n",
       "condition                                  3  \n",
       "grade                                      8  \n",
       "sqft_above                              1680  \n",
       "sqft_basement                            NaN  \n",
       "yr_built                                1987  \n",
       "yr_renovated                             NaN  \n",
       "zipcode                                98074  \n",
       "lat                                  47.6168  \n",
       "long                                -122.045  \n",
       "sqft_living15                           1800  \n",
       "sqft_lot15                              7503  \n",
       "bed_bath_sum                               5  \n",
       "renovation_yes                             0  \n",
       "sqft_living_plus_lot                    9760  \n",
       "sqft_living_plus_lot_15                 9303  \n",
       "lat_long                 (47.6168, -122.045)  \n",
       "distance_from_flatiron               13.5784  \n",
       "yr_last_constructed                     1987  "
      ]
     },
     "execution_count": 44,
     "metadata": {},
     "output_type": "execute_result"
    }
   ],
   "source": [
    "df.head().T"
   ]
  },
  {
   "cell_type": "code",
   "execution_count": 45,
   "metadata": {},
   "outputs": [
    {
     "data": {
      "text/plain": [
       "<matplotlib.axes._subplots.AxesSubplot at 0x1c25bf2dd8>"
      ]
     },
     "execution_count": 45,
     "metadata": {},
     "output_type": "execute_result"
    },
    {
     "data": {
      "image/png": "[encoded data removed]",
      "text/plain": [
       "<Figure size 1080x864 with 2 Axes>"
      ]
     },
     "metadata": {},
     "output_type": "display_data"
    }
   ],
   "source": [
    "#CORRELATION ANALYSIS WITH NEW VARIABLE 'yr_last_constructed'\n",
    "df8 = df[['price','sqft_living', 'grade', 'sqft_above', 'sqft_living15', 'bathrooms',\n",
    "       'view','distance_from_flatiron', 'yr_last_constructed']]\n",
    "\n",
    "sns.set(rc={'figure.figsize': (15,12)})\n",
    "sns.heatmap(df8.corr(), annot=True)"
   ]
  },
  {
   "cell_type": "code",
   "execution_count": 46,
   "metadata": {},
   "outputs": [],
   "source": [
    "#RUNNING NEW MODEL QUALITY TEST USING X2 Variables PLUS NEW FEATURE 'yr_last_constucted'\n",
    "X4 = df[['sqft_living', 'grade', 'sqft_above', 'sqft_living15', 'bathrooms',\n",
    "       'view','distance_from_flatiron','yr_last_constructed']]\n",
    "y4 = df['price']"
   ]
  },
  {
   "cell_type": "code",
   "execution_count": 47,
   "metadata": {},
   "outputs": [
    {
     "data": {
      "text/html": [
       "<table class=\"simpletable\">\n",
       "<caption>OLS Regression Results</caption>\n",
       "<tr>\n",
       "  <th>Dep. Variable:</th>          <td>price</td>      <th>  R-squared:         </th>  <td>   0.680</td>  \n",
       "</tr>\n",
       "<tr>\n",
       "  <th>Model:</th>                   <td>OLS</td>       <th>  Adj. R-squared:    </th>  <td>   0.680</td>  \n",
       "</tr>\n",
       "<tr>\n",
       "  <th>Method:</th>             <td>Least Squares</td>  <th>  F-statistic:       </th>  <td>   5727.</td>  \n",
       "</tr>\n",
       "<tr>\n",
       "  <th>Date:</th>             <td>Wed, 17 Apr 2019</td> <th>  Prob (F-statistic):</th>   <td>  0.00</td>   \n",
       "</tr>\n",
       "<tr>\n",
       "  <th>Time:</th>                 <td>14:13:57</td>     <th>  Log-Likelihood:    </th> <td>-2.9510e+05</td>\n",
       "</tr>\n",
       "<tr>\n",
       "  <th>No. Observations:</th>      <td> 21597</td>      <th>  AIC:               </th>  <td>5.902e+05</td> \n",
       "</tr>\n",
       "<tr>\n",
       "  <th>Df Residuals:</th>          <td> 21588</td>      <th>  BIC:               </th>  <td>5.903e+05</td> \n",
       "</tr>\n",
       "<tr>\n",
       "  <th>Df Model:</th>              <td>     8</td>      <th>                     </th>      <td> </td>     \n",
       "</tr>\n",
       "<tr>\n",
       "  <th>Covariance Type:</th>      <td>nonrobust</td>    <th>                     </th>      <td> </td>     \n",
       "</tr>\n",
       "</table>\n",
       "<table class=\"simpletable\">\n",
       "<tr>\n",
       "    <td></td>       <th>coef</th>     <th>std err</th>      <th>t</th>      <th>P>|t|</th>  <th>[0.025</th>    <th>0.975]</th>  \n",
       "</tr>\n",
       "<tr>\n",
       "  <th>const</th> <td> 2.613e+06</td> <td> 1.27e+05</td> <td>   20.634</td> <td> 0.000</td> <td> 2.37e+06</td> <td> 2.86e+06</td>\n",
       "</tr>\n",
       "<tr>\n",
       "  <th>x1</th>    <td>  132.8499</td> <td>    4.076</td> <td>   32.596</td> <td> 0.000</td> <td>  124.861</td> <td>  140.838</td>\n",
       "</tr>\n",
       "<tr>\n",
       "  <th>x2</th>    <td> 8.484e+04</td> <td> 2213.470</td> <td>   38.329</td> <td> 0.000</td> <td> 8.05e+04</td> <td> 8.92e+04</td>\n",
       "</tr>\n",
       "<tr>\n",
       "  <th>x3</th>    <td>   52.2068</td> <td>    3.996</td> <td>   13.063</td> <td> 0.000</td> <td>   44.373</td> <td>   60.040</td>\n",
       "</tr>\n",
       "<tr>\n",
       "  <th>x4</th>    <td>   37.6156</td> <td>    3.437</td> <td>   10.944</td> <td> 0.000</td> <td>   30.878</td> <td>   44.353</td>\n",
       "</tr>\n",
       "<tr>\n",
       "  <th>x5</th>    <td>  1.57e+04</td> <td> 3190.058</td> <td>    4.920</td> <td> 0.000</td> <td> 9443.587</td> <td> 2.19e+04</td>\n",
       "</tr>\n",
       "<tr>\n",
       "  <th>x6</th>    <td> 7.785e+04</td> <td> 2000.898</td> <td>   38.906</td> <td> 0.000</td> <td> 7.39e+04</td> <td> 8.18e+04</td>\n",
       "</tr>\n",
       "<tr>\n",
       "  <th>x7</th>    <td>-1.608e+04</td> <td>  242.494</td> <td>  -66.321</td> <td> 0.000</td> <td>-1.66e+04</td> <td>-1.56e+04</td>\n",
       "</tr>\n",
       "<tr>\n",
       "  <th>x8</th>    <td>-1537.1452</td> <td>   67.513</td> <td>  -22.768</td> <td> 0.000</td> <td>-1669.476</td> <td>-1404.814</td>\n",
       "</tr>\n",
       "</table>\n",
       "<table class=\"simpletable\">\n",
       "<tr>\n",
       "  <th>Omnibus:</th>       <td>19679.614</td> <th>  Durbin-Watson:     </th>  <td>   1.992</td>  \n",
       "</tr>\n",
       "<tr>\n",
       "  <th>Prob(Omnibus):</th>  <td> 0.000</td>   <th>  Jarque-Bera (JB):  </th> <td>2340027.846</td>\n",
       "</tr>\n",
       "<tr>\n",
       "  <th>Skew:</th>           <td> 3.956</td>   <th>  Prob(JB):          </th>  <td>    0.00</td>  \n",
       "</tr>\n",
       "<tr>\n",
       "  <th>Kurtosis:</th>       <td>53.377</td>   <th>  Cond. No.          </th>  <td>3.66e+05</td>  \n",
       "</tr>\n",
       "</table><br/><br/>Warnings:<br/>[1] Standard Errors assume that the covariance matrix of the errors is correctly specified.<br/>[2] The condition number is large, 3.66e+05. This might indicate that there are<br/>strong multicollinearity or other numerical problems."
      ],
      "text/plain": [
       "<class 'statsmodels.iolib.summary.Summary'>\n",
       "\"\"\"\n",
       "                            OLS Regression Results                            \n",
       "==============================================================================\n",
       "Dep. Variable:                  price   R-squared:                       0.680\n",
       "Model:                            OLS   Adj. R-squared:                  0.680\n",
       "Method:                 Least Squares   F-statistic:                     5727.\n",
       "Date:                Wed, 17 Apr 2019   Prob (F-statistic):               0.00\n",
       "Time:                        14:13:57   Log-Likelihood:            -2.9510e+05\n",
       "No. Observations:               21597   AIC:                         5.902e+05\n",
       "Df Residuals:                   21588   BIC:                         5.903e+05\n",
       "Df Model:                           8                                         \n",
       "Covariance Type:            nonrobust                                         \n",
       "==============================================================================\n",
       "                 coef    std err          t      P>|t|      [0.025      0.975]\n",
       "------------------------------------------------------------------------------\n",
       "const       2.613e+06   1.27e+05     20.634      0.000    2.37e+06    2.86e+06\n",
       "x1           132.8499      4.076     32.596      0.000     124.861     140.838\n",
       "x2          8.484e+04   2213.470     38.329      0.000    8.05e+04    8.92e+04\n",
       "x3            52.2068      3.996     13.063      0.000      44.373      60.040\n",
       "x4            37.6156      3.437     10.944      0.000      30.878      44.353\n",
       "x5           1.57e+04   3190.058      4.920      0.000    9443.587    2.19e+04\n",
       "x6          7.785e+04   2000.898     38.906      0.000    7.39e+04    8.18e+04\n",
       "x7         -1.608e+04    242.494    -66.321      0.000   -1.66e+04   -1.56e+04\n",
       "x8         -1537.1452     67.513    -22.768      0.000   -1669.476   -1404.814\n",
       "==============================================================================\n",
       "Omnibus:                    19679.614   Durbin-Watson:                   1.992\n",
       "Prob(Omnibus):                  0.000   Jarque-Bera (JB):          2340027.846\n",
       "Skew:                           3.956   Prob(JB):                         0.00\n",
       "Kurtosis:                      53.377   Cond. No.                     3.66e+05\n",
       "==============================================================================\n",
       "\n",
       "Warnings:\n",
       "[1] Standard Errors assume that the covariance matrix of the errors is correctly specified.\n",
       "[2] The condition number is large, 3.66e+05. This might indicate that there are\n",
       "strong multicollinearity or other numerical problems.\n",
       "\"\"\""
      ]
     },
     "execution_count": 47,
     "metadata": {},
     "output_type": "execute_result"
    }
   ],
   "source": [
    "predictors = np.asarray(X4) #set predictors as numpy array of capital X\n",
    "predictors_int = sm.add_constant(predictors) #.add_constant\n",
    "model4 = sm.OLS(y4,predictors_int).fit() #statsmodels.OrdinaryLeastSquares (dependent var, array of predictors).fit()\n",
    "model4.summary()"
   ]
  },
  {
   "cell_type": "code",
   "execution_count": 48,
   "metadata": {},
   "outputs": [
    {
     "name": "stderr",
     "output_type": "stream",
     "text": [
      "/Users/krex/anaconda3/lib/python3.7/site-packages/sklearn/preprocessing/data.py:625: DataConversionWarning: Data with input dtype int64, float64 were all converted to float64 by StandardScaler.\n",
      "  return self.partial_fit(X, y)\n",
      "/Users/krex/anaconda3/lib/python3.7/site-packages/sklearn/base.py:462: DataConversionWarning: Data with input dtype int64, float64 were all converted to float64 by StandardScaler.\n",
      "  return self.fit(X, **fit_params).transform(X)\n"
     ]
    }
   ],
   "source": [
    "\"\"\" Now using Sklearn\"\"\"\n",
    "ss = StandardScaler()\n",
    "\n",
    "X4_scaled = ss.fit_transform(X4)"
   ]
  },
  {
   "cell_type": "code",
   "execution_count": 49,
   "metadata": {},
   "outputs": [],
   "source": [
    "np.random.seed(33)\n",
    "\n",
    "X4_train,X4_test,y4_train,y4_test = train_test_split(X4_scaled,y4)"
   ]
  },
  {
   "cell_type": "code",
   "execution_count": 50,
   "metadata": {},
   "outputs": [
    {
     "data": {
      "text/plain": [
       "LinearRegression(copy_X=True, fit_intercept=True, n_jobs=None,\n",
       "         normalize=False)"
      ]
     },
     "execution_count": 50,
     "metadata": {},
     "output_type": "execute_result"
    }
   ],
   "source": [
    "lr.fit(X4_train,y4_train)"
   ]
  },
  {
   "cell_type": "code",
   "execution_count": 51,
   "metadata": {},
   "outputs": [
    {
     "data": {
      "text/plain": [
       "0.6837323425695527"
      ]
     },
     "execution_count": 51,
     "metadata": {},
     "output_type": "execute_result"
    }
   ],
   "source": [
    "lr.score(X4_test,y4_test) #r**2 value"
   ]
  },
  {
   "cell_type": "code",
   "execution_count": 52,
   "metadata": {},
   "outputs": [
    {
     "data": {
      "text/plain": [
       "array([ 115840.40218205,  101395.40497798,   43169.66688582,\n",
       "         30809.68465594,    9827.6858844 ,   55760.38547153,\n",
       "       -107966.21775611,  -43559.44766147])"
      ]
     },
     "execution_count": 52,
     "metadata": {},
     "output_type": "execute_result"
    }
   ],
   "source": [
    "lr.coef_"
   ]
  },
  {
   "cell_type": "code",
   "execution_count": 53,
   "metadata": {},
   "outputs": [],
   "source": [
    "r_2 = metrics.r2_score(y4_test, lr.predict(X4_test))\n",
    "mae = metrics.mean_absolute_error(y4_test, lr.predict(X4_test))\n",
    "mse = metrics.mean_squared_error(y4_test, lr.predict(X4_test))"
   ]
  },
  {
   "cell_type": "code",
   "execution_count": 54,
   "metadata": {},
   "outputs": [
    {
     "name": "stdout",
     "output_type": "stream",
     "text": [
      "Our list of predictors: Index(['sqft_living', 'grade', 'sqft_above', 'sqft_living15', 'bathrooms',\n",
      "       'view', 'distance_from_flatiron', 'yr_last_constructed'],\n",
      "      dtype='object')\n",
      "The R-squared score of our test is 0.6837323425695527\n",
      "The MAE score of our test is 129865.17760581287\n",
      "The MSE score of our test is 45917938019.85273\n",
      "The RMSE score of our test is $214284.71252017195\n"
     ]
    }
   ],
   "source": [
    "#PRICE vs. TOP 7, adding 'yr_last_constructed' #test size is .25\n",
    "print(f'Our list of predictors: {X4.columns}')\n",
    "print(f\"The R-squared score of our test is {r_2}\")\n",
    "print(f\"The MAE score of our test is {mae}\")\n",
    "print(f\"The MSE score of our test is {mse}\")\n",
    "print(f\"The RMSE score of our test is ${sqrt(mse)}\")"
   ]
  },
  {
   "cell_type": "code",
   "execution_count": 55,
   "metadata": {},
   "outputs": [],
   "source": [
    "cv_5_results = cross_val_score(lr, X4_scaled, y4, cv=5, scoring=\"neg_mean_squared_error\")\n",
    "cv_10_results = cross_val_score(lr, X4_scaled, y4, cv=10, scoring=\"neg_mean_squared_error\")\n",
    "cv_20_results = cross_val_score(lr, X4_scaled, y4, cv=20, scoring=\"neg_mean_squared_error\")"
   ]
  },
  {
   "cell_type": "code",
   "execution_count": 56,
   "metadata": {},
   "outputs": [
    {
     "name": "stdout",
     "output_type": "stream",
     "text": [
      "CV5 - MEAN of 5 RMSE's: 208312.66315426675\n",
      "CV10 - MEAN of 10 RMSE's: 208277.06293843163\n",
      "CV20 - MEAN of 20 RMSE's: $208195.42170075644\n"
     ]
    }
   ],
   "source": [
    "print(f\"CV5 - MEAN of 5 RMSE's: {sqrt(-1*np.mean(cv_5_results))}\")\n",
    "print(f\"CV10 - MEAN of 10 RMSE's: {sqrt(-1*np.mean(cv_10_results))}\")\n",
    "print(f\"CV20 - MEAN of 20 RMSE's: ${sqrt(-1*np.mean(cv_20_results))}\")"
   ]
  },
  {
   "cell_type": "markdown",
   "metadata": {},
   "source": [
    "## Test[4] Observations: creating & adding 'yr_last_constructed' feature"
   ]
  },
  {
   "cell_type": "markdown",
   "metadata": {},
   "source": [
    "- We created a new column 'yr_last_constructed' from the maximum between 'yr_built' & 'yr_renovated' & added it to our best performing model thus far which used the variable set X2 back in Test[2]\n",
    "- Our new variable set includes 8 features\n",
    "- Our R-squared improved slightly from .675 to .684\n",
    "- Our RMSE improved from 210K to 208K\n",
    "- **Test[4] improved our model slightly. This is our best model thus far.**"
   ]
  },
  {
   "cell_type": "markdown",
   "metadata": {},
   "source": [
    "## Next: Assess shape of current predictor variables to look for candidates for normalization"
   ]
  },
  {
   "cell_type": "code",
   "execution_count": 57,
   "metadata": {},
   "outputs": [
    {
     "data": {
      "image/png": "[encoded data removed]",
      "text/plain": [
       "<Figure size 864x360 with 2 Axes>"
      ]
     },
     "metadata": {},
     "output_type": "display_data"
    }
   ],
   "source": [
    "df['log_sqft_above'] = np.log(df['sqft_above'])\n",
    "\n",
    "#df[['sqft_living', 'grade', 'sqft_above', 'sqft_living15', 'bathrooms',\n",
    "   #    'view','distance_from_flatiron','yr_last_constructed']].hist(figsize=(12,12),bins=30);\n",
    "df[['sqft_above', 'log_sqft_above']].hist(figsize=(12,5),bins=30);"
   ]
  },
  {
   "cell_type": "code",
   "execution_count": 58,
   "metadata": {},
   "outputs": [
    {
     "data": {
      "image/png": "[encoded data removed]",
      "text/plain": [
       "<Figure size 864x360 with 2 Axes>"
      ]
     },
     "metadata": {},
     "output_type": "display_data"
    }
   ],
   "source": [
    "df['log_sqft_living'] = np.log(df['sqft_living'])\n",
    "\n",
    "#df[['log_sqft_living', 'grade', 'log_sqft_above', 'sqft_living15', 'bathrooms',\n",
    "#    'view','distance_from_flatiron','yr_last_constructed']].hist(figsize=(12,12),bins=30);\n",
    "df[['sqft_living', 'log_sqft_living']].hist(figsize=(12,5),bins=30);"
   ]
  },
  {
   "cell_type": "code",
   "execution_count": 59,
   "metadata": {},
   "outputs": [
    {
     "data": {
      "image/png": "[encoded data removed]",
      "text/plain": [
       "<Figure size 864x360 with 2 Axes>"
      ]
     },
     "metadata": {},
     "output_type": "display_data"
    }
   ],
   "source": [
    "df['log_sqft_living15'] = np.log(df['sqft_living15'])\n",
    "\n",
    "#df[['log_sqft_living', 'grade', 'log_sqft_above', 'sqft_living15', 'bathrooms',\n",
    "#    'view','distance_from_flatiron','yr_last_constructed']].hist(figsize=(12,12),bins=30);\n",
    "df[['sqft_living15', 'log_sqft_living15']].hist(figsize=(12,5),bins=30);\n"
   ]
  },
  {
   "cell_type": "code",
   "execution_count": 60,
   "metadata": {},
   "outputs": [
    {
     "data": {
      "image/png": "[encoded data removed]",
      "text/plain": [
       "<Figure size 864x864 with 9 Axes>"
      ]
     },
     "metadata": {},
     "output_type": "display_data"
    }
   ],
   "source": [
    "#df['sqrt_yr_last_constructed'] = (df['yr_last_constructed'])**(1/2)\n",
    "\n",
    "df[['log_sqft_living', 'grade', 'log_sqft_above', 'log_sqft_living15', 'bathrooms',\n",
    "    'view','distance_from_flatiron','yr_last_constructed']].hist(figsize=(12,12),bins=30);\n",
    "#df[['yr_last_constructed', 'sqrt_yr_last_constructed']].hist(figsize=(12,5),bins=30);"
   ]
  },
  {
   "cell_type": "code",
   "execution_count": 61,
   "metadata": {},
   "outputs": [],
   "source": [
    "#DROP TRANSFORMATIONS THAT DIDN'T WORK\n",
    "#df = df.drop(columns=['log_view','log_distance_from_flatiron','log_yr_last_constructed','x**3_yr_last_constructed',\n",
    "#                     'x**(1/3)_yr_last_constructed','log_bathrooms','sqrt_yr_last_constructed'])"
   ]
  },
  {
   "cell_type": "code",
   "execution_count": 62,
   "metadata": {},
   "outputs": [
    {
     "data": {
      "text/html": [
       "<div>\n",
       "<style scoped>\n",
       "    .dataframe tbody tr th:only-of-type {\n",
       "        vertical-align: middle;\n",
       "    }\n",
       "\n",
       "    .dataframe tbody tr th {\n",
       "        vertical-align: top;\n",
       "    }\n",
       "\n",
       "    .dataframe thead th {\n",
       "        text-align: right;\n",
       "    }\n",
       "</style>\n",
       "<table border=\"1\" class=\"dataframe\">\n",
       "  <thead>\n",
       "    <tr style=\"text-align: right;\">\n",
       "      <th></th>\n",
       "      <th>0</th>\n",
       "      <th>1</th>\n",
       "      <th>2</th>\n",
       "      <th>3</th>\n",
       "      <th>4</th>\n",
       "    </tr>\n",
       "  </thead>\n",
       "  <tbody>\n",
       "    <tr>\n",
       "      <th>id</th>\n",
       "      <td>7129300520</td>\n",
       "      <td>6414100192</td>\n",
       "      <td>5631500400</td>\n",
       "      <td>2487200875</td>\n",
       "      <td>1954400510</td>\n",
       "    </tr>\n",
       "    <tr>\n",
       "      <th>date</th>\n",
       "      <td>2014-10-13</td>\n",
       "      <td>2014-12-09</td>\n",
       "      <td>2015-02-25</td>\n",
       "      <td>2014-12-09</td>\n",
       "      <td>2015-02-18</td>\n",
       "    </tr>\n",
       "    <tr>\n",
       "      <th>price</th>\n",
       "      <td>221900</td>\n",
       "      <td>538000</td>\n",
       "      <td>180000</td>\n",
       "      <td>604000</td>\n",
       "      <td>510000</td>\n",
       "    </tr>\n",
       "    <tr>\n",
       "      <th>bedrooms</th>\n",
       "      <td>3</td>\n",
       "      <td>3</td>\n",
       "      <td>2</td>\n",
       "      <td>4</td>\n",
       "      <td>3</td>\n",
       "    </tr>\n",
       "    <tr>\n",
       "      <th>bathrooms</th>\n",
       "      <td>1</td>\n",
       "      <td>2.25</td>\n",
       "      <td>1</td>\n",
       "      <td>3</td>\n",
       "      <td>2</td>\n",
       "    </tr>\n",
       "    <tr>\n",
       "      <th>sqft_living</th>\n",
       "      <td>1180</td>\n",
       "      <td>2570</td>\n",
       "      <td>770</td>\n",
       "      <td>1960</td>\n",
       "      <td>1680</td>\n",
       "    </tr>\n",
       "    <tr>\n",
       "      <th>sqft_lot</th>\n",
       "      <td>5650</td>\n",
       "      <td>7242</td>\n",
       "      <td>10000</td>\n",
       "      <td>5000</td>\n",
       "      <td>8080</td>\n",
       "    </tr>\n",
       "    <tr>\n",
       "      <th>floors</th>\n",
       "      <td>1</td>\n",
       "      <td>2</td>\n",
       "      <td>1</td>\n",
       "      <td>1</td>\n",
       "      <td>1</td>\n",
       "    </tr>\n",
       "    <tr>\n",
       "      <th>waterfront</th>\n",
       "      <td>0</td>\n",
       "      <td>0</td>\n",
       "      <td>0</td>\n",
       "      <td>0</td>\n",
       "      <td>0</td>\n",
       "    </tr>\n",
       "    <tr>\n",
       "      <th>view</th>\n",
       "      <td>0</td>\n",
       "      <td>0</td>\n",
       "      <td>0</td>\n",
       "      <td>0</td>\n",
       "      <td>0</td>\n",
       "    </tr>\n",
       "    <tr>\n",
       "      <th>condition</th>\n",
       "      <td>3</td>\n",
       "      <td>3</td>\n",
       "      <td>3</td>\n",
       "      <td>5</td>\n",
       "      <td>3</td>\n",
       "    </tr>\n",
       "    <tr>\n",
       "      <th>grade</th>\n",
       "      <td>7</td>\n",
       "      <td>7</td>\n",
       "      <td>6</td>\n",
       "      <td>7</td>\n",
       "      <td>8</td>\n",
       "    </tr>\n",
       "    <tr>\n",
       "      <th>sqft_above</th>\n",
       "      <td>1180</td>\n",
       "      <td>2170</td>\n",
       "      <td>770</td>\n",
       "      <td>1050</td>\n",
       "      <td>1680</td>\n",
       "    </tr>\n",
       "    <tr>\n",
       "      <th>sqft_basement</th>\n",
       "      <td>NaN</td>\n",
       "      <td>400</td>\n",
       "      <td>NaN</td>\n",
       "      <td>910</td>\n",
       "      <td>NaN</td>\n",
       "    </tr>\n",
       "    <tr>\n",
       "      <th>yr_built</th>\n",
       "      <td>1955</td>\n",
       "      <td>1951</td>\n",
       "      <td>1933</td>\n",
       "      <td>1965</td>\n",
       "      <td>1987</td>\n",
       "    </tr>\n",
       "    <tr>\n",
       "      <th>yr_renovated</th>\n",
       "      <td>NaN</td>\n",
       "      <td>1991</td>\n",
       "      <td>NaN</td>\n",
       "      <td>NaN</td>\n",
       "      <td>NaN</td>\n",
       "    </tr>\n",
       "    <tr>\n",
       "      <th>zipcode</th>\n",
       "      <td>98178</td>\n",
       "      <td>98125</td>\n",
       "      <td>98028</td>\n",
       "      <td>98136</td>\n",
       "      <td>98074</td>\n",
       "    </tr>\n",
       "    <tr>\n",
       "      <th>lat</th>\n",
       "      <td>47.5112</td>\n",
       "      <td>47.721</td>\n",
       "      <td>47.7379</td>\n",
       "      <td>47.5208</td>\n",
       "      <td>47.6168</td>\n",
       "    </tr>\n",
       "    <tr>\n",
       "      <th>long</th>\n",
       "      <td>-122.257</td>\n",
       "      <td>-122.319</td>\n",
       "      <td>-122.233</td>\n",
       "      <td>-122.393</td>\n",
       "      <td>-122.045</td>\n",
       "    </tr>\n",
       "    <tr>\n",
       "      <th>sqft_living15</th>\n",
       "      <td>1340</td>\n",
       "      <td>1690</td>\n",
       "      <td>2720</td>\n",
       "      <td>1360</td>\n",
       "      <td>1800</td>\n",
       "    </tr>\n",
       "    <tr>\n",
       "      <th>sqft_lot15</th>\n",
       "      <td>5650</td>\n",
       "      <td>7639</td>\n",
       "      <td>8062</td>\n",
       "      <td>5000</td>\n",
       "      <td>7503</td>\n",
       "    </tr>\n",
       "    <tr>\n",
       "      <th>bed_bath_sum</th>\n",
       "      <td>4</td>\n",
       "      <td>5.25</td>\n",
       "      <td>3</td>\n",
       "      <td>7</td>\n",
       "      <td>5</td>\n",
       "    </tr>\n",
       "    <tr>\n",
       "      <th>renovation_yes</th>\n",
       "      <td>0</td>\n",
       "      <td>1</td>\n",
       "      <td>0</td>\n",
       "      <td>0</td>\n",
       "      <td>0</td>\n",
       "    </tr>\n",
       "    <tr>\n",
       "      <th>sqft_living_plus_lot</th>\n",
       "      <td>6830</td>\n",
       "      <td>9812</td>\n",
       "      <td>10770</td>\n",
       "      <td>6960</td>\n",
       "      <td>9760</td>\n",
       "    </tr>\n",
       "    <tr>\n",
       "      <th>sqft_living_plus_lot_15</th>\n",
       "      <td>6990</td>\n",
       "      <td>9329</td>\n",
       "      <td>10782</td>\n",
       "      <td>6360</td>\n",
       "      <td>9303</td>\n",
       "    </tr>\n",
       "    <tr>\n",
       "      <th>lat_long</th>\n",
       "      <td>(47.5112, -122.257)</td>\n",
       "      <td>(47.721, -122.319)</td>\n",
       "      <td>(47.7379, -122.233)</td>\n",
       "      <td>(47.5208, -122.393)</td>\n",
       "      <td>(47.6168, -122.045)</td>\n",
       "    </tr>\n",
       "    <tr>\n",
       "      <th>distance_from_flatiron</th>\n",
       "      <td>7.71487</td>\n",
       "      <td>7.76648</td>\n",
       "      <td>10.1079</td>\n",
       "      <td>6.65534</td>\n",
       "      <td>13.5784</td>\n",
       "    </tr>\n",
       "    <tr>\n",
       "      <th>yr_last_constructed</th>\n",
       "      <td>1955</td>\n",
       "      <td>1991</td>\n",
       "      <td>1933</td>\n",
       "      <td>1965</td>\n",
       "      <td>1987</td>\n",
       "    </tr>\n",
       "    <tr>\n",
       "      <th>log_sqft_above</th>\n",
       "      <td>7.07327</td>\n",
       "      <td>7.68248</td>\n",
       "      <td>6.64639</td>\n",
       "      <td>6.95655</td>\n",
       "      <td>7.42655</td>\n",
       "    </tr>\n",
       "    <tr>\n",
       "      <th>log_sqft_living</th>\n",
       "      <td>7.07327</td>\n",
       "      <td>7.85166</td>\n",
       "      <td>6.64639</td>\n",
       "      <td>7.5807</td>\n",
       "      <td>7.42655</td>\n",
       "    </tr>\n",
       "    <tr>\n",
       "      <th>log_sqft_living15</th>\n",
       "      <td>7.20042</td>\n",
       "      <td>7.43248</td>\n",
       "      <td>7.90839</td>\n",
       "      <td>7.21524</td>\n",
       "      <td>7.49554</td>\n",
       "    </tr>\n",
       "  </tbody>\n",
       "</table>\n",
       "</div>"
      ],
      "text/plain": [
       "                                           0                   1  \\\n",
       "id                                7129300520          6414100192   \n",
       "date                              2014-10-13          2014-12-09   \n",
       "price                                 221900              538000   \n",
       "bedrooms                                   3                   3   \n",
       "bathrooms                                  1                2.25   \n",
       "sqft_living                             1180                2570   \n",
       "sqft_lot                                5650                7242   \n",
       "floors                                     1                   2   \n",
       "waterfront                                 0                   0   \n",
       "view                                       0                   0   \n",
       "condition                                  3                   3   \n",
       "grade                                      7                   7   \n",
       "sqft_above                              1180                2170   \n",
       "sqft_basement                            NaN                 400   \n",
       "yr_built                                1955                1951   \n",
       "yr_renovated                             NaN                1991   \n",
       "zipcode                                98178               98125   \n",
       "lat                                  47.5112              47.721   \n",
       "long                                -122.257            -122.319   \n",
       "sqft_living15                           1340                1690   \n",
       "sqft_lot15                              5650                7639   \n",
       "bed_bath_sum                               4                5.25   \n",
       "renovation_yes                             0                   1   \n",
       "sqft_living_plus_lot                    6830                9812   \n",
       "sqft_living_plus_lot_15                 6990                9329   \n",
       "lat_long                 (47.5112, -122.257)  (47.721, -122.319)   \n",
       "distance_from_flatiron               7.71487             7.76648   \n",
       "yr_last_constructed                     1955                1991   \n",
       "log_sqft_above                       7.07327             7.68248   \n",
       "log_sqft_living                      7.07327             7.85166   \n",
       "log_sqft_living15                    7.20042             7.43248   \n",
       "\n",
       "                                           2                    3  \\\n",
       "id                                5631500400           2487200875   \n",
       "date                              2015-02-25           2014-12-09   \n",
       "price                                 180000               604000   \n",
       "bedrooms                                   2                    4   \n",
       "bathrooms                                  1                    3   \n",
       "sqft_living                              770                 1960   \n",
       "sqft_lot                               10000                 5000   \n",
       "floors                                     1                    1   \n",
       "waterfront                                 0                    0   \n",
       "view                                       0                    0   \n",
       "condition                                  3                    5   \n",
       "grade                                      6                    7   \n",
       "sqft_above                               770                 1050   \n",
       "sqft_basement                            NaN                  910   \n",
       "yr_built                                1933                 1965   \n",
       "yr_renovated                             NaN                  NaN   \n",
       "zipcode                                98028                98136   \n",
       "lat                                  47.7379              47.5208   \n",
       "long                                -122.233             -122.393   \n",
       "sqft_living15                           2720                 1360   \n",
       "sqft_lot15                              8062                 5000   \n",
       "bed_bath_sum                               3                    7   \n",
       "renovation_yes                             0                    0   \n",
       "sqft_living_plus_lot                   10770                 6960   \n",
       "sqft_living_plus_lot_15                10782                 6360   \n",
       "lat_long                 (47.7379, -122.233)  (47.5208, -122.393)   \n",
       "distance_from_flatiron               10.1079              6.65534   \n",
       "yr_last_constructed                     1933                 1965   \n",
       "log_sqft_above                       6.64639              6.95655   \n",
       "log_sqft_living                      6.64639               7.5807   \n",
       "log_sqft_living15                    7.90839              7.21524   \n",
       "\n",
       "                                           4  \n",
       "id                                1954400510  \n",
       "date                              2015-02-18  \n",
       "price                                 510000  \n",
       "bedrooms                                   3  \n",
       "bathrooms                                  2  \n",
       "sqft_living                             1680  \n",
       "sqft_lot                                8080  \n",
       "floors                                     1  \n",
       "waterfront                                 0  \n",
       "view                                       0  \n",
       "condition                                  3  \n",
       "grade                                      8  \n",
       "sqft_above                              1680  \n",
       "sqft_basement                            NaN  \n",
       "yr_built                                1987  \n",
       "yr_renovated                             NaN  \n",
       "zipcode                                98074  \n",
       "lat                                  47.6168  \n",
       "long                                -122.045  \n",
       "sqft_living15                           1800  \n",
       "sqft_lot15                              7503  \n",
       "bed_bath_sum                               5  \n",
       "renovation_yes                             0  \n",
       "sqft_living_plus_lot                    9760  \n",
       "sqft_living_plus_lot_15                 9303  \n",
       "lat_long                 (47.6168, -122.045)  \n",
       "distance_from_flatiron               13.5784  \n",
       "yr_last_constructed                     1987  \n",
       "log_sqft_above                       7.42655  \n",
       "log_sqft_living                      7.42655  \n",
       "log_sqft_living15                    7.49554  "
      ]
     },
     "execution_count": 62,
     "metadata": {},
     "output_type": "execute_result"
    }
   ],
   "source": [
    "df.head().T"
   ]
  },
  {
   "cell_type": "code",
   "execution_count": 63,
   "metadata": {},
   "outputs": [
    {
     "data": {
      "image/png": "[encoded data removed]",
      "text/plain": [
       "<Figure size 864x360 with 2 Axes>"
      ]
     },
     "metadata": {},
     "output_type": "display_data"
    }
   ],
   "source": [
    "df['log_price'] = np.log(df['price'])\n",
    "df[['price', 'log_price']].hist(figsize=(12,5),bins=30);"
   ]
  },
  {
   "cell_type": "code",
   "execution_count": 64,
   "metadata": {},
   "outputs": [],
   "source": [
    "#df.to_csv('house_data_cleaned_for_test5')"
   ]
  },
  {
   "cell_type": "code",
   "execution_count": 65,
   "metadata": {},
   "outputs": [
    {
     "data": {
      "text/plain": [
       "<matplotlib.axes._subplots.AxesSubplot at 0x1c26fecb38>"
      ]
     },
     "execution_count": 65,
     "metadata": {},
     "output_type": "execute_result"
    },
    {
     "data": {
      "image/png": "[encoded data removed]",
      "text/plain": [
       "<Figure size 1080x864 with 2 Axes>"
      ]
     },
     "metadata": {},
     "output_type": "display_data"
    }
   ],
   "source": [
    "T5_df = df[['log_price','log_sqft_living', 'grade', 'log_sqft_above', 'log_sqft_living15', 'bathrooms',\n",
    "    'view','distance_from_flatiron','yr_last_constructed']]\n",
    "\n",
    "sns.set(rc={'figure.figsize': (15,12)})\n",
    "sns.heatmap(T5_df.corr(), annot=True)"
   ]
  },
  {
   "cell_type": "markdown",
   "metadata": {},
   "source": [
    "## NORMALIZATION ASSESSMENT RESULTS:"
   ]
  },
  {
   "cell_type": "markdown",
   "metadata": {},
   "source": [
    "- sqft_living, sqft_living15, and sqft_above benefitted from a log transformation. All 3 variables transformed become closer to a normal distribution\n",
    "- log of price is much more normal than price, so we will want to use this instead. We must be careful to interpret outputs and error metrics correctly hereafter.\n",
    "- **We will opt to use the log transformations of our dependent variable price, and 2 of our independent variables in our next test**\n"
   ]
  },
  {
   "cell_type": "markdown",
   "metadata": {},
   "source": [
    "## Test[5]: Utilizing Log Transformations of Price (Dependent) & 2x Independent Variables (drop 'log_sqft_above')"
   ]
  },
  {
   "cell_type": "code",
   "execution_count": 66,
   "metadata": {},
   "outputs": [],
   "source": [
    "X5 = df[['log_sqft_living', 'grade', 'log_sqft_living15', 'bathrooms',\n",
    "    'view','distance_from_flatiron','yr_last_constructed']]\n",
    "y5 = df[['log_price']]"
   ]
  },
  {
   "cell_type": "code",
   "execution_count": 67,
   "metadata": {},
   "outputs": [
    {
     "data": {
      "text/html": [
       "<table class=\"simpletable\">\n",
       "<caption>OLS Regression Results</caption>\n",
       "<tr>\n",
       "  <th>Dep. Variable:</th>        <td>log_price</td>    <th>  R-squared:         </th> <td>   0.737</td>\n",
       "</tr>\n",
       "<tr>\n",
       "  <th>Model:</th>                   <td>OLS</td>       <th>  Adj. R-squared:    </th> <td>   0.737</td>\n",
       "</tr>\n",
       "<tr>\n",
       "  <th>Method:</th>             <td>Least Squares</td>  <th>  F-statistic:       </th> <td>   8652.</td>\n",
       "</tr>\n",
       "<tr>\n",
       "  <th>Date:</th>             <td>Wed, 17 Apr 2019</td> <th>  Prob (F-statistic):</th>  <td>  0.00</td> \n",
       "</tr>\n",
       "<tr>\n",
       "  <th>Time:</th>                 <td>14:14:05</td>     <th>  Log-Likelihood:    </th> <td> -2360.7</td>\n",
       "</tr>\n",
       "<tr>\n",
       "  <th>No. Observations:</th>      <td> 21597</td>      <th>  AIC:               </th> <td>   4737.</td>\n",
       "</tr>\n",
       "<tr>\n",
       "  <th>Df Residuals:</th>          <td> 21589</td>      <th>  BIC:               </th> <td>   4801.</td>\n",
       "</tr>\n",
       "<tr>\n",
       "  <th>Df Model:</th>              <td>     7</td>      <th>                     </th>     <td> </td>   \n",
       "</tr>\n",
       "<tr>\n",
       "  <th>Covariance Type:</th>      <td>nonrobust</td>    <th>                     </th>     <td> </td>   \n",
       "</tr>\n",
       "</table>\n",
       "<table class=\"simpletable\">\n",
       "<tr>\n",
       "    <td></td>       <th>coef</th>     <th>std err</th>      <th>t</th>      <th>P>|t|</th>  <th>[0.025</th>    <th>0.975]</th>  \n",
       "</tr>\n",
       "<tr>\n",
       "  <th>const</th> <td>   10.8947</td> <td>    0.182</td> <td>   59.907</td> <td> 0.000</td> <td>   10.538</td> <td>   11.251</td>\n",
       "</tr>\n",
       "<tr>\n",
       "  <th>x1</th>    <td>    0.3478</td> <td>    0.009</td> <td>   39.724</td> <td> 0.000</td> <td>    0.331</td> <td>    0.365</td>\n",
       "</tr>\n",
       "<tr>\n",
       "  <th>x2</th>    <td>    0.1566</td> <td>    0.003</td> <td>   58.356</td> <td> 0.000</td> <td>    0.151</td> <td>    0.162</td>\n",
       "</tr>\n",
       "<tr>\n",
       "  <th>x3</th>    <td>    0.2934</td> <td>    0.009</td> <td>   32.502</td> <td> 0.000</td> <td>    0.276</td> <td>    0.311</td>\n",
       "</tr>\n",
       "<tr>\n",
       "  <th>x4</th>    <td>    0.0470</td> <td>    0.004</td> <td>   11.368</td> <td> 0.000</td> <td>    0.039</td> <td>    0.055</td>\n",
       "</tr>\n",
       "<tr>\n",
       "  <th>x5</th>    <td>    0.0672</td> <td>    0.003</td> <td>   26.410</td> <td> 0.000</td> <td>    0.062</td> <td>    0.072</td>\n",
       "</tr>\n",
       "<tr>\n",
       "  <th>x6</th>    <td>   -0.0295</td> <td>    0.000</td> <td>  -95.279</td> <td> 0.000</td> <td>   -0.030</td> <td>   -0.029</td>\n",
       "</tr>\n",
       "<tr>\n",
       "  <th>x7</th>    <td>   -0.0019</td> <td> 8.58e-05</td> <td>  -21.602</td> <td> 0.000</td> <td>   -0.002</td> <td>   -0.002</td>\n",
       "</tr>\n",
       "</table>\n",
       "<table class=\"simpletable\">\n",
       "<tr>\n",
       "  <th>Omnibus:</th>       <td>252.118</td> <th>  Durbin-Watson:     </th> <td>   1.995</td>\n",
       "</tr>\n",
       "<tr>\n",
       "  <th>Prob(Omnibus):</th> <td> 0.000</td>  <th>  Jarque-Bera (JB):  </th> <td> 438.843</td>\n",
       "</tr>\n",
       "<tr>\n",
       "  <th>Skew:</th>          <td>-0.044</td>  <th>  Prob(JB):          </th> <td>5.09e-96</td>\n",
       "</tr>\n",
       "<tr>\n",
       "  <th>Kurtosis:</th>      <td> 3.693</td>  <th>  Cond. No.          </th> <td>1.95e+05</td>\n",
       "</tr>\n",
       "</table><br/><br/>Warnings:<br/>[1] Standard Errors assume that the covariance matrix of the errors is correctly specified.<br/>[2] The condition number is large, 1.95e+05. This might indicate that there are<br/>strong multicollinearity or other numerical problems."
      ],
      "text/plain": [
       "<class 'statsmodels.iolib.summary.Summary'>\n",
       "\"\"\"\n",
       "                            OLS Regression Results                            \n",
       "==============================================================================\n",
       "Dep. Variable:              log_price   R-squared:                       0.737\n",
       "Model:                            OLS   Adj. R-squared:                  0.737\n",
       "Method:                 Least Squares   F-statistic:                     8652.\n",
       "Date:                Wed, 17 Apr 2019   Prob (F-statistic):               0.00\n",
       "Time:                        14:14:05   Log-Likelihood:                -2360.7\n",
       "No. Observations:               21597   AIC:                             4737.\n",
       "Df Residuals:                   21589   BIC:                             4801.\n",
       "Df Model:                           7                                         \n",
       "Covariance Type:            nonrobust                                         \n",
       "==============================================================================\n",
       "                 coef    std err          t      P>|t|      [0.025      0.975]\n",
       "------------------------------------------------------------------------------\n",
       "const         10.8947      0.182     59.907      0.000      10.538      11.251\n",
       "x1             0.3478      0.009     39.724      0.000       0.331       0.365\n",
       "x2             0.1566      0.003     58.356      0.000       0.151       0.162\n",
       "x3             0.2934      0.009     32.502      0.000       0.276       0.311\n",
       "x4             0.0470      0.004     11.368      0.000       0.039       0.055\n",
       "x5             0.0672      0.003     26.410      0.000       0.062       0.072\n",
       "x6            -0.0295      0.000    -95.279      0.000      -0.030      -0.029\n",
       "x7            -0.0019   8.58e-05    -21.602      0.000      -0.002      -0.002\n",
       "==============================================================================\n",
       "Omnibus:                      252.118   Durbin-Watson:                   1.995\n",
       "Prob(Omnibus):                  0.000   Jarque-Bera (JB):              438.843\n",
       "Skew:                          -0.044   Prob(JB):                     5.09e-96\n",
       "Kurtosis:                       3.693   Cond. No.                     1.95e+05\n",
       "==============================================================================\n",
       "\n",
       "Warnings:\n",
       "[1] Standard Errors assume that the covariance matrix of the errors is correctly specified.\n",
       "[2] The condition number is large, 1.95e+05. This might indicate that there are\n",
       "strong multicollinearity or other numerical problems.\n",
       "\"\"\""
      ]
     },
     "execution_count": 67,
     "metadata": {},
     "output_type": "execute_result"
    }
   ],
   "source": [
    "predictors = np.asarray(X5) #set predictors as numpy array of capital X\n",
    "predictors_int = sm.add_constant(predictors) #.add_constant\n",
    "model5 = sm.OLS(y5,predictors_int).fit() #statsmodels.OrdinaryLeastSquares (dependent var, array of predictors).fit()\n",
    "model5.summary()"
   ]
  },
  {
   "cell_type": "code",
   "execution_count": 68,
   "metadata": {},
   "outputs": [
    {
     "name": "stderr",
     "output_type": "stream",
     "text": [
      "/Users/krex/anaconda3/lib/python3.7/site-packages/sklearn/preprocessing/data.py:625: DataConversionWarning: Data with input dtype int64, float64 were all converted to float64 by StandardScaler.\n",
      "  return self.partial_fit(X, y)\n",
      "/Users/krex/anaconda3/lib/python3.7/site-packages/sklearn/base.py:462: DataConversionWarning: Data with input dtype int64, float64 were all converted to float64 by StandardScaler.\n",
      "  return self.fit(X, **fit_params).transform(X)\n"
     ]
    }
   ],
   "source": [
    "\"\"\" Now using Sklearn\"\"\"\n",
    "ss = StandardScaler()\n",
    "\n",
    "X5_scaled = ss.fit_transform(X5)"
   ]
  },
  {
   "cell_type": "code",
   "execution_count": 69,
   "metadata": {},
   "outputs": [],
   "source": [
    "np.random.seed(100)\n",
    "\n",
    "X5_train,X5_test,y5_train,y5_test = train_test_split(X5_scaled,y5)"
   ]
  },
  {
   "cell_type": "code",
   "execution_count": 70,
   "metadata": {},
   "outputs": [
    {
     "data": {
      "text/plain": [
       "array([[ 0.14927815,  0.1826096 ,  0.0956417 ,  0.03689033,  0.0504527 ,\n",
       "        -0.19715425, -0.05375863]])"
      ]
     },
     "execution_count": 70,
     "metadata": {},
     "output_type": "execute_result"
    }
   ],
   "source": [
    "lr.fit(X5_train,y5_train)\n",
    "lr.score(X5_test,y5_test) #r**2 value\n",
    "lr.coef_"
   ]
  },
  {
   "cell_type": "code",
   "execution_count": 71,
   "metadata": {},
   "outputs": [],
   "source": [
    "r_2 = metrics.r2_score(y5_test, lr.predict(X5_test))\n",
    "mae = metrics.mean_absolute_error(np.exp(y5_test), np.exp(lr.predict(X5_test)))\n",
    "mse = metrics.mean_squared_error(np.exp(y5_test), np.exp(lr.predict(X5_test)))"
   ]
  },
  {
   "cell_type": "code",
   "execution_count": 72,
   "metadata": {},
   "outputs": [
    {
     "name": "stdout",
     "output_type": "stream",
     "text": [
      "Our list of predictors: Index(['log_sqft_living', 'grade', 'log_sqft_living15', 'bathrooms', 'view',\n",
      "       'distance_from_flatiron', 'yr_last_constructed'],\n",
      "      dtype='object')\n",
      "The R-squared score of our test is 0.7375268750989286\n",
      "The MAE score of our test is 112351.1861608212\n",
      "The MSE score of our test is 37083259230.047775\n",
      "The RMSE score of our test is $192570.1410656589\n"
     ]
    }
   ],
   "source": [
    "#LOG of PRICE vs. Top 7 with 3 logs #test size is .25\n",
    "print(f'Our list of predictors: {X5.columns}')\n",
    "print(f\"The R-squared score of our test is {r_2}\")\n",
    "print(f\"The MAE score of our test is {mae}\")\n",
    "print(f\"The MSE score of our test is {mse}\")\n",
    "print(f\"The RMSE score of our test is ${sqrt(mse)}\")"
   ]
  },
  {
   "cell_type": "markdown",
   "metadata": {},
   "source": [
    "- just dropped log_sqft_above, and R-squared improved a bit from where we where at when it was included."
   ]
  },
  {
   "cell_type": "markdown",
   "metadata": {},
   "source": [
    "#### cross_val_score shortcut K-Folds method does not easily allow us to reverse transform our model quality metrics for interpretability"
   ]
  },
  {
   "cell_type": "code",
   "execution_count": 73,
   "metadata": {},
   "outputs": [],
   "source": [
    "def kfolds(data, k):\n",
    "    #Force data as pandas dataframe\n",
    "    data = pd.DataFrame(data)\n",
    "    num_observations = len(data)\n",
    "    fold_size = num_observations//k\n",
    "    leftovers = num_observations%k\n",
    "    folds = []\n",
    "    start_obs = 0\n",
    "    for fold_n in range(1,k+1):\n",
    "        if fold_n <= leftovers:\n",
    "            #Fold Size will be 1 larger to account for leftovers\n",
    "            fold =  data.iloc[start_obs : start_obs+fold_size+1] \n",
    "            folds.append(fold)\n",
    "            start_obs +=  fold_size + 1\n",
    "        else:\n",
    "            fold =  data.iloc[start_obs : start_obs+fold_size] \n",
    "            folds.append(fold)\n",
    "            start_obs +=  fold_size\n",
    "            \n",
    "    return folds \n"
   ]
  },
  {
   "cell_type": "code",
   "execution_count": 74,
   "metadata": {},
   "outputs": [],
   "source": [
    "T5_df_folds = kfolds(T5_df, 10)"
   ]
  },
  {
   "cell_type": "code",
   "execution_count": 75,
   "metadata": {},
   "outputs": [
    {
     "name": "stdout",
     "output_type": "stream",
     "text": [
      " Our average training MAE when k=10 is:111443.21069759186\n",
      " Our average training MSE when k=10 is:33483480747.22631\n",
      " Our average training RMSE when k=10 is:182984.9194530148\n"
     ]
    }
   ],
   "source": [
    "\n",
    "MSE_test_errs = []\n",
    "MSE_train_errs = []\n",
    "MAE_test_errs = []\n",
    "MAE_train_errs = []\n",
    "k=10\n",
    "\n",
    "for n in range(k):\n",
    "    # Split in train and test for the fold\n",
    "    train = pd.concat([fold for i, fold in enumerate(T5_df_folds) if i!=n])\n",
    "    test = T5_df_folds[n]\n",
    "    # Fit a linear regression model\n",
    "    lr.fit(train[X5.columns], train[y5.columns])\n",
    "    #Evaluate Train and Test Errors\n",
    "    y_hat_train = lr.predict(train[X5.columns])\n",
    "    y_hat_test = lr.predict(test[X5.columns])\n",
    "    train_residuals = np.exp(y_hat_train) - np.exp(train[y5.columns])\n",
    "    test_residuals = np.exp(y_hat_test) - np.exp(test[y5.columns])\n",
    "    MSE_train_errs.append(np.mean(train_residuals.astype(float)**2))\n",
    "    MSE_test_errs.append(np.mean(test_residuals.astype(float)**2))\n",
    "    MAE_train_errs.append(np.mean(abs(train_residuals.astype(float))))\n",
    "    MAE_test_errs.append(np.mean(abs(test_residuals.astype(float))))\n",
    "print(f\" Our average training MAE when k={k} is:{np.mean(MAE_train_errs)}\")\n",
    "#print(f\" Our average test MAE when k={k} is:{np.mean(MAE_test_errs)}\")\n",
    "print(f\" Our average training MSE when k={k} is:{np.mean(MSE_train_errs)}\")\n",
    "#print(f\" Our average test MSE when k={k} is:{np.mean(MSE_test_errs)}\")\n",
    "print(f\" Our average training RMSE when k={k} is:{sqrt(np.mean(MSE_train_errs))}\")\n",
    "#print(f\" Our average test RMSE when k={k} is:{sqrt(np.mean(MSE_test_errs))}\")"
   ]
  },
  {
   "cell_type": "code",
   "execution_count": 76,
   "metadata": {},
   "outputs": [],
   "source": [
    "\n",
    "def k_folds_error_summary(df,k):\n",
    "    X = df.drop(['log_price'], axis=1)\n",
    "    y = df[['log_price']]\n",
    "    k_folds_df = kfolds(df, k)\n",
    "    MSE_test_errs = []\n",
    "    MSE_train_errs = []\n",
    "    MAE_test_errs = []\n",
    "    MAE_train_errs = []\n",
    "    k=k\n",
    "\n",
    "    for n in range(k):\n",
    "        # Split in train and test for the fold\n",
    "        train = pd.concat([fold for i, fold in enumerate(k_folds_df) if i!=n])\n",
    "        test = k_folds_df[n]\n",
    "        # Fit a linear regression model\n",
    "        lr.fit(train[X.columns], train[y.columns])\n",
    "        #Evaluate Train and Test Errors\n",
    "        y_hat_train = lr.predict(train[X.columns])\n",
    "        y_hat_test = lr.predict(test[X.columns])\n",
    "        train_residuals = np.exp(y_hat_train) - np.exp(train[y.columns])\n",
    "        test_residuals = np.exp(y_hat_test) - np.exp(test[y.columns])\n",
    "        MSE_train_errs.append(np.mean(train_residuals.astype(float)**2))\n",
    "        MSE_test_errs.append(np.mean(test_residuals.astype(float)**2))\n",
    "        MAE_train_errs.append(np.mean(abs(train_residuals.astype(float))))\n",
    "        MAE_test_errs.append(np.mean(abs(test_residuals.astype(float))))\n",
    "    print(f\" Our average training MAE when k={k} is:{np.mean(MAE_train_errs)}\")\n",
    "    #print(f\" Our average test MAE when k={k} is:{np.mean(MAE_test_errs)}\")\n",
    "    print(f\" Our average training MSE when k={k} is:{np.mean(MSE_train_errs)}\")\n",
    "    #print(f\" Our average test MSE when k={k} is:{np.mean(MSE_test_errs)}\")\n",
    "    print(f\" Our average training RMSE when k={k} is:{sqrt(np.mean(MSE_train_errs))}\")\n",
    "    #print(f\" Our average test RMSE when k={k} is:{sqrt(np.mean(MSE_test_errs))}\")"
   ]
  },
  {
   "cell_type": "code",
   "execution_count": 77,
   "metadata": {},
   "outputs": [
    {
     "name": "stdout",
     "output_type": "stream",
     "text": [
      " Our average training MAE when k=10 is:110802.04527719835\n",
      " Our average training MSE when k=10 is:32854805724.602955\n",
      " Our average training RMSE when k=10 is:181258.94660568607\n"
     ]
    }
   ],
   "source": [
    "\n",
    "k_folds_error_summary(T5_df,10)"
   ]
  },
  {
   "cell_type": "markdown",
   "metadata": {},
   "source": []
  },
  {
   "cell_type": "markdown",
   "metadata": {},
   "source": [
    "### Cleaning Up Regression Summary inputs/outputs into Functions"
   ]
  },
  {
   "cell_type": "code",
   "execution_count": 78,
   "metadata": {},
   "outputs": [],
   "source": [
    "def sklearn_lin_regress_summary(df):\n",
    "    X = df.drop(['log_price'], axis=1)\n",
    "    y = df.log_price\n",
    "    ss = StandardScaler()\n",
    "    X_scaled = ss.fit_transform(X)\n",
    "    np.random.seed(100)\n",
    "    X_train,X_test,y_train,y_test = train_test_split(X_scaled,y)\n",
    "    lr = LinearRegression()\n",
    "    lr.fit(X_train,y_train) #fit model\n",
    "    coeff_array = lr.coef_\n",
    "    r_2 = metrics.r2_score(y_test, lr.predict(X_test))\n",
    "    mae = metrics.mean_absolute_error(np.exp(y_test), np.exp(lr.predict(X_test)))\n",
    "    mse = metrics.mean_squared_error(np.exp(y_test), np.exp(lr.predict(X_test)))\n",
    "    #print(f'Our list of predictors: {X.columns}')\n",
    "    print(\"Results of Sklearn's Train-Test-Split below:\")\n",
    "    print(f\"Array of coefficients: {coeff_array}\")\n",
    "    print(f\"R-squared:{r_2}\")\n",
    "    print(f\"Mean Absolute Error (MAE): {mae}\")\n",
    "    print(f\"Mean Squared Error (MSE): {mse}\")\n",
    "    print(f\"Root Mean Squared Error (RMSE): ${sqrt(mse)}\")"
   ]
  },
  {
   "cell_type": "code",
   "execution_count": 79,
   "metadata": {},
   "outputs": [],
   "source": [
    "def statsmodels_lin_regress_summary(df):\n",
    "    X = df.drop(['log_price'], axis=1)\n",
    "    y = df.log_price\n",
    "    predictors = np.asarray(X) #set predictors as numpy array of capital X\n",
    "    predictors_int = sm.add_constant(predictors) #.add_constant\n",
    "    model = sm.OLS(y,predictors_int).fit() #statsmodels.OrdinaryLeastSquares (dependent var, array of predictors).fit()\n",
    "    print(model.summary())"
   ]
  },
  {
   "cell_type": "markdown",
   "metadata": {},
   "source": [
    "## Test[6]: pd.get_dummies on 'zipcode' to capture zipcode categories as predictor variables, & add to model from Test[5]"
   ]
  },
  {
   "cell_type": "code",
   "execution_count": 80,
   "metadata": {},
   "outputs": [
    {
     "data": {
      "text/html": [
       "<div>\n",
       "<style scoped>\n",
       "    .dataframe tbody tr th:only-of-type {\n",
       "        vertical-align: middle;\n",
       "    }\n",
       "\n",
       "    .dataframe tbody tr th {\n",
       "        vertical-align: top;\n",
       "    }\n",
       "\n",
       "    .dataframe thead th {\n",
       "        text-align: right;\n",
       "    }\n",
       "</style>\n",
       "<table border=\"1\" class=\"dataframe\">\n",
       "  <thead>\n",
       "    <tr style=\"text-align: right;\">\n",
       "      <th></th>\n",
       "      <th>id</th>\n",
       "      <th>date</th>\n",
       "      <th>price</th>\n",
       "      <th>bedrooms</th>\n",
       "      <th>bathrooms</th>\n",
       "      <th>sqft_living</th>\n",
       "      <th>sqft_lot</th>\n",
       "      <th>floors</th>\n",
       "      <th>waterfront</th>\n",
       "      <th>view</th>\n",
       "      <th>...</th>\n",
       "      <th>renovation_yes</th>\n",
       "      <th>sqft_living_plus_lot</th>\n",
       "      <th>sqft_living_plus_lot_15</th>\n",
       "      <th>lat_long</th>\n",
       "      <th>distance_from_flatiron</th>\n",
       "      <th>yr_last_constructed</th>\n",
       "      <th>log_sqft_above</th>\n",
       "      <th>log_sqft_living</th>\n",
       "      <th>log_sqft_living15</th>\n",
       "      <th>log_price</th>\n",
       "    </tr>\n",
       "  </thead>\n",
       "  <tbody>\n",
       "    <tr>\n",
       "      <th>0</th>\n",
       "      <td>7129300520</td>\n",
       "      <td>2014-10-13</td>\n",
       "      <td>221900.0</td>\n",
       "      <td>3</td>\n",
       "      <td>1.00</td>\n",
       "      <td>1180</td>\n",
       "      <td>5650</td>\n",
       "      <td>1.0</td>\n",
       "      <td>0.0</td>\n",
       "      <td>0.0</td>\n",
       "      <td>...</td>\n",
       "      <td>0</td>\n",
       "      <td>6830</td>\n",
       "      <td>6990</td>\n",
       "      <td>(47.5112, -122.257)</td>\n",
       "      <td>7.714868</td>\n",
       "      <td>1955.0</td>\n",
       "      <td>7.073270</td>\n",
       "      <td>7.073270</td>\n",
       "      <td>7.200425</td>\n",
       "      <td>12.309982</td>\n",
       "    </tr>\n",
       "    <tr>\n",
       "      <th>1</th>\n",
       "      <td>6414100192</td>\n",
       "      <td>2014-12-09</td>\n",
       "      <td>538000.0</td>\n",
       "      <td>3</td>\n",
       "      <td>2.25</td>\n",
       "      <td>2570</td>\n",
       "      <td>7242</td>\n",
       "      <td>2.0</td>\n",
       "      <td>0.0</td>\n",
       "      <td>0.0</td>\n",
       "      <td>...</td>\n",
       "      <td>1</td>\n",
       "      <td>9812</td>\n",
       "      <td>9329</td>\n",
       "      <td>(47.721, -122.319)</td>\n",
       "      <td>7.766476</td>\n",
       "      <td>1991.0</td>\n",
       "      <td>7.682482</td>\n",
       "      <td>7.851661</td>\n",
       "      <td>7.432484</td>\n",
       "      <td>13.195614</td>\n",
       "    </tr>\n",
       "    <tr>\n",
       "      <th>2</th>\n",
       "      <td>5631500400</td>\n",
       "      <td>2015-02-25</td>\n",
       "      <td>180000.0</td>\n",
       "      <td>2</td>\n",
       "      <td>1.00</td>\n",
       "      <td>770</td>\n",
       "      <td>10000</td>\n",
       "      <td>1.0</td>\n",
       "      <td>0.0</td>\n",
       "      <td>0.0</td>\n",
       "      <td>...</td>\n",
       "      <td>0</td>\n",
       "      <td>10770</td>\n",
       "      <td>10782</td>\n",
       "      <td>(47.7379, -122.233)</td>\n",
       "      <td>10.107949</td>\n",
       "      <td>1933.0</td>\n",
       "      <td>6.646391</td>\n",
       "      <td>6.646391</td>\n",
       "      <td>7.908387</td>\n",
       "      <td>12.100712</td>\n",
       "    </tr>\n",
       "    <tr>\n",
       "      <th>3</th>\n",
       "      <td>2487200875</td>\n",
       "      <td>2014-12-09</td>\n",
       "      <td>604000.0</td>\n",
       "      <td>4</td>\n",
       "      <td>3.00</td>\n",
       "      <td>1960</td>\n",
       "      <td>5000</td>\n",
       "      <td>1.0</td>\n",
       "      <td>0.0</td>\n",
       "      <td>0.0</td>\n",
       "      <td>...</td>\n",
       "      <td>0</td>\n",
       "      <td>6960</td>\n",
       "      <td>6360</td>\n",
       "      <td>(47.5208, -122.393)</td>\n",
       "      <td>6.655340</td>\n",
       "      <td>1965.0</td>\n",
       "      <td>6.956545</td>\n",
       "      <td>7.580700</td>\n",
       "      <td>7.215240</td>\n",
       "      <td>13.311329</td>\n",
       "    </tr>\n",
       "    <tr>\n",
       "      <th>4</th>\n",
       "      <td>1954400510</td>\n",
       "      <td>2015-02-18</td>\n",
       "      <td>510000.0</td>\n",
       "      <td>3</td>\n",
       "      <td>2.00</td>\n",
       "      <td>1680</td>\n",
       "      <td>8080</td>\n",
       "      <td>1.0</td>\n",
       "      <td>0.0</td>\n",
       "      <td>0.0</td>\n",
       "      <td>...</td>\n",
       "      <td>0</td>\n",
       "      <td>9760</td>\n",
       "      <td>9303</td>\n",
       "      <td>(47.6168, -122.045)</td>\n",
       "      <td>13.578402</td>\n",
       "      <td>1987.0</td>\n",
       "      <td>7.426549</td>\n",
       "      <td>7.426549</td>\n",
       "      <td>7.495542</td>\n",
       "      <td>13.142166</td>\n",
       "    </tr>\n",
       "  </tbody>\n",
       "</table>\n",
       "<p>5 rows × 32 columns</p>\n",
       "</div>"
      ],
      "text/plain": [
       "           id        date     price  bedrooms  bathrooms  sqft_living  \\\n",
       "0  7129300520  2014-10-13  221900.0         3       1.00         1180   \n",
       "1  6414100192  2014-12-09  538000.0         3       2.25         2570   \n",
       "2  5631500400  2015-02-25  180000.0         2       1.00          770   \n",
       "3  2487200875  2014-12-09  604000.0         4       3.00         1960   \n",
       "4  1954400510  2015-02-18  510000.0         3       2.00         1680   \n",
       "\n",
       "   sqft_lot  floors  waterfront  view    ...      renovation_yes  \\\n",
       "0      5650     1.0         0.0   0.0    ...                   0   \n",
       "1      7242     2.0         0.0   0.0    ...                   1   \n",
       "2     10000     1.0         0.0   0.0    ...                   0   \n",
       "3      5000     1.0         0.0   0.0    ...                   0   \n",
       "4      8080     1.0         0.0   0.0    ...                   0   \n",
       "\n",
       "   sqft_living_plus_lot  sqft_living_plus_lot_15             lat_long  \\\n",
       "0                  6830                     6990  (47.5112, -122.257)   \n",
       "1                  9812                     9329   (47.721, -122.319)   \n",
       "2                 10770                    10782  (47.7379, -122.233)   \n",
       "3                  6960                     6360  (47.5208, -122.393)   \n",
       "4                  9760                     9303  (47.6168, -122.045)   \n",
       "\n",
       "   distance_from_flatiron  yr_last_constructed  log_sqft_above  \\\n",
       "0                7.714868               1955.0        7.073270   \n",
       "1                7.766476               1991.0        7.682482   \n",
       "2               10.107949               1933.0        6.646391   \n",
       "3                6.655340               1965.0        6.956545   \n",
       "4               13.578402               1987.0        7.426549   \n",
       "\n",
       "   log_sqft_living  log_sqft_living15  log_price  \n",
       "0         7.073270           7.200425  12.309982  \n",
       "1         7.851661           7.432484  13.195614  \n",
       "2         6.646391           7.908387  12.100712  \n",
       "3         7.580700           7.215240  13.311329  \n",
       "4         7.426549           7.495542  13.142166  \n",
       "\n",
       "[5 rows x 32 columns]"
      ]
     },
     "execution_count": 80,
     "metadata": {},
     "output_type": "execute_result"
    }
   ],
   "source": [
    "df.head()"
   ]
  },
  {
   "cell_type": "code",
   "execution_count": null,
   "metadata": {},
   "outputs": [],
   "source": [
    "X5 = df[['log_sqft_living', 'grade', 'log_sqft_living15', 'bathrooms',\n",
    "    'view','distance_from_flatiron','yr_last_constructed']]\n",
    "y5 = df[['log_price']]"
   ]
  },
  {
   "cell_type": "code",
   "execution_count": 81,
   "metadata": {},
   "outputs": [],
   "source": [
    "df6 = df[['log_price','log_sqft_living', 'grade', 'log_sqft_living15', 'bathrooms',\n",
    "   'view','distance_from_flatiron','yr_last_constructed']]"
   ]
  },
  {
   "cell_type": "code",
   "execution_count": 82,
   "metadata": {},
   "outputs": [
    {
     "data": {
      "text/html": [
       "<div>\n",
       "<style scoped>\n",
       "    .dataframe tbody tr th:only-of-type {\n",
       "        vertical-align: middle;\n",
       "    }\n",
       "\n",
       "    .dataframe tbody tr th {\n",
       "        vertical-align: top;\n",
       "    }\n",
       "\n",
       "    .dataframe thead th {\n",
       "        text-align: right;\n",
       "    }\n",
       "</style>\n",
       "<table border=\"1\" class=\"dataframe\">\n",
       "  <thead>\n",
       "    <tr style=\"text-align: right;\">\n",
       "      <th></th>\n",
       "      <th>log_price</th>\n",
       "      <th>log_sqft_living</th>\n",
       "      <th>grade</th>\n",
       "      <th>log_sqft_living15</th>\n",
       "      <th>bathrooms</th>\n",
       "      <th>view</th>\n",
       "      <th>distance_from_flatiron</th>\n",
       "      <th>yr_last_constructed</th>\n",
       "      <th>98001</th>\n",
       "      <th>98002</th>\n",
       "      <th>...</th>\n",
       "      <th>98146</th>\n",
       "      <th>98148</th>\n",
       "      <th>98155</th>\n",
       "      <th>98166</th>\n",
       "      <th>98168</th>\n",
       "      <th>98177</th>\n",
       "      <th>98178</th>\n",
       "      <th>98188</th>\n",
       "      <th>98198</th>\n",
       "      <th>98199</th>\n",
       "    </tr>\n",
       "  </thead>\n",
       "  <tbody>\n",
       "    <tr>\n",
       "      <th>0</th>\n",
       "      <td>12.309982</td>\n",
       "      <td>7.073270</td>\n",
       "      <td>7</td>\n",
       "      <td>7.200425</td>\n",
       "      <td>1.00</td>\n",
       "      <td>0.0</td>\n",
       "      <td>7.714868</td>\n",
       "      <td>1955.0</td>\n",
       "      <td>0</td>\n",
       "      <td>0</td>\n",
       "      <td>...</td>\n",
       "      <td>0</td>\n",
       "      <td>0</td>\n",
       "      <td>0</td>\n",
       "      <td>0</td>\n",
       "      <td>0</td>\n",
       "      <td>0</td>\n",
       "      <td>1</td>\n",
       "      <td>0</td>\n",
       "      <td>0</td>\n",
       "      <td>0</td>\n",
       "    </tr>\n",
       "    <tr>\n",
       "      <th>1</th>\n",
       "      <td>13.195614</td>\n",
       "      <td>7.851661</td>\n",
       "      <td>7</td>\n",
       "      <td>7.432484</td>\n",
       "      <td>2.25</td>\n",
       "      <td>0.0</td>\n",
       "      <td>7.766476</td>\n",
       "      <td>1991.0</td>\n",
       "      <td>0</td>\n",
       "      <td>0</td>\n",
       "      <td>...</td>\n",
       "      <td>0</td>\n",
       "      <td>0</td>\n",
       "      <td>0</td>\n",
       "      <td>0</td>\n",
       "      <td>0</td>\n",
       "      <td>0</td>\n",
       "      <td>0</td>\n",
       "      <td>0</td>\n",
       "      <td>0</td>\n",
       "      <td>0</td>\n",
       "    </tr>\n",
       "    <tr>\n",
       "      <th>2</th>\n",
       "      <td>12.100712</td>\n",
       "      <td>6.646391</td>\n",
       "      <td>6</td>\n",
       "      <td>7.908387</td>\n",
       "      <td>1.00</td>\n",
       "      <td>0.0</td>\n",
       "      <td>10.107949</td>\n",
       "      <td>1933.0</td>\n",
       "      <td>0</td>\n",
       "      <td>0</td>\n",
       "      <td>...</td>\n",
       "      <td>0</td>\n",
       "      <td>0</td>\n",
       "      <td>0</td>\n",
       "      <td>0</td>\n",
       "      <td>0</td>\n",
       "      <td>0</td>\n",
       "      <td>0</td>\n",
       "      <td>0</td>\n",
       "      <td>0</td>\n",
       "      <td>0</td>\n",
       "    </tr>\n",
       "    <tr>\n",
       "      <th>3</th>\n",
       "      <td>13.311329</td>\n",
       "      <td>7.580700</td>\n",
       "      <td>7</td>\n",
       "      <td>7.215240</td>\n",
       "      <td>3.00</td>\n",
       "      <td>0.0</td>\n",
       "      <td>6.655340</td>\n",
       "      <td>1965.0</td>\n",
       "      <td>0</td>\n",
       "      <td>0</td>\n",
       "      <td>...</td>\n",
       "      <td>0</td>\n",
       "      <td>0</td>\n",
       "      <td>0</td>\n",
       "      <td>0</td>\n",
       "      <td>0</td>\n",
       "      <td>0</td>\n",
       "      <td>0</td>\n",
       "      <td>0</td>\n",
       "      <td>0</td>\n",
       "      <td>0</td>\n",
       "    </tr>\n",
       "    <tr>\n",
       "      <th>4</th>\n",
       "      <td>13.142166</td>\n",
       "      <td>7.426549</td>\n",
       "      <td>8</td>\n",
       "      <td>7.495542</td>\n",
       "      <td>2.00</td>\n",
       "      <td>0.0</td>\n",
       "      <td>13.578402</td>\n",
       "      <td>1987.0</td>\n",
       "      <td>0</td>\n",
       "      <td>0</td>\n",
       "      <td>...</td>\n",
       "      <td>0</td>\n",
       "      <td>0</td>\n",
       "      <td>0</td>\n",
       "      <td>0</td>\n",
       "      <td>0</td>\n",
       "      <td>0</td>\n",
       "      <td>0</td>\n",
       "      <td>0</td>\n",
       "      <td>0</td>\n",
       "      <td>0</td>\n",
       "    </tr>\n",
       "  </tbody>\n",
       "</table>\n",
       "<p>5 rows × 78 columns</p>\n",
       "</div>"
      ],
      "text/plain": [
       "   log_price  log_sqft_living  grade  log_sqft_living15  bathrooms  view  \\\n",
       "0  12.309982         7.073270      7           7.200425       1.00   0.0   \n",
       "1  13.195614         7.851661      7           7.432484       2.25   0.0   \n",
       "2  12.100712         6.646391      6           7.908387       1.00   0.0   \n",
       "3  13.311329         7.580700      7           7.215240       3.00   0.0   \n",
       "4  13.142166         7.426549      8           7.495542       2.00   0.0   \n",
       "\n",
       "   distance_from_flatiron  yr_last_constructed  98001  98002  ...    98146  \\\n",
       "0                7.714868               1955.0      0      0  ...        0   \n",
       "1                7.766476               1991.0      0      0  ...        0   \n",
       "2               10.107949               1933.0      0      0  ...        0   \n",
       "3                6.655340               1965.0      0      0  ...        0   \n",
       "4               13.578402               1987.0      0      0  ...        0   \n",
       "\n",
       "   98148  98155  98166  98168  98177  98178  98188  98198  98199  \n",
       "0      0      0      0      0      0      1      0      0      0  \n",
       "1      0      0      0      0      0      0      0      0      0  \n",
       "2      0      0      0      0      0      0      0      0      0  \n",
       "3      0      0      0      0      0      0      0      0      0  \n",
       "4      0      0      0      0      0      0      0      0      0  \n",
       "\n",
       "[5 rows x 78 columns]"
      ]
     },
     "execution_count": 82,
     "metadata": {},
     "output_type": "execute_result"
    }
   ],
   "source": [
    "df_zip_dums = pd.get_dummies(df['zipcode'])\n",
    "df6_zips = pd.concat([df6, df_zip_dums], axis=1)\n",
    "df6_zips.head()"
   ]
  },
  {
   "cell_type": "code",
   "execution_count": 83,
   "metadata": {},
   "outputs": [],
   "source": [
    "#df6_zips.to_csv('house_data_cleaned_for_test6.csv')"
   ]
  },
  {
   "cell_type": "code",
   "execution_count": 84,
   "metadata": {},
   "outputs": [
    {
     "name": "stdout",
     "output_type": "stream",
     "text": [
      "                            OLS Regression Results                            \n",
      "==============================================================================\n",
      "Dep. Variable:              log_price   R-squared:                       0.868\n",
      "Model:                            OLS   Adj. R-squared:                  0.868\n",
      "Method:                 Least Squares   F-statistic:                     1867.\n",
      "Date:                Wed, 17 Apr 2019   Prob (F-statistic):               0.00\n",
      "Time:                        14:14:07   Log-Likelihood:                 5099.6\n",
      "No. Observations:               21597   AIC:                        -1.005e+04\n",
      "Df Residuals:                   21520   BIC:                            -9431.\n",
      "Df Model:                          76                                         \n",
      "Covariance Type:            nonrobust                                         \n",
      "==============================================================================\n",
      "                 coef    std err          t      P>|t|      [0.025      0.975]\n",
      "------------------------------------------------------------------------------\n",
      "const         10.2566      0.138     74.558      0.000       9.987      10.526\n",
      "x1             0.4040      0.006     64.304      0.000       0.392       0.416\n",
      "x2             0.1055      0.002     53.029      0.000       0.102       0.109\n",
      "x3             0.1625      0.007     23.483      0.000       0.149       0.176\n",
      "x4             0.0274      0.003      9.188      0.000       0.022       0.033\n",
      "x5             0.0851      0.002     44.951      0.000       0.081       0.089\n",
      "x6            -0.0168      0.001    -17.162      0.000      -0.019      -0.015\n",
      "x7            -0.0012    6.4e-05    -18.319      0.000      -0.001      -0.001\n",
      "x8            -0.1625      0.014    -11.783      0.000      -0.190      -0.135\n",
      "x9            -0.1498      0.017     -8.961      0.000      -0.183      -0.117\n",
      "x10           -0.1753      0.014    -12.214      0.000      -0.203      -0.147\n",
      "x11            0.7052      0.012     57.706      0.000       0.681       0.729\n",
      "x12            0.3471      0.015     22.731      0.000       0.317       0.377\n",
      "x13            0.2699      0.009     29.069      0.000       0.252       0.288\n",
      "x14            0.2713      0.016     16.657      0.000       0.239       0.303\n",
      "x15            0.2972      0.012     25.704      0.000       0.275       0.320\n",
      "x16            0.2118      0.023      9.193      0.000       0.167       0.257\n",
      "x17            0.1082      0.014      7.784      0.000       0.081       0.136\n",
      "x18            0.2428      0.021     11.813      0.000       0.203       0.283\n",
      "x19            0.1552      0.016      9.545      0.000       0.123       0.187\n",
      "x20            0.1173      0.023      5.005      0.000       0.071       0.163\n",
      "x21           -0.2046      0.013    -16.211      0.000      -0.229      -0.180\n",
      "x22            0.3321      0.023     14.486      0.000       0.287       0.377\n",
      "x23            0.2493      0.010     24.044      0.000       0.229       0.270\n",
      "x24            0.0616      0.012      5.292      0.000       0.039       0.084\n",
      "x25            0.3200      0.012     27.195      0.000       0.297       0.343\n",
      "x26           -0.1714      0.014    -12.547      0.000      -0.198      -0.145\n",
      "x27           -0.1820      0.012    -14.587      0.000      -0.206      -0.158\n",
      "x28           -0.2668      0.018    -15.060      0.000      -0.302      -0.232\n",
      "x29            0.4048      0.010     40.476      0.000       0.385       0.424\n",
      "x30            0.1741      0.009     19.939      0.000       0.157       0.191\n",
      "x31            0.0266      0.013      2.027      0.043       0.001       0.052\n",
      "x32            0.8939      0.028     32.272      0.000       0.840       0.948\n",
      "x33            0.4722      0.013     36.864      0.000       0.447       0.497\n",
      "x34           -0.1012      0.012     -8.609      0.000      -0.124      -0.078\n",
      "x35            0.3149      0.021     14.959      0.000       0.274       0.356\n",
      "x36            0.2937      0.009     34.506      0.000       0.277       0.310\n",
      "x37            0.3551      0.011     32.849      0.000       0.334       0.376\n",
      "x38           -0.1846      0.012    -15.588      0.000      -0.208      -0.161\n",
      "x39           -0.0170      0.010     -1.704      0.088      -0.037       0.003\n",
      "x40           -0.1100      0.010    -11.350      0.000      -0.129      -0.091\n",
      "x41            0.0378      0.009      4.002      0.000       0.019       0.056\n",
      "x42            0.2606      0.016     16.519      0.000       0.230       0.292\n",
      "x43            0.1879      0.018     10.456      0.000       0.153       0.223\n",
      "x44            0.2068      0.012     17.180      0.000       0.183       0.230\n",
      "x45            0.2573      0.010     26.177      0.000       0.238       0.277\n",
      "x46            0.2975      0.011     26.739      0.000       0.276       0.319\n",
      "x47            0.2447      0.015     16.857      0.000       0.216       0.273\n",
      "x48           -0.1018      0.015     -6.725      0.000      -0.131      -0.072\n",
      "x49            0.4091      0.021     19.615      0.000       0.368       0.450\n",
      "x50            0.3370      0.010     32.129      0.000       0.316       0.358\n",
      "x51            0.4530      0.014     31.418      0.000       0.425       0.481\n",
      "x52           -0.1012      0.012     -8.120      0.000      -0.126      -0.077\n",
      "x53            0.3551      0.014     26.014      0.000       0.328       0.382\n",
      "x54           -0.1207      0.016     -7.666      0.000      -0.152      -0.090\n",
      "x55            0.4362      0.020     21.379      0.000       0.396       0.476\n",
      "x56            0.5125      0.015     34.613      0.000       0.483       0.542\n",
      "x57            0.3508      0.010     35.032      0.000       0.331       0.370\n",
      "x58            0.2562      0.013     19.422      0.000       0.230       0.282\n",
      "x59            0.3532      0.010     35.044      0.000       0.333       0.373\n",
      "x60            0.0024      0.011      0.224      0.823      -0.018       0.023\n",
      "x61            0.4260      0.017     25.680      0.000       0.393       0.458\n",
      "x62            0.2613      0.015     17.608      0.000       0.232       0.290\n",
      "x63            0.1555      0.010     14.947      0.000       0.135       0.176\n",
      "x64            0.0921      0.012      7.486      0.000       0.068       0.116\n",
      "x65            0.0781      0.009      8.391      0.000       0.060       0.096\n",
      "x66            0.2219      0.013     16.639      0.000       0.196       0.248\n",
      "x67            0.1486      0.014     10.782      0.000       0.122       0.176\n",
      "x68           -0.1130      0.012     -9.302      0.000      -0.137      -0.089\n",
      "x69           -0.1750      0.025     -6.966      0.000      -0.224      -0.126\n",
      "x70            0.0798      0.009      8.531      0.000       0.061       0.098\n",
      "x71           -0.0159      0.012     -1.305      0.192      -0.040       0.008\n",
      "x72           -0.3043      0.012    -24.815      0.000      -0.328      -0.280\n",
      "x73            0.1964      0.012     15.969      0.000       0.172       0.221\n",
      "x74           -0.2427      0.012    -19.710      0.000      -0.267      -0.219\n",
      "x75           -0.2385      0.016    -14.549      0.000      -0.271      -0.206\n",
      "x76           -0.2004      0.012    -16.563      0.000      -0.224      -0.177\n",
      "x77            0.3529      0.013     26.850      0.000       0.327       0.379\n",
      "==============================================================================\n",
      "Omnibus:                     1314.026   Durbin-Watson:                   2.004\n",
      "Prob(Omnibus):                  0.000   Jarque-Bera (JB):             5980.811\n",
      "Skew:                           0.019   Prob(JB):                         0.00\n",
      "Kurtosis:                       5.578   Cond. No.                     1.82e+19\n",
      "==============================================================================\n",
      "\n",
      "Warnings:\n",
      "[1] Standard Errors assume that the covariance matrix of the errors is correctly specified.\n",
      "[2] The smallest eigenvalue is 2.53e-28. This might indicate that there are\n",
      "strong multicollinearity problems or that the design matrix is singular.\n"
     ]
    }
   ],
   "source": [
    "statsmodels_lin_regress_summary(df6_zips)"
   ]
  },
  {
   "cell_type": "code",
   "execution_count": 85,
   "metadata": {},
   "outputs": [
    {
     "name": "stdout",
     "output_type": "stream",
     "text": [
      "Results of Sklearn's Train-Test-Split below:\n",
      "Array of coefficients: [ 1.73489642e-01  1.21810804e-01  5.35623245e-02  2.19277659e-02\n",
      "  6.33444334e-02 -1.13255526e-01 -3.27535074e-02 -3.92785395e+10\n",
      " -2.92737595e+10 -3.46583138e+10 -3.68451912e+10 -2.69166474e+10\n",
      " -4.59844481e+10 -2.46745538e+10 -3.48410368e+10 -2.07995673e+10\n",
      " -2.89807658e+10 -2.31484852e+10 -2.86101462e+10 -3.16507945e+10\n",
      " -4.60295033e+10 -1.86123506e+10 -4.19110184e+10 -3.48410368e+10\n",
      " -3.70734394e+10 -3.31583367e+10 -3.42279613e+10 -2.32410972e+10\n",
      " -4.28959590e+10 -4.80518711e+10 -4.99017037e+10 -1.47246093e+10\n",
      " -3.47802416e+10 -4.81376721e+10 -3.07645162e+10 -4.92797689e+10\n",
      " -4.14595286e+10 -3.39170456e+10 -4.16106130e+10 -4.39991315e+10\n",
      " -4.46095425e+10 -3.63260654e+10 -2.24892743e+10 -3.42279613e+10\n",
      " -4.33312727e+10 -3.91714280e+10 -2.92007971e+10 -3.87398128e+10\n",
      " -2.12095063e+10 -5.04337843e+10 -3.13808751e+10 -3.78608040e+10\n",
      " -3.37918367e+10 -2.83100293e+10 -2.17108396e+10 -3.39794682e+10\n",
      " -4.96539740e+10 -3.75816165e+10 -4.83940628e+10 -4.63882128e+10\n",
      " -2.81587286e+10 -3.52635088e+10 -4.17611075e+10 -3.89022685e+10\n",
      " -4.57584411e+10 -3.36031036e+10 -3.83029982e+10 -3.51433494e+10\n",
      " -1.57190266e+10 -4.35710728e+10 -3.30301056e+10 -3.39794682e+10\n",
      " -3.30942863e+10 -3.35399446e+10 -2.42359363e+10 -3.46583138e+10\n",
      " -3.68451912e+10]\n",
      "R-squared:0.8674360619884343\n",
      "Mean Absolute Error (MAE): 79099.88029900924\n",
      "Mean Squared Error (MSE): 25225471835.24934\n",
      "Root Mean Squared Error (RMSE): $158825.2871404593\n"
     ]
    },
    {
     "name": "stderr",
     "output_type": "stream",
     "text": [
      "/Users/krex/anaconda3/lib/python3.7/site-packages/sklearn/preprocessing/data.py:625: DataConversionWarning: Data with input dtype uint8, int64, float64 were all converted to float64 by StandardScaler.\n",
      "  return self.partial_fit(X, y)\n",
      "/Users/krex/anaconda3/lib/python3.7/site-packages/sklearn/base.py:462: DataConversionWarning: Data with input dtype uint8, int64, float64 were all converted to float64 by StandardScaler.\n",
      "  return self.fit(X, **fit_params).transform(X)\n"
     ]
    }
   ],
   "source": [
    "sklearn_lin_regress_summary(df6_zips)"
   ]
  },
  {
   "cell_type": "code",
   "execution_count": 86,
   "metadata": {},
   "outputs": [
    {
     "name": "stdout",
     "output_type": "stream",
     "text": [
      " Our average training MAE when k=5 is:78550.34817805175\n",
      " Our average training MSE when k=5 is:21550732052.56489\n",
      " Our average training RMSE when k=5 is:146801.6759187881\n"
     ]
    }
   ],
   "source": [
    "k_folds_error_summary(df6_zips,5)"
   ]
  },
  {
   "cell_type": "markdown",
   "metadata": {},
   "source": [
    "## Observations\n",
    "- Adding zip_dummies improved our metrics across the board. It was a catergorical varible that now has numerical qualities that our model can utilize. \n",
    "- our current r-squared is now 0.867! An improvement from 0.738"
   ]
  },
  {
   "cell_type": "markdown",
   "metadata": {},
   "source": [
    "## TEST[7] \n",
    "- This dataframe now incorporates distances from bellevue, and we created a new column named \"distance_from_epicenter\" to give the shortest distance from either Seattle or Bellevue, two of the major cities of the area. "
   ]
  },
  {
   "cell_type": "code",
   "execution_count": 121,
   "metadata": {},
   "outputs": [],
   "source": [
    "df7 = pd.read_csv('last_test.csv')"
   ]
  },
  {
   "cell_type": "code",
   "execution_count": 118,
   "metadata": {},
   "outputs": [],
   "source": [
    "df7 =df7.drop(columns='sqft_lot15')"
   ]
  },
  {
   "cell_type": "code",
   "execution_count": 119,
   "metadata": {},
   "outputs": [
    {
     "data": {
      "text/html": [
       "<div>\n",
       "<style scoped>\n",
       "    .dataframe tbody tr th:only-of-type {\n",
       "        vertical-align: middle;\n",
       "    }\n",
       "\n",
       "    .dataframe tbody tr th {\n",
       "        vertical-align: top;\n",
       "    }\n",
       "\n",
       "    .dataframe thead th {\n",
       "        text-align: right;\n",
       "    }\n",
       "</style>\n",
       "<table border=\"1\" class=\"dataframe\">\n",
       "  <thead>\n",
       "    <tr style=\"text-align: right;\">\n",
       "      <th></th>\n",
       "      <th>log_price</th>\n",
       "      <th>log_sqft_living</th>\n",
       "      <th>grade</th>\n",
       "      <th>log_sqft_living15</th>\n",
       "      <th>bathrooms</th>\n",
       "      <th>view</th>\n",
       "      <th>yr_last_constructed</th>\n",
       "      <th>waterfront</th>\n",
       "      <th>distance_from_epicenter</th>\n",
       "      <th>98001</th>\n",
       "      <th>...</th>\n",
       "      <th>98146</th>\n",
       "      <th>98148</th>\n",
       "      <th>98155</th>\n",
       "      <th>98166</th>\n",
       "      <th>98168</th>\n",
       "      <th>98177</th>\n",
       "      <th>98178</th>\n",
       "      <th>98188</th>\n",
       "      <th>98198</th>\n",
       "      <th>98199</th>\n",
       "    </tr>\n",
       "  </thead>\n",
       "  <tbody>\n",
       "    <tr>\n",
       "      <th>0</th>\n",
       "      <td>12.309982</td>\n",
       "      <td>7.073270</td>\n",
       "      <td>7</td>\n",
       "      <td>7.200425</td>\n",
       "      <td>1.00</td>\n",
       "      <td>0.0</td>\n",
       "      <td>1955.0</td>\n",
       "      <td>0.0</td>\n",
       "      <td>7.622786</td>\n",
       "      <td>0</td>\n",
       "      <td>...</td>\n",
       "      <td>0</td>\n",
       "      <td>0</td>\n",
       "      <td>0</td>\n",
       "      <td>0</td>\n",
       "      <td>0</td>\n",
       "      <td>0</td>\n",
       "      <td>1</td>\n",
       "      <td>0</td>\n",
       "      <td>0</td>\n",
       "      <td>0</td>\n",
       "    </tr>\n",
       "    <tr>\n",
       "      <th>1</th>\n",
       "      <td>13.195614</td>\n",
       "      <td>7.851661</td>\n",
       "      <td>7</td>\n",
       "      <td>7.432484</td>\n",
       "      <td>2.25</td>\n",
       "      <td>0.0</td>\n",
       "      <td>1991.0</td>\n",
       "      <td>0.0</td>\n",
       "      <td>7.766476</td>\n",
       "      <td>0</td>\n",
       "      <td>...</td>\n",
       "      <td>0</td>\n",
       "      <td>0</td>\n",
       "      <td>0</td>\n",
       "      <td>0</td>\n",
       "      <td>0</td>\n",
       "      <td>0</td>\n",
       "      <td>0</td>\n",
       "      <td>0</td>\n",
       "      <td>0</td>\n",
       "      <td>0</td>\n",
       "    </tr>\n",
       "    <tr>\n",
       "      <th>2</th>\n",
       "      <td>12.100712</td>\n",
       "      <td>6.646391</td>\n",
       "      <td>6</td>\n",
       "      <td>7.908387</td>\n",
       "      <td>1.00</td>\n",
       "      <td>0.0</td>\n",
       "      <td>1933.0</td>\n",
       "      <td>0.0</td>\n",
       "      <td>8.561145</td>\n",
       "      <td>0</td>\n",
       "      <td>...</td>\n",
       "      <td>0</td>\n",
       "      <td>0</td>\n",
       "      <td>0</td>\n",
       "      <td>0</td>\n",
       "      <td>0</td>\n",
       "      <td>0</td>\n",
       "      <td>0</td>\n",
       "      <td>0</td>\n",
       "      <td>0</td>\n",
       "      <td>0</td>\n",
       "    </tr>\n",
       "    <tr>\n",
       "      <th>3</th>\n",
       "      <td>13.311329</td>\n",
       "      <td>7.580700</td>\n",
       "      <td>7</td>\n",
       "      <td>7.215240</td>\n",
       "      <td>3.00</td>\n",
       "      <td>0.0</td>\n",
       "      <td>1965.0</td>\n",
       "      <td>0.0</td>\n",
       "      <td>6.655340</td>\n",
       "      <td>0</td>\n",
       "      <td>...</td>\n",
       "      <td>0</td>\n",
       "      <td>0</td>\n",
       "      <td>0</td>\n",
       "      <td>0</td>\n",
       "      <td>0</td>\n",
       "      <td>0</td>\n",
       "      <td>0</td>\n",
       "      <td>0</td>\n",
       "      <td>0</td>\n",
       "      <td>0</td>\n",
       "    </tr>\n",
       "    <tr>\n",
       "      <th>4</th>\n",
       "      <td>13.142166</td>\n",
       "      <td>7.426549</td>\n",
       "      <td>8</td>\n",
       "      <td>7.495542</td>\n",
       "      <td>2.00</td>\n",
       "      <td>0.0</td>\n",
       "      <td>1987.0</td>\n",
       "      <td>0.0</td>\n",
       "      <td>7.402273</td>\n",
       "      <td>0</td>\n",
       "      <td>...</td>\n",
       "      <td>0</td>\n",
       "      <td>0</td>\n",
       "      <td>0</td>\n",
       "      <td>0</td>\n",
       "      <td>0</td>\n",
       "      <td>0</td>\n",
       "      <td>0</td>\n",
       "      <td>0</td>\n",
       "      <td>0</td>\n",
       "      <td>0</td>\n",
       "    </tr>\n",
       "  </tbody>\n",
       "</table>\n",
       "<p>5 rows × 79 columns</p>\n",
       "</div>"
      ],
      "text/plain": [
       "   log_price  log_sqft_living  grade  log_sqft_living15  bathrooms  view  \\\n",
       "0  12.309982         7.073270      7           7.200425       1.00   0.0   \n",
       "1  13.195614         7.851661      7           7.432484       2.25   0.0   \n",
       "2  12.100712         6.646391      6           7.908387       1.00   0.0   \n",
       "3  13.311329         7.580700      7           7.215240       3.00   0.0   \n",
       "4  13.142166         7.426549      8           7.495542       2.00   0.0   \n",
       "\n",
       "   yr_last_constructed  waterfront  distance_from_epicenter  98001  ...    \\\n",
       "0               1955.0         0.0                 7.622786      0  ...     \n",
       "1               1991.0         0.0                 7.766476      0  ...     \n",
       "2               1933.0         0.0                 8.561145      0  ...     \n",
       "3               1965.0         0.0                 6.655340      0  ...     \n",
       "4               1987.0         0.0                 7.402273      0  ...     \n",
       "\n",
       "   98146  98148  98155  98166  98168  98177  98178  98188  98198  98199  \n",
       "0      0      0      0      0      0      0      1      0      0      0  \n",
       "1      0      0      0      0      0      0      0      0      0      0  \n",
       "2      0      0      0      0      0      0      0      0      0      0  \n",
       "3      0      0      0      0      0      0      0      0      0      0  \n",
       "4      0      0      0      0      0      0      0      0      0      0  \n",
       "\n",
       "[5 rows x 79 columns]"
      ]
     },
     "execution_count": 119,
     "metadata": {},
     "output_type": "execute_result"
    }
   ],
   "source": [
    "df7.head()"
   ]
  },
  {
   "cell_type": "code",
   "execution_count": 113,
   "metadata": {},
   "outputs": [
    {
     "name": "stdout",
     "output_type": "stream",
     "text": [
      "Results of Sklearn's Train-Test-Split below:\n",
      "Array of coefficients: [ 1.72702468e-01  1.19050293e-01  5.39751793e-02  2.17051509e-02\n",
      "  4.80784620e-02 -3.06826111e-02  4.01731981e-02  2.31114387e-02\n",
      " -1.15658857e-01 -4.68563871e+11 -3.49214260e+11 -4.13448002e+11\n",
      " -4.39535829e+11 -3.21095658e+11 -5.48560392e+11 -2.94349143e+11\n",
      " -4.15627752e+11 -2.48123425e+11 -3.45719061e+11 -2.76144275e+11\n",
      " -3.41297844e+11 -3.77570526e+11 -5.49097867e+11 -2.22031551e+11\n",
      " -4.99967394e+11 -4.15627752e+11 -4.42258661e+11 -3.95554387e+11\n",
      " -4.08314215e+11 -2.77249068e+11 -5.11717005e+11 -5.73223216e+11\n",
      " -5.95290349e+11 -1.75653678e+11 -4.14902510e+11 -5.74246759e+11\n",
      " -3.66997883e+11 -5.87871128e+11 -4.94581455e+11 -4.04605222e+11\n",
      " -4.96383780e+11 -5.24877036e+11 -5.32158787e+11 -4.33343043e+11\n",
      " -2.68280378e+11 -4.08314215e+11 -5.16909976e+11 -4.67286110e+11\n",
      " -3.48343871e+11 -4.62137261e+11 -2.53013695e+11 -6.01637676e+11\n",
      " -3.74350587e+11 -4.51651337e+11 -4.03111572e+11 -3.37717673e+11\n",
      " -2.58994229e+11 -4.05349877e+11 -5.92335117e+11 -4.48320838e+11\n",
      " -5.77305310e+11 -5.53377006e+11 -3.35912767e+11 -4.20667530e+11\n",
      " -4.98179068e+11 -4.64075237e+11 -5.45864296e+11 -4.00860127e+11\n",
      " -4.56926386e+11 -4.19234117e+11 -1.87516340e+11 -5.19770613e+11\n",
      " -3.94024685e+11 -4.05349877e+11 -3.94790313e+11 -4.00106686e+11\n",
      " -2.89116762e+11 -4.13448002e+11 -4.39535829e+11]\n",
      "R-squared:0.8752604567506429\n",
      "Mean Absolute Error (MAE): 76418.82594256615\n",
      "Mean Squared Error (MSE): 20972233605.932903\n",
      "Root Mean Squared Error (RMSE): $144817.93261172078\n"
     ]
    },
    {
     "name": "stderr",
     "output_type": "stream",
     "text": [
      "/Users/krex/anaconda3/lib/python3.7/site-packages/sklearn/preprocessing/data.py:625: DataConversionWarning: Data with input dtype int64, float64 were all converted to float64 by StandardScaler.\n",
      "  return self.partial_fit(X, y)\n",
      "/Users/krex/anaconda3/lib/python3.7/site-packages/sklearn/base.py:462: DataConversionWarning: Data with input dtype int64, float64 were all converted to float64 by StandardScaler.\n",
      "  return self.fit(X, **fit_params).transform(X)\n"
     ]
    }
   ],
   "source": [
    "sklearn_lin_regress_summary(df7) #EVERYTHING"
   ]
  },
  {
   "cell_type": "code",
   "execution_count": 116,
   "metadata": {},
   "outputs": [
    {
     "name": "stdout",
     "output_type": "stream",
     "text": [
      "Results of Sklearn's Train-Test-Split below:\n",
      "Array of coefficients: [ 1.71563655e-01  1.20153760e-01  5.19157259e-02  2.25140012e-02\n",
      "  6.28332012e-02 -3.05191070e-02  2.22966837e-02 -1.16369171e-01\n",
      "  3.51873198e+10  2.62246294e+10  3.10483330e+10  3.30074270e+10\n",
      "  2.41130320e+10  4.11947467e+10  2.21044730e+10  3.12120237e+10\n",
      "  1.86331018e+10  2.59621536e+10  2.07373584e+10  2.56301374e+10\n",
      "  2.83540744e+10  4.12351089e+10  1.66737038e+10  3.75456019e+10\n",
      "  3.12120237e+10  3.32119011e+10  2.97045922e+10  3.06628056e+10\n",
      "  2.08203241e+10  3.84279519e+10  4.30468286e+10  4.47039842e+10\n",
      "  1.31909064e+10  3.11575608e+10  4.31236927e+10  2.75601101e+10\n",
      "  4.41468296e+10  3.71411389e+10  3.03842747e+10  3.72764865e+10\n",
      "  3.94162189e+10  3.99630501e+10  3.25423730e+10  2.01468104e+10\n",
      "  3.06628056e+10  3.88179238e+10  3.50913650e+10  2.61592666e+10\n",
      "  3.47047065e+10  1.90003420e+10  4.51806437e+10  2.81122695e+10\n",
      "  3.39172544e+10  3.02721074e+10  2.53612805e+10  1.94494568e+10\n",
      "  3.04401953e+10  4.44820578e+10  3.36671469e+10  4.33533779e+10\n",
      "  4.15564556e+10  2.52257391e+10  3.15904914e+10  3.74113056e+10\n",
      "  3.48502409e+10  4.09922803e+10  3.01030326e+10  3.43133901e+10\n",
      "  3.14828476e+10  1.40817460e+10  3.90327465e+10  2.95897175e+10\n",
      "  3.04401953e+10  2.96472132e+10  3.00464521e+10  2.17115416e+10\n",
      "  3.10483330e+10  3.30074270e+10]\n",
      "R-squared:0.8695743367525086\n",
      "Mean Absolute Error (MAE): 78888.94205602654\n",
      "Mean Squared Error (MSE): 25418905915.772594\n",
      "Root Mean Squared Error (RMSE): $159433.0766051154\n"
     ]
    },
    {
     "name": "stderr",
     "output_type": "stream",
     "text": [
      "/Users/krex/anaconda3/lib/python3.7/site-packages/sklearn/preprocessing/data.py:625: DataConversionWarning: Data with input dtype int64, float64 were all converted to float64 by StandardScaler.\n",
      "  return self.partial_fit(X, y)\n",
      "/Users/krex/anaconda3/lib/python3.7/site-packages/sklearn/base.py:462: DataConversionWarning: Data with input dtype int64, float64 were all converted to float64 by StandardScaler.\n",
      "  return self.fit(X, **fit_params).transform(X)\n"
     ]
    }
   ],
   "source": [
    "sklearn_lin_regress_summary(df7) #dropped waterfront, everything got worse, keep it"
   ]
  },
  {
   "cell_type": "code",
   "execution_count": 120,
   "metadata": {},
   "outputs": [
    {
     "name": "stdout",
     "output_type": "stream",
     "text": [
      "Results of Sklearn's Train-Test-Split below:\n",
      "Array of coefficients: [ 1.74226066e-01  1.20519377e-01  5.53336980e-02  2.14963530e-02\n",
      "  4.85443155e-02 -3.21905864e-02  3.91596558e-02 -1.13455604e-01\n",
      "  5.61542929e+10  4.18510283e+10  4.95490191e+10  5.26754733e+10\n",
      "  3.84811991e+10  6.57413489e+10  3.52758055e+10  4.98102477e+10\n",
      "  2.97359578e+10  4.14321518e+10  3.30940720e+10  4.09022980e+10\n",
      "  4.52493399e+10  6.58057617e+10  2.66090186e+10  5.99177981e+10\n",
      "  4.98102477e+10  5.30017867e+10  4.74045872e+10  4.89337686e+10\n",
      "  3.32264742e+10  6.13259117e+10  6.86970258e+10  7.13416263e+10\n",
      "  2.10509360e+10  4.97233323e+10  6.88196907e+10  4.39822783e+10\n",
      "  7.04524815e+10  5.92723289e+10  4.84892702e+10  5.94883257e+10\n",
      "  6.29030547e+10  6.37757246e+10  5.19333087e+10  3.21516357e+10\n",
      "  4.89337686e+10  6.19482550e+10  5.60011617e+10  4.17467180e+10\n",
      "  5.53841060e+10  3.03220244e+10  7.21023116e+10  4.48634515e+10\n",
      "  5.41274371e+10  4.83102661e+10  4.04732380e+10  3.10387519e+10\n",
      "  4.85785122e+10  7.09874613e+10  5.37282987e+10  6.91862379e+10\n",
      "  6.63185883e+10  4.02569319e+10  5.04142320e+10  5.97034791e+10\n",
      "  5.56163597e+10  6.54182394e+10  4.80404451e+10  5.47596169e+10\n",
      "  5.02424469e+10  2.24725979e+10  6.22910835e+10  4.72212625e+10\n",
      "  4.85785122e+10  4.73130180e+10  4.79501503e+10  3.46487391e+10\n",
      "  4.95490191e+10  5.26754733e+10]\n",
      "R-squared:0.8734405082099869\n",
      "Mean Absolute Error (MAE): 76567.13678722776\n",
      "Mean Squared Error (MSE): 20982784802.938828\n",
      "Root Mean Squared Error (RMSE): $144854.35721074746\n"
     ]
    },
    {
     "name": "stderr",
     "output_type": "stream",
     "text": [
      "/Users/krex/anaconda3/lib/python3.7/site-packages/sklearn/preprocessing/data.py:625: DataConversionWarning: Data with input dtype int64, float64 were all converted to float64 by StandardScaler.\n",
      "  return self.partial_fit(X, y)\n",
      "/Users/krex/anaconda3/lib/python3.7/site-packages/sklearn/base.py:462: DataConversionWarning: Data with input dtype int64, float64 were all converted to float64 by StandardScaler.\n",
      "  return self.fit(X, **fit_params).transform(X)\n"
     ]
    }
   ],
   "source": [
    "sklearn_lin_regress_summary(df7) #dropped sqft_lot15"
   ]
  },
  {
   "cell_type": "code",
   "execution_count": 131,
   "metadata": {},
   "outputs": [
    {
     "data": {
      "text/plain": [
       "<matplotlib.axes._subplots.AxesSubplot at 0x1c25db1048>"
      ]
     },
     "execution_count": 131,
     "metadata": {},
     "output_type": "execute_result"
    },
    {
     "data": {
      "image/png": "[encoded data removed]",
      "text/plain": [
       "<Figure size 792x648 with 2 Axes>"
      ]
     },
     "metadata": {},
     "output_type": "display_data"
    }
   ],
   "source": [
    "df7_heat = df7[['log_price','log_sqft_living', 'grade', 'log_sqft_living15', 'bathrooms',\n",
    "    'view','yr_last_constructed','waterfront','sqft_lot15','distance_from_epicenter']]\n",
    "\n",
    "\n",
    "corr = df7_heat.corr()\n",
    "mask = np.zeros_like(corr)\n",
    "mask[np.triu_indices_from(mask)] = True\n",
    "\n",
    "f, ax = plt.subplots(figsize=(11, 9))\n",
    "#There are six variations of the default theme, called deep, muted, pastel, bright, dark, and colorblind.\n",
    "#cmap=\"PiYG\"\n",
    "cmap=\"coolwarm\"\n",
    "#cmap = sns.palplot(sns.dark_palette(\"purple\"))\n",
    "#cmap = sns.dark_palette(\"muted\", as_cmap=True)\n",
    "sns.heatmap(corr, mask=mask, cmap=cmap, vmax=1, center=0,\n",
    "            square=True, linewidths=.5,annot=True, cbar_kws={\"shrink\": .5})"
   ]
  },
  {
   "cell_type": "code",
   "execution_count": null,
   "metadata": {},
   "outputs": [],
   "source": []
  }
 ],
 "metadata": {
  "kernelspec": {
   "display_name": "Python [conda env:root]",
   "language": "python",
   "name": "conda-root-py"
  },
  "language_info": {
   "codemirror_mode": {
    "name": "ipython",
    "version": 3
   },
   "file_extension": ".py",
   "mimetype": "text/x-python",
   "name": "python",
   "nbconvert_exporter": "python",
   "pygments_lexer": "ipython3",
   "version": "3.7.1"
  }
 },
 "nbformat": 4,
 "nbformat_minor": 2
}
